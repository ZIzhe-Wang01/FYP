{
 "cells": [
  {
   "cell_type": "code",
   "execution_count": null,
   "id": "bf7554a7",
   "metadata": {},
   "outputs": [],
   "source": [
    "from os import walk\n",
    "import tarfile\n",
    "#解压csv文件\n",
    "tar_file = []\n",
    "mypath = \"D:\\\\fyp\\\\predataset\"#对应文件的路径\n",
    "for (dirpath, dirnames, filenames) in walk(mypath):\n",
    "    tar_file.extend(filenames)\n",
    "    break\n",
    "\n",
    "for word in tar_file:\n",
    "    filename = mypath + \"\\\\\" + word\n",
    "    tf = tarfile.open(filename)\n",
    "    tf.extractall('D:/fyp/dataset')"
   ]
  },
  {
   "cell_type": "code",
   "execution_count": 1,
   "id": "a4f09f5d",
   "metadata": {},
   "outputs": [],
   "source": [
    "import pandas as pd\n",
    "data_12 = pd.read_csv('D:/fyp/dataset/2020-12.csv')"
   ]
  },
  {
   "cell_type": "code",
   "execution_count": 36,
   "id": "c42b32d0",
   "metadata": {},
   "outputs": [
    {
     "data": {
      "text/plain": [
       "'我爱学习study_palu# 学 血常习hi是谁111'"
      ]
     },
     "execution_count": 36,
     "metadata": {},
     "output_type": "execute_result"
    }
   ],
   "source": [
    "a = \"我爱学习study_palu# 学✅血常习hi是谁111\"\n",
    "b = re.sub(r'[^\\w+#]',\" \",a)\n",
    "b"
   ]
  },
  {
   "cell_type": "code",
   "execution_count": 2,
   "id": "9a385c98",
   "metadata": {},
   "outputs": [],
   "source": [
    "#预处理\n",
    "import jieba\n",
    "import re\n",
    "import emoji\n",
    "\n",
    "#正则清洗\n",
    "def clean_re(text):\n",
    "    new_text =  re.sub(r'[^\\w+#]',\" \",text)\n",
    "    new_text = re.sub(r\"[A-Za-z0-9_.!+-=——,$%^，。？、~@￥%……&*《》<>「」{}【】()/]\", \" \",new_text)\n",
    "    new_text = re.sub(r\"(回复)?(//)?\\s*@\\S*?\\s*(:| |$)\", \" \", new_text)  # 去除正文中的@和回复/转发中的用户名\n",
    "    new_text = emoji.demojize(new_text)\n",
    "    new_text = re.sub(r\"\\[\\S+\\]\", \"\",new_text)      # 去除表情符号\n",
    "    #new_text = re.sub(r\"#\\S+#\", \"\", new_text)      # 保留话题内容\n",
    "    URL_REGEX = re.compile(r'(?i)\\b((?:https?://|www\\d{0,3}[.]|[a-z0-9.\\-]+[.][a-z]{2,4}/)(?:[^\\s()<>]+|\\(([^\\s()<>]+|(\\([^\\s()<>]+\\)))*\\))+(?:\\(([^\\s()<>]+|(\\([^\\s()<>]+\\)))*\\)|[^\\s`!()\\[\\]{};:\\'\".,<>?«»“”‘’]))',re.IGNORECASE)\n",
    "    new_text = re.sub(URL_REGEX, \"\",new_text)       # 去除网址\n",
    "    new_text = new_text.replace(\"转发微博\", \"\")       # 去除无意义的词语\n",
    "    new_text = new_text.replace(\"转存\", \"\")       # 去除无意义的词语\n",
    "    new_text = new_text.replace(\"超话\", \"\")       # 去除无意义的词语\n",
    "    new_text = re.sub(r\"\\s+\", \" \",new_text) # 合并正文中过多的空格\n",
    "    new_text = new_text.strip()\n",
    "    return new_text\n",
    "\n",
    "\n",
    "#读入停用词\n",
    "def stopwords_list(path):\n",
    "    stopwords = [line.strip() for line in open(filepath, 'r', encoding='utf-8').readlines()]\n",
    "    return stopwords\n",
    "\n",
    "#分词+去除停用词\n",
    "def cut_move(text):\n",
    "    wlist = jieba.cut(text)\n",
    "    words = [w for w in wlist if w not in stopwords]\n",
    "    return \" \".join(words)\n",
    "\n",
    "\n",
    "filepath = 'D:/fyp/stopwords.txt'\n",
    "stopwords = stopwords_list(filepath) #读入停用词\n",
    "\n"
   ]
  },
  {
   "cell_type": "code",
   "execution_count": 3,
   "id": "6deb895b",
   "metadata": {},
   "outputs": [],
   "source": [
    "# 正则清洗\n",
    "data_12['clean_review'] = data_12.content.apply(clean_re)"
   ]
  },
  {
   "cell_type": "code",
   "execution_count": 4,
   "id": "6721648b",
   "metadata": {
    "scrolled": true
   },
   "outputs": [
    {
     "name": "stderr",
     "output_type": "stream",
     "text": [
      "Building prefix dict from the default dictionary ...\n",
      "Loading model from cache C:\\Users\\86199\\AppData\\Local\\Temp\\jieba.cache\n",
      "Loading model cost 1.404 seconds.\n",
      "Prefix dict has been built successfully.\n"
     ]
    }
   ],
   "source": [
    "data_12['corpus'] = data_12.clean_review.apply(cut_move)"
   ]
  },
  {
   "cell_type": "code",
   "execution_count": 5,
   "id": "ed680fdd",
   "metadata": {},
   "outputs": [],
   "source": [
    "data_12['corpus'].to_csv(\"D:/fyp/corpus_12.csv\",sep=',',index=False)"
   ]
  },
  {
   "cell_type": "code",
   "execution_count": 9,
   "id": "d3de25da",
   "metadata": {},
   "outputs": [],
   "source": [
    "import pickle\n",
    "# 保存每条分词结果的list, 每个元素是一个list\n",
    "comment_list1 = data['corpus'].tolist()\n",
    "comment_list = [str.split(\" \") for str in comment_list1]\n",
    "pickle.dump(comment_list, open('D:/fyp/content.pkl', 'wb'))# pickle.dump () 封装是一个将Python数据对象转化为字节流的过程"
   ]
  },
  {
   "cell_type": "code",
   "execution_count": 10,
   "id": "fc836c39",
   "metadata": {},
   "outputs": [
    {
     "data": {
      "text/plain": [
       "<wordcloud.wordcloud.WordCloud at 0x1ca62b9ffa0>"
      ]
     },
     "execution_count": 10,
     "metadata": {},
     "output_type": "execute_result"
    }
   ],
   "source": [
    "'''\n",
    "词云\n",
    "'''\n",
    "import wordcloud\n",
    "content = ''\n",
    "# 存储每个词语出现的次数\n",
    "word_dict = {}\n",
    "# print(len(content_comment))\n",
    "for i in comment_list:\n",
    "    try:\n",
    "        content += (' ' + ' '.join(i))\n",
    "        for word in i:\n",
    "            # 统计词频  一个字忽略\n",
    "            if len(word) < 2:\n",
    "                continue\n",
    "            if word_dict.get(word):\n",
    "                word_dict[word] += 1\n",
    "            else:\n",
    "                word_dict[word] = 1\n",
    "    except:\n",
    "        continue\n",
    "# 出现次数最多的50个词语\n",
    "top50words=list(word_dict.items())\n",
    "top50words.sort(key=lambda x:x[1],reverse=True)\n",
    "words50 = \"\"\n",
    "\n",
    "for i in range(50):\n",
    "    words50 += top50words[i][0] + ' '\n",
    "    # print(top50words[i][0], top50words[i][1])\n",
    "\n",
    "w = wordcloud.WordCloud(width=1000, font_path='./msyh.ttc', background_color='white', height=700, stopwords={\"知道\", \"觉得\", \"中国\", \"国家\", \"评论\", \"大家\", \"所有\", \"必须\", \"之前\", \"需要\", \"哈哈哈\", \"哈哈哈哈\", \"真的\", \"这种\", \"没有\", \"不会\", \"起来\", \"一点\", \"已经\", \"啊啊啊\", \"可能\", \"今天\", \"现在\", \"很多\", \"出来\", \"关注\", \"即可\", \"看到\", \"希望\"})\n",
    "w.generate(words50.strip())\n",
    "w.to_file('D:/fyp/wc_50.png')"
   ]
  },
  {
   "cell_type": "markdown",
   "id": "bbc52050",
   "metadata": {},
   "source": [
    "# 2. LDA主题模型分析"
   ]
  },
  {
   "cell_type": "code",
   "execution_count": 6,
   "id": "6cd88fb5",
   "metadata": {},
   "outputs": [],
   "source": [
    "import pandas as pd\n",
    "\n",
    "data = pd.read_csv(\"D:/fyp/corpus/corpus_0.csv\")"
   ]
  },
  {
   "cell_type": "code",
   "execution_count": 7,
   "id": "09010330",
   "metadata": {},
   "outputs": [],
   "source": [
    "from sklearn.feature_extraction.text import TfidfVectorizer, CountVectorizer\n",
    "from sklearn.decomposition import LatentDirichletAllocation"
   ]
  },
  {
   "cell_type": "code",
   "execution_count": 8,
   "id": "8983f819",
   "metadata": {},
   "outputs": [],
   "source": [
    "# 输出每个主题的关键词\n",
    "def print_top_words(model, feature_name, n_top_words):\n",
    "    tword = []\n",
    "    for topic_idx, topic in enumerate(model.components_):\n",
    "        print(\"Topic #%d\" % topic_idx)\n",
    "        topic_w = \" \".join([feature_name[i] for i in topic.argsort()[:-n_top_words - 1: -1]])\n",
    "        tword.append(topic_w)\n",
    "        print(topic_w)\n",
    "    return tword\n"
   ]
  },
  {
   "cell_type": "code",
   "execution_count": 10,
   "id": "2d80e88a",
   "metadata": {},
   "outputs": [],
   "source": [
    "# 提取1000个特征词语\n",
    "n_features = 1000\n",
    "tf_vectorizer = CountVectorizer(strip_accents='unicode',\n",
    "                                max_features=n_features,\n",
    "                                stop_words='english',\n",
    "                                max_df=0.5,\n",
    "                                min_df=10)\n",
    "tf = tf_vectorizer.fit_transform(data['corpus'].astype('U'))"
   ]
  },
  {
   "cell_type": "code",
   "execution_count": 11,
   "id": "116bbbe4",
   "metadata": {},
   "outputs": [
    {
     "data": {
      "text/html": [
       "<style>#sk-container-id-1 {color: black;background-color: white;}#sk-container-id-1 pre{padding: 0;}#sk-container-id-1 div.sk-toggleable {background-color: white;}#sk-container-id-1 label.sk-toggleable__label {cursor: pointer;display: block;width: 100%;margin-bottom: 0;padding: 0.3em;box-sizing: border-box;text-align: center;}#sk-container-id-1 label.sk-toggleable__label-arrow:before {content: \"▸\";float: left;margin-right: 0.25em;color: #696969;}#sk-container-id-1 label.sk-toggleable__label-arrow:hover:before {color: black;}#sk-container-id-1 div.sk-estimator:hover label.sk-toggleable__label-arrow:before {color: black;}#sk-container-id-1 div.sk-toggleable__content {max-height: 0;max-width: 0;overflow: hidden;text-align: left;background-color: #f0f8ff;}#sk-container-id-1 div.sk-toggleable__content pre {margin: 0.2em;color: black;border-radius: 0.25em;background-color: #f0f8ff;}#sk-container-id-1 input.sk-toggleable__control:checked~div.sk-toggleable__content {max-height: 200px;max-width: 100%;overflow: auto;}#sk-container-id-1 input.sk-toggleable__control:checked~label.sk-toggleable__label-arrow:before {content: \"▾\";}#sk-container-id-1 div.sk-estimator input.sk-toggleable__control:checked~label.sk-toggleable__label {background-color: #d4ebff;}#sk-container-id-1 div.sk-label input.sk-toggleable__control:checked~label.sk-toggleable__label {background-color: #d4ebff;}#sk-container-id-1 input.sk-hidden--visually {border: 0;clip: rect(1px 1px 1px 1px);clip: rect(1px, 1px, 1px, 1px);height: 1px;margin: -1px;overflow: hidden;padding: 0;position: absolute;width: 1px;}#sk-container-id-1 div.sk-estimator {font-family: monospace;background-color: #f0f8ff;border: 1px dotted black;border-radius: 0.25em;box-sizing: border-box;margin-bottom: 0.5em;}#sk-container-id-1 div.sk-estimator:hover {background-color: #d4ebff;}#sk-container-id-1 div.sk-parallel-item::after {content: \"\";width: 100%;border-bottom: 1px solid gray;flex-grow: 1;}#sk-container-id-1 div.sk-label:hover label.sk-toggleable__label {background-color: #d4ebff;}#sk-container-id-1 div.sk-serial::before {content: \"\";position: absolute;border-left: 1px solid gray;box-sizing: border-box;top: 0;bottom: 0;left: 50%;z-index: 0;}#sk-container-id-1 div.sk-serial {display: flex;flex-direction: column;align-items: center;background-color: white;padding-right: 0.2em;padding-left: 0.2em;position: relative;}#sk-container-id-1 div.sk-item {position: relative;z-index: 1;}#sk-container-id-1 div.sk-parallel {display: flex;align-items: stretch;justify-content: center;background-color: white;position: relative;}#sk-container-id-1 div.sk-item::before, #sk-container-id-1 div.sk-parallel-item::before {content: \"\";position: absolute;border-left: 1px solid gray;box-sizing: border-box;top: 0;bottom: 0;left: 50%;z-index: -1;}#sk-container-id-1 div.sk-parallel-item {display: flex;flex-direction: column;z-index: 1;position: relative;background-color: white;}#sk-container-id-1 div.sk-parallel-item:first-child::after {align-self: flex-end;width: 50%;}#sk-container-id-1 div.sk-parallel-item:last-child::after {align-self: flex-start;width: 50%;}#sk-container-id-1 div.sk-parallel-item:only-child::after {width: 0;}#sk-container-id-1 div.sk-dashed-wrapped {border: 1px dashed gray;margin: 0 0.4em 0.5em 0.4em;box-sizing: border-box;padding-bottom: 0.4em;background-color: white;}#sk-container-id-1 div.sk-label label {font-family: monospace;font-weight: bold;display: inline-block;line-height: 1.2em;}#sk-container-id-1 div.sk-label-container {text-align: center;}#sk-container-id-1 div.sk-container {/* jupyter's `normalize.less` sets `[hidden] { display: none; }` but bootstrap.min.css set `[hidden] { display: none !important; }` so we also need the `!important` here to be able to override the default hidden behavior on the sphinx rendered scikit-learn.org. See: https://github.com/scikit-learn/scikit-learn/issues/21755 */display: inline-block !important;position: relative;}#sk-container-id-1 div.sk-text-repr-fallback {display: none;}</style><div id=\"sk-container-id-1\" class=\"sk-top-container\"><div class=\"sk-text-repr-fallback\"><pre>LatentDirichletAllocation(doc_topic_prior=0.1, learning_offset=50, max_iter=50,\n",
       "                          random_state=0, topic_word_prior=0.01)</pre><b>In a Jupyter environment, please rerun this cell to show the HTML representation or trust the notebook. <br />On GitHub, the HTML representation is unable to render, please try loading this page with nbviewer.org.</b></div><div class=\"sk-container\" hidden><div class=\"sk-item\"><div class=\"sk-estimator sk-toggleable\"><input class=\"sk-toggleable__control sk-hidden--visually\" id=\"sk-estimator-id-1\" type=\"checkbox\" checked><label for=\"sk-estimator-id-1\" class=\"sk-toggleable__label sk-toggleable__label-arrow\">LatentDirichletAllocation</label><div class=\"sk-toggleable__content\"><pre>LatentDirichletAllocation(doc_topic_prior=0.1, learning_offset=50, max_iter=50,\n",
       "                          random_state=0, topic_word_prior=0.01)</pre></div></div></div></div></div>"
      ],
      "text/plain": [
       "LatentDirichletAllocation(doc_topic_prior=0.1, learning_offset=50, max_iter=50,\n",
       "                          random_state=0, topic_word_prior=0.01)"
      ]
     },
     "execution_count": 11,
     "metadata": {},
     "output_type": "execute_result"
    }
   ],
   "source": [
    "n_topics = 10\n",
    "lda = LatentDirichletAllocation(n_components=n_topics, max_iter=50,\n",
    "                                learning_method='batch',\n",
    "                                learning_offset=50,\n",
    "                                doc_topic_prior=0.1,\n",
    "                                topic_word_prior=0.01,\n",
    "                               random_state=0)\n",
    "lda.fit(tf)"
   ]
  },
  {
   "cell_type": "markdown",
   "id": "4450ae47",
   "metadata": {},
   "source": [
    "### 2.1输出每个主题对应词语"
   ]
  },
  {
   "cell_type": "code",
   "execution_count": 15,
   "id": "a964a449",
   "metadata": {},
   "outputs": [
    {
     "name": "stdout",
     "output_type": "stream",
     "text": [
      "Topic #0\n",
      "肺炎 武汉 原因 不明 发现 武汉市 患者 第一 检测 工作\n",
      "Topic #1\n",
      "亚洲 严重 唯一 公司 终于 成就 奖项 韩国 世界 取得\n",
      "Topic #2\n",
      "法医 女性 捐者 接受 骨髓移植 男性 角度看 同事 消失 哥哥\n",
      "Topic #3\n",
      "中方 香港 美国 民主 美方 制裁 中国 组织 国际 非政府\n",
      "Topic #4\n",
      "病例 肺炎 病情 病毒 相关 病毒性 导弹 进行 目前 海鲜城\n",
      "Topic #5\n",
      "医生 检查 治疗 感染 发现 出现 可能 疾病 症状 医院\n",
      "Topic #6\n",
      "中国 没有 美国 日本 公司 大家 不是 问题 非常 很多\n",
      "Topic #7\n",
      "孩子 流感 发烧 家长 使用 首次 服用 患者 宝宝 儿童\n",
      "Topic #8\n",
      "艾滋病 兰州 mark 阳性 感染 exclamation 皮肤 红枣 报告 调理\n",
      "Topic #9\n",
      "医生 时光 患者 医院 医保 礼物 学生 地铁 周年 影响\n"
     ]
    }
   ],
   "source": [
    "n_top_words = 10\n",
    "tf_feature_names = tf_vectorizer.get_feature_names()\n",
    "topic_word = print_top_words(lda, tf_feature_names, n_top_words)"
   ]
  },
  {
   "cell_type": "code",
   "execution_count": 16,
   "id": "f5146b19",
   "metadata": {},
   "outputs": [],
   "source": [
    "import numpy as np\n",
    "topics=lda.transform(tf)\n",
    "topic = []\n",
    "for t in topics:\n",
    "    topic.append(\"Topic #\"+str(list(t).index(np.max(t))))\n",
    "data['概率最大的主题序号']=topic\n",
    "data['每个主题对应概率']=list(topics)\n",
    "data.to_excel(\"D:/fyp/data_topic.xlsx\",index=False)"
   ]
  },
  {
   "cell_type": "code",
   "execution_count": 17,
   "id": "c39e0838",
   "metadata": {},
   "outputs": [
    {
     "name": "stderr",
     "output_type": "stream",
     "text": [
      "D:\\Anaconda\\anaconda\\lib\\site-packages\\past\\builtins\\misc.py:45: DeprecationWarning: the imp module is deprecated in favour of importlib; see the module's documentation for alternative uses\n",
      "  from imp import reload\n",
      "D:\\Anaconda\\anaconda\\lib\\site-packages\\sklearn\\utils\\deprecation.py:87: FutureWarning: Function get_feature_names is deprecated; get_feature_names is deprecated in 1.0 and will be removed in 1.2. Please use get_feature_names_out instead.\n",
      "  warnings.warn(msg, category=FutureWarning)\n",
      "D:\\Anaconda\\anaconda\\lib\\site-packages\\pyLDAvis\\_prepare.py:246: FutureWarning: In a future version of pandas all arguments of DataFrame.drop except for the argument 'labels' will be keyword-only.\n",
      "  default_term_info = default_term_info.sort_values(\n"
     ]
    },
    {
     "data": {
      "text/html": [
       "\n",
       "<link rel=\"stylesheet\" type=\"text/css\" href=\"https://cdn.jsdelivr.net/gh/bmabey/pyLDAvis@3.3.1/pyLDAvis/js/ldavis.v1.0.0.css\">\n",
       "\n",
       "\n",
       "<div id=\"ldavis_el228882533097325392263226396\"></div>\n",
       "<script type=\"text/javascript\">\n",
       "\n",
       "var ldavis_el228882533097325392263226396_data = {\"mdsDat\": {\"x\": [-0.030769846694995474, 0.39781117727770154, -0.08392359253089575, 0.11567190907475842, -0.09491271310753219, -0.13638715850364166, -0.14018694612303043, -0.14659828194030788, -0.08915581802772507, 0.2084512705756689], \"y\": [0.13994975051823208, -0.21750705579584564, 0.01969061191904529, 0.1048385685043529, 0.0855253194629118, 0.04371106532570387, 0.03935704626794589, -0.22874654527537666, -0.2139516091065398, 0.22713284817957075], \"topics\": [1, 2, 3, 4, 5, 6, 7, 8, 9, 10], \"cluster\": [1, 1, 1, 1, 1, 1, 1, 1, 1, 1], \"Freq\": [20.9531068268758, 17.404599836038738, 10.13075052828886, 8.996945218536876, 8.550724042884154, 8.31815382459956, 7.947275917913135, 6.444615458378082, 5.963225031813259, 5.290603314671527]}, \"tinfo\": {\"Term\": [\"\\u80ba\\u708e\", \"\\u4e2d\\u65b9\", \"\\u6cd5\\u533b\", \"\\u9999\\u6e2f\", \"\\u6b66\\u6c49\", \"\\u5973\\u6027\", \"\\u539f\\u56e0\", \"\\u5b69\\u5b50\", \"\\u6c11\\u4e3b\", \"\\u7f8e\\u65b9\", \"\\u4e0d\\u660e\", \"\\u75c5\\u4f8b\", \"\\u6d41\\u611f\", \"\\u6350\\u8005\", \"\\u4e25\\u91cd\", \"\\u533b\\u751f\", \"\\u516c\\u53f8\", \"\\u7f8e\\u56fd\", \"\\u5236\\u88c1\", \"\\u53d1\\u73b0\", \"\\u975e\\u653f\\u5e9c\", \"\\u4eba\\u6743\", \"\\u9aa8\\u9ad3\\u79fb\\u690d\", \"\\u575a\\u51b3\", \"\\u63a5\\u53d7\", \"\\u575a\\u5b9a\", \"\\u65f6\\u5149\", \"\\u5e72\\u6d89\", \"\\u634d\\u536b\", \"\\u5185\\u653f\", \"\\u6295\\u8d44\", \"\\u4f8b\\u5b50\", \"\\u589e\\u957f\", \"\\u4ebf\\u7f8e\\u5143\", \"\\u884c\\u4e1a\", \"\\u4e1c\\u4e9a\", \"\\u54c1\\u724c\", \"\\u751f\\u4ea7\", \"\\u6cd5\\u56fd\", \"\\u57ce\\u5e02\", \"\\u6b27\\u6d32\", \"\\u5370\\u5ea6\", \"\\u534e\\u4e3a\", \"\\u5e73\\u53f0\", \"\\u6a21\\u5f0f\", \"\\u4e1c\\u4eac\", \"\\u5458\\u5de5\", \"\\u4e1a\\u52a1\", \"\\u57fa\\u91d1\", \"\\u9886\\u57df\", \"\\u672a\\u6765\", \"right\", \"\\u522b\\u4eba\", \"\\u6545\\u4e8b\", \"\\u6587\\u5316\", \"\\u53e3\\u7ea2\", \"\\u63d0\\u5347\", \"\\u7a7a\\u95f4\", \"\\u4eba\\u751f\", \"\\u6d88\\u8d39\", \"\\u5b8c\\u6210\", \"\\u65e5\\u672c\", \"\\u793e\\u4f1a\", \"\\u7ecf\\u6d4e\", \"\\u56fd\\u5185\", \"\\u4f01\\u4e1a\", \"\\u4ea7\\u54c1\", \"\\u73b0\\u5728\", \"\\u82f1\\u56fd\", \"\\u6700\\u540e\", \"\\u6ca1\\u6709\", \"\\u516c\\u53f8\", \"\\u5927\\u5bb6\", \"\\u591a\\u5e74\", \"\\u4e2d\\u56fd\", \"\\u4e8b\\u60c5\", \"\\u8d77\\u6765\", \"\\u4e0d\\u662f\", \"\\u91cd\\u8981\", \"\\u6bd4\\u4f8b\", \"\\u975e\\u5e38\", \"\\u4e4b\\u524d\", \"\\u95ee\\u9898\", \"\\u7f8e\\u56fd\", \"\\u5e0c\\u671b\", \"\\u751f\\u6d3b\", \"\\u4eca\\u5929\", \"\\u77e5\\u9053\", \"\\u97e9\\u56fd\", \"\\u5f88\\u591a\", \"10\", \"\\u65f6\\u95f4\", \"\\u89c9\\u5f97\", \"\\u9700\\u8981\", \"\\u53ef\\u80fd\", \"\\u5de5\\u4f5c\", \"\\u6848\\u4f8b\", \"\\u56fd\\u5bb6\", \"\\u5df2\\u7ecf\", \"\\u4e16\\u754c\", \"2019\", \"\\u89c6\\u9891\", \"\\u8fd9\\u79cd\", \"\\u4e2d\\u65b9\", \"\\u6c11\\u4e3b\", \"\\u7f8e\\u65b9\", \"\\u5236\\u88c1\", \"\\u975e\\u653f\\u5e9c\", \"\\u4eba\\u6743\", \"\\u575a\\u51b3\", \"\\u575a\\u5b9a\", \"\\u5e72\\u6d89\", \"\\u634d\\u536b\", \"\\u5185\\u653f\", \"\\u98ce\\u6ce2\", \"\\u4fee\\u4f8b\", \"\\u57fa\\u91d1\\u4f1a\", \"\\u56fd\\u9645\\u4e8b\\u52a1\", \"\\u4e2d\\u56fd\\u653f\\u5e9c\", \"\\u5ba1\\u6279\", \"\\u6076\\u52a3\", \"\\u4f11\\u6574\", \"\\u673a\\u8d74\", \"\\u63d2\\u624b\", \"\\u5171\\u548c\", \"\\u8fdd\\u53cd\", \"\\u81ea\\u5373\\u65e5\\u8d77\", \"\\u4e8b\\u52a1\", \"\\u7e41\\u8363\", \"\\u65e0\\u7406\", \"\\u56fd\\u5bb6\\u4e3b\\u6743\", \"\\u4ed8\\u51fa\\u4ee3\\u4ef7\", \"\\u6566\\u4fc3\", \"\\u9999\\u6e2f\", \"\\u56fd\\u9645\", \"\\u519b\\u8230\", \"\\u7ec4\\u7ec7\", \"\\u5ba3\\u5e03\", \"\\u53d1\\u5c55\", \"\\u7f8e\\u56fd\", \"\\u5b9e\\u65bd\", \"\\u4e25\\u91cd\", \"\\u6682\\u505c\", \"\\u81ea\\u7531\", \"\\u6cd5\\u6848\", \"\\u7533\\u8bf7\", \"\\u4e2d\\u56fd\", \"\\u534f\\u4f1a\", \"\\u51b3\\u5b9a\", \"\\u56fd\\u5bb6\", \"\\u884c\\u4e3a\", \"\\u5fc5\\u987b\", \"\\u533b\\u4fdd\", \"\\u793c\\u7269\", \"\\u5730\\u94c1\", \"\\u5468\\u5e74\", \"\\u9000\\u70ed\", \"\\u9b4f\\u67d0\", \"\\u603b\\u533b\\u9662\", \"\\u6c11\\u822a\", \"\\u53d7\\u5bb3\", \"\\u6025\\u8bca\\u79d1\", \"\\u767d\\u8d77\", \"\\u56de\\u58f0\", \"\\u9192\\u8111\", \"\\u5fbd\\u7ae0\", \"\\u592b\\u4eba\", \"\\u5bb6\\u5c5e\", \"\\u8fdb\\u5ea6\", \"\\u62a5\\u9500\", \"\\u4e2d\\u4e0b\\u65ec\", \"\\u96ea\\u591c\", \"\\u5b59\\u82f1\", \"\\u674e\\u6cfd\\u8a00\\u6b3e\", \"\\u8bb8\\u58a8\\u6b3e\", \"\\u751f\\u80b2\\u80fd\\u529b\", \"\\u4e8b\\u540e\", \"\\u7ec8\\u8eab\", \"\\u8f7b\\u751f\", \"\\u5fc3\\u5bd2\", \"\\u8fd1\\u767e\\u540d\", \"\\u63a8\\u5378\\u8d23\\u4efb\", \"\\u65f6\\u5149\", \"\\u81ea\\u8d39\", \"\\u5f00\\u5956\", \"\\u62bd\\u53d6\", \"\\u65b0\\u5e74\", \"\\u533b\\u751f\", \"\\u5c81\\u6708\", \"\\u5b66\\u751f\", \"\\u8c03\\u6574\", \"\\u5f71\\u54cd\", \"\\u60a3\\u8005\", \"\\u533b\\u9662\", \"\\u68c0\\u67e5\", \"\\u5236\\u4f5c\", \"\\u76ee\\u524d\", \"\\u75ab\\u60c5\", \"\\u8fdb\\u884c\", \"\\u6cbb\\u7597\", \"\\u6cd5\\u533b\", \"\\u6350\\u8005\", \"\\u9aa8\\u9ad3\\u79fb\\u690d\", \"\\u89d2\\u5ea6\\u770b\", \"\\u54e5\\u54e5\", \"\\u5acc\\u7591\\u4eba\", \"\\u504f\\u504f\", \"\\u53d6\\u4ee3\", \"\\u533b\\u5b66\\u4f1a\", \"\\u72af\\u7f6a\", \"2004\", \"\\u5355\\u66f2\", \"\\u5934\\u53d1\", \"\\u5df2\\u5a5a\", \"\\u76d1\\u72f1\", \"\\u5e72\\u7ec6\\u80de\", \"\\u6b7b\\u8005\", \"\\u9020\\u8840\", \"\\u7f6a\\u72af\", \"\\u8840\\u7ec6\\u80de\", \"\\u7cbe\\u6db2\", \"\\u6d4b\\u51fa\", \"\\u7ed3\\u624e\", \"\\u5341\\u5c81\", \"\\u8f93\\u7cbe\\u7ba1\", \"\\u53d7\\u8005\", \"\\u5f3a\\u5978\\u6848\", \"\\u6d4b\\u5230\", \"\\u80f8\\u6bdb\", \"\\u8ba4\\u5c38\", \"\\u5973\\u6027\", \"\\u6d88\\u5931\", \"\\u63a5\\u53d7\", \"\\u540c\\u4e8b\", \"\\u7537\\u6027\", \"\\u73b0\\u573a\", \"\\u51a0\\u519b\", \"2008\", \"\\u540e\\u6765\", \"\\u5e74\\u8f7b\", \"\\u62ff\\u5230\", \"\\u4eca\\u5e74\", \"\\u5b8c\\u5168\", \"19\", \"\\u6210\\u4e3a\", \"\\u6848\\u4f8b\", \"\\u68c0\\u6d4b\", \"\\u62a5\\u9053\", \"\\u5de5\\u4f5c\", \"\\u56fd\\u9645\\u6cd5\", \"\\u6709\\u610f\\u601d\", \"\\u53d1\\u73b0\", \"\\u53d1\\u70e7\", \"\\u9996\\u6b21\", \"\\u75ab\\u82d7\", \"\\u5965\\u53f8\", \"\\u8fbe\\u83f2\", \"\\u5c0f\\u5973\\u5b69\", \"\\u9000\\u70e7\\u836f\", \"\\u63a5\\u79cd\", \"\\u76d8\\u70b9\", \"\\u4f53\\u6e29\", \"\\u9ad8\\u70e7\", \"\\u731d\\u6b7b\", \"\\u964d\\u6e29\", \"\\u75bc\\u75db\", \"\\u71ac\\u591c\", \"\\u5347\\u9ad8\", \"\\u6d41\\u611f\\u75c5\\u6bd2\", \"85\", \"\\u5bb6\\u957f\", \"\\u670d\\u7528\", \"\\u4e2d\\u98ce\", \"\\u6d41\\u611f\", \"\\u513f\\u7ae5\", \"38\", \"\\u53cd\\u5e94\", \"\\u5b69\\u5b50\", \"\\u7761\\u7720\", \"\\u75c5\\u6bd2\\u611f\\u67d3\", \"\\u5b9d\\u5b9d\", \"48\", \"\\u4f7f\\u7528\", \"\\u5efa\\u8bae\", \"\\u98ce\\u9669\", \"\\u53d1\\u751f\", \"\\u7236\\u6bcd\", \"\\u589e\\u52a0\", \"\\u60a3\\u8005\", \"\\u7a81\\u7136\", \"\\u6ca1\\u6709\", \"\\u53ef\\u80fd\", \"\\u75c7\\u72b6\", \"\\u7814\\u7a76\", \"12\", \"\\u4e2d\\u56fd\", \"\\u4e00\\u5b9a\", \"\\u95ee\\u9898\", \"\\u4e0d\\u662f\", \"\\u7f8e\\u56fd\", \"\\u624b\\u672f\", \"\\u7b5b\\u67e5\", \"\\u764c\\u75c7\", \"\\u4f53\\u68c0\", \"\\u732a\\u761f\", \"\\u80ba\\u764c\", \"\\u7ec6\\u80de\", \"\\u98df\\u7ba1\\u764c\", \"\\u5e7d\\u95e8\", \"\\u8001\\u5e74\\u4eba\", \"\\u751f\\u732a\", \"\\u80c3\\u764c\", \"\\u98df\\u7269\", \"\\u87ba\\u6746\\u83cc\", \"\\u51a0\\u5fc3\\u75c5\", \"\\u732a\\u56e2\", \"\\u6b7b\\u4ea1\\u7387\", \"\\u80c3\\u708e\", \"\\u6295\\u653e\", \"\\u5343\\u4e07\", \"\\u7269\\u54c1\", \"\\u5fc3\\u810f\", \"\\u836f\\u7269\", \"\\u6297\\u751f\\u7d20\", \"\\u8bb0\\u4f4f\", \"\\u529f\\u80fd\", \"\\u5bb6\\u52a1\\u6d3b\", \"\\u62a4\\u7406\", \"\\u975e\\u6d32\", \"\\u996e\\u98df\", \"\\u5bfc\\u81f4\", \"\\u5f15\\u8d77\", \"\\u68c0\\u67e5\", \"\\u4eba\\u7fa4\", \"\\u533b\\u751f\", \"\\u6cbb\\u7597\", \"\\u75be\\u75c5\", \"\\u51fa\\u73b0\", \"\\u611f\\u67d3\", \"\\u75c7\\u72b6\", \"\\u7814\\u7a76\", \"\\u53ef\\u80fd\", \"\\u53d1\\u73b0\", \"\\u5f88\\u591a\", \"\\u9700\\u8981\", \"\\u4ee5\\u4e0a\", \"\\u533b\\u9662\", \"\\u9884\\u9632\", \"\\u6ca1\\u6709\", \"\\u5065\\u5eb7\", \"\\u60a3\\u8005\", \"\\u75c5\\u6bd2\", \"\\u95ee\\u9898\", \"\\u827e\\u6ecb\\u75c5\", \"mark\", \"exclamation\", \"\\u7ea2\\u67a3\", \"\\u8c03\\u7406\", \"\\u6708\\u7ecf\", \"\\u7ea2\\u7cd6\", \"\\u59e8\\u5988\", \"\\u5e03\\u9c81\\u6c0f\\u83cc\", \"\\u611f\\u67d3\\u8005\", \"keycap\", \"diamond\", \"\\u7ea2\\u8c46\", \"dot\", \"96\", \"double\", \"\\u808c\\u80a4\", \"star\", \"warning\", \"glowing\", \"\\u75db\\u7ecf\", \"\\u59dc\\u8336\", \"\\u7814\\u6240\", \"\\u51cf\\u80a5\", \"red\", \"\\u9752\\u5e74\", \"\\u8840\\u6e05\\u5b66\", \"\\u6297\\u4f53\", \"\\u5956\\u54c1\", \"\\u9633\\u6027\", \"\\u76ae\\u80a4\", \"\\u5170\\u5dde\", \"\\u62a5\\u544a\", \"\\u517d\\u533b\", \"hands\", \"\\u611f\\u67d3\", \"\\u7814\\u7a76\\u6240\", \"\\u5973\\u751f\", \"\\u5b66\\u751f\", \"\\u6bcf\\u5929\", \"\\u4eba\\u5458\", \"\\u68c0\\u6d4b\", \"\\u4e86\\u89e3\", \"12\", \"\\u975e\\u5e38\", \"\\u7279\\u522b\", \"\\u533b\\u7597\\u673a\\u6784\", \"\\u9f20\\u75ab\", \"\\u70ed\\u7ebf\", \"12320\", \"\\u5de5\\u4f5c\\u4eba\\u5458\", \"\\u6587\\u4ef6\", \"\\u7d27\\u6025\\u901a\\u77e5\", \"\\u4f20\\u4eba\", \"\\u4f55\\u79cd\", \"\\u8003\\u8bd5\", \"\\u5173\\u8054\", \"\\u5e73\\u6743\", \"\\u75be\\u63a7\", \"\\u8c34\\u8d23\", \"\\u5973\\u6743\", \"\\u4e0d\\u660e\", \"\\u5bf9\\u5916\", \"\\u536b\\u5065\\u59d4\", \"\\u59d4\\u5458\\u4f1a\", \"\\u6b66\\u6c49\", \"\\u536b\\u751f\", \"\\u592e\\u89c6\", \"31\", \"\\u4e00\\u4efd\", \"\\u539f\\u56e0\", \"\\u6d77\\u9c9c\", \"\\u516c\\u5e03\", \"\\u6551\\u6cbb\", \"\\u6b66\\u6c49\\u5e02\", \"\\u505a\\u597d\", \"\\u80ba\\u708e\", \"\\u9694\\u79bb\", \"\\u53d1\\u75c5\", \"\\u53d1\\u73b0\", \"\\u7b2c\\u4e00\", \"\\u75c5\\u4eba\", \"\\u89c6\\u9891\", \"\\u60a3\\u8005\", \"\\u68c0\\u6d4b\", \"\\u5065\\u5eb7\", \"\\u51fa\\u73b0\", \"\\u5de5\\u4f5c\", \"\\u65f6\\u95f4\", \"\\u75c5\\u6bd2\", \"\\u76ee\\u524d\", \"\\u6cbb\\u7597\", \"\\u75c5\\u4f8b\", \"\\u5bfc\\u5f39\", \"\\u6d77\\u9c9c\\u57ce\", \"\\u7f8e\\u519b\", \"\\u822a\\u6bcd\", \"\\u7ecf\\u8425\\u6237\", \"\\u8354\\u679d\", \"\\u539f\\u4ef7\", \"\\u597d\\u8f6c\", \"\\u62a4\\u536b\\u8230\", \"\\u53ef\\u63a7\", \"\\u51fa\\u9662\", \"\\u9996\\u53d1\", \"\\u7ef6\\u5e26\", \"\\u6d77\\u4e0a\", \"\\u5e02\\u6c11\", \"\\u516c\\u91cc\", \"\\u5357\\u6d77\", \"\\u5c1a\\u672a\", \"\\u6d88\\u6bd2\", \"\\u75c5\\u6bd2\\u6027\", \"\\u62ff\\u51fa\", \"27\", \"\\u5f00\\u5c55\", \"\\u5404\\u7c7b\", \"\\u4eba\\u58eb\", \"\\u66f4\\u5927\", \"\\u7f51\\u4e0a\", \"\\u6050\\u614c\", \"\\u6210\\u719f\", \"\\u8fd1\\u671f\", \"\\u75c5\\u4f8b\", \"\\u75c5\\u60c5\", \"\\u9898\\u6750\", \"\\u534e\\u5357\", \"\\u6b64\\u6b21\", \"\\u65ad\\u5b9a\", \"\\u76f8\\u5173\", \"\\u6b63\\u5728\", \"\\u80ba\\u708e\", \"\\u75c5\\u6bd2\", \"\\u8c03\\u67e5\", \"\\u5927\\u90e8\\u5206\", \"\\u8fdb\\u884c\", \"\\u76ee\\u524d\", \"\\u53d1\\u73b0\", \"\\u4e0d\\u80fd\", \"\\u6b66\\u6c49\", \"\\u5df2\\u7ecf\", \"12\", \"\\u611f\\u67d3\", \"\\u4e9a\\u6d32\", \"\\u6210\\u5c31\", \"\\u516c\\u5e73\", \"\\u989c\\u503c\", \"\\u8d22\\u9600\", \"\\u5947\\u8ff9\", \"\\u9632\\u5f39\", \"\\u9500\\u91cf\", \"\\u53ea\\u4f1a\", \"\\u6253\\u7834\", \"\\u51fa\\u8eab\", \"\\u51a0\\u738b\", \"\\u9ed1\\u5e55\", \"\\u5357\\u97e9\", \"\\u5927\\u5956\", \"\\u6211\\u6015\", \"\\u62b5\\u4e0d\\u8fc7\", \"\\u97f3\\u4e50\\u5956\", \"\\u90b1\\u6668\", \"\\u5bf9\\u5f85\", \"\\u5947\\u8469\", \"\\u5956\\u9879\", \"\\u53d6\\u5f97\", \"\\u97f3\\u4e50\", \"\\u6210\\u7ee9\", \"\\u6837\\u5b50\", \"\\u4e13\\u8f91\", \"\\u7ec8\\u4e8e\", \"\\u4f3c\\u4e4e\", \"\\u8fc7\\u6765\", \"\\u552f\\u4e00\", \"\\u516c\\u53f8\", \"\\u97e9\\u56fd\", \"\\u4e25\\u91cd\", \"\\u60f3\\u8981\", \"\\u4e16\\u754c\", \"\\u7b2c\\u4e00\", \"2018\", \"\\u63a7\\u5236\", \"\\u6574\\u4e2a\", \"\\u6240\\u6709\", \"\\u7b2c\\u4e00\\u6b21\", \"\\u770b\\u5230\", \"\\u4e00\\u4f4d\", \"\\u5df2\\u7ecf\", \"2019\", \"\\u5168\\u7403\"], \"Freq\": [20831.0, 24404.0, 14993.0, 22329.0, 13385.0, 15284.0, 13510.0, 13484.0, 15029.0, 14625.0, 9655.0, 11150.0, 10195.0, 8895.0, 15421.0, 14229.0, 9828.0, 29596.0, 10494.0, 19110.0, 9956.0, 9898.0, 7124.0, 9767.0, 8945.0, 9678.0, 7531.0, 9664.0, 9655.0, 9646.0, 2162.6489450948175, 1720.223474063759, 1671.7249324965544, 1538.1065016483753, 1440.119652359551, 1434.1810554330348, 1379.743916939215, 1316.398883055582, 1255.0333814808318, 1214.452969149141, 1213.4632029946065, 1203.5655414502928, 1202.5757752959892, 1198.6167106782118, 1133.2921444857159, 1116.4661198604388, 1086.7731352274711, 1047.1824890502, 1043.223424432449, 1043.2234244324388, 1693.197226100868, 1142.5363189065686, 1179.547479568478, 1639.5106879184555, 1781.7773762022125, 1440.0266918421744, 1307.1096622877453, 1085.5780986114398, 1065.1224238212983, 1207.0744464150494, 1313.7062985394364, 8829.705464564597, 2771.60287440093, 2319.5222684118726, 2593.0709014355944, 3331.8104203506828, 2881.262969342546, 4249.595545252706, 2865.726781561552, 3039.9302805197, 10158.768912375994, 6105.778236997182, 5530.4919793071995, 1899.3355685768286, 12714.378738697196, 2035.98490531983, 2571.577508175162, 5430.653324923027, 2541.7949604920395, 3835.9974073436024, 4777.482515478924, 2071.32974592288, 5355.3700438501455, 9829.187559810412, 2787.7991731083453, 3050.204808896947, 3155.030740068788, 3486.368650225666, 3697.106305508532, 4436.039403956477, 3984.37104684996, 4301.345772994276, 2953.3387914886216, 4053.3216157068905, 3913.6298100583913, 3939.5470355276902, 3271.9589361580365, 3888.152221179146, 3795.470849901458, 3415.99084355173, 3256.2506151261578, 3125.6337207881656, 3029.422842841526, 24404.775148254925, 15029.232106249534, 14625.897063233118, 10494.707934510505, 9956.59509246698, 9898.690556588233, 9767.906173827581, 9678.054307809243, 9664.07735087123, 9655.09216427123, 9646.106977668787, 5339.207533177469, 5248.357313092792, 5070.650289188915, 5009.750691110011, 4984.791839437823, 4976.805006903395, 4956.837925565002, 4938.867552362392, 4935.872490160998, 4933.875782027369, 4911.91199255657, 4902.926805954703, 4897.935035619816, 4874.972892081592, 4855.0058107442355, 4853.009102611005, 4836.037083473621, 4833.042021273592, 4832.043667205976, 21520.34465062382, 10114.410986610235, 4993.2634332251755, 10233.252324338227, 5199.697268036155, 9799.035252780395, 16143.295231270453, 5152.757522551534, 9770.708468211331, 5007.371327494376, 5377.80681475445, 5027.982150745492, 5215.645407651195, 10395.408037988476, 5072.501756272329, 5093.93706199198, 5280.736618502078, 5089.477252902737, 5102.1844071937185, 4884.488690030662, 4774.048268345243, 4214.8181330840725, 3949.76112103933, 3862.412787523975, 3311.214682931435, 2961.821348872318, 2937.7252568682684, 2922.6651993656665, 2787.124681842783, 2383.5151407745766, 2335.322956766408, 2258.0146615866606, 2062.2339140535914, 2028.0977837142368, 1946.7734732006547, 1871.473185687884, 1831.313032347815, 1776.0928215052404, 1701.7965378259807, 1654.6083576513363, 1591.3561161406249, 1539.1479167984785, 1517.0598324613343, 1512.039813293794, 1505.0117864593083, 1468.8676484532184, 1466.8596407862412, 1456.8196024511917, 1454.811594784239, 7428.861704830956, 2165.241953187764, 2961.63995109354, 2256.279206509924, 2688.5028155928594, 7988.363998998172, 2813.645892078808, 4661.602605976791, 2887.1557206265893, 3929.0335735717345, 5526.825987073301, 4946.883886712409, 3743.041471621075, 2324.6768352187983, 3331.183726008873, 2541.4252521578774, 2801.749719506153, 2371.7738149182164, 14993.505749747914, 8895.014248564723, 7124.387976519449, 6321.823703435799, 3915.12785843742, 3648.935733079132, 3584.1324066809757, 2710.7829616855765, 2616.0704077193054, 2101.631693543876, 2057.7648264436016, 2018.8828306049625, 2001.9342683158993, 1980.0008347660792, 1943.112787431751, 1927.1611993953654, 1831.4516711768015, 1824.472851410829, 1823.4758771584727, 1805.5303406174683, 1802.5394178606314, 1785.5908555720166, 1782.5999328151938, 1780.6059843106111, 1780.6059843106145, 1778.6120358060246, 1778.6120358060175, 1775.6211130491392, 1775.6211130491392, 1775.6211130491392, 13298.017328136611, 4556.009948321173, 7575.242410248702, 4848.271676217166, 6504.838627754838, 3782.7271591861354, 2568.374105903506, 2206.8277212571566, 3721.3584168846755, 2817.1200452291882, 3117.2719904767255, 3446.637649211399, 3645.417009713427, 2395.4627190772944, 2911.895127316403, 3114.953137373674, 3594.391249794448, 2680.1096649589567, 2964.5539846323823, 2633.2311590727577, 2124.249814619283, 2210.5291901054425, 5670.433014629459, 3568.94079598061, 2643.4027549740836, 2072.4539634444027, 1787.9812322259816, 1644.7432020701963, 1585.6449938241403, 1433.3919827494342, 1427.3819954700239, 1402.3403818066133, 1297.1656044195217, 1293.158946233176, 1291.1556171402622, 1288.1506235003756, 1256.0973580110935, 1223.042427975208, 1111.8576633086939, 1100.8393532968155, 3777.0352938516926, 3547.669935684708, 1589.402437161345, 9164.906923090266, 2920.9699733661796, 1951.841017464726, 1710.6507885529, 11164.499391588155, 1233.2542908768205, 846.3810395916761, 3390.922625388095, 807.9822596403033, 3680.4094807670303, 2528.0203249140272, 2070.2492362879843, 2687.6859814279264, 1781.9333855050413, 2075.7023136403873, 3519.7260673665282, 1636.2089240590833, 2815.302998340359, 2176.068887372592, 1905.3574410919337, 1840.9121860991386, 1898.4069630829194, 2138.011045309682, 1712.7733215660166, 1755.1706123934487, 1734.4990428458468, 1712.3828310115184, 2498.0533090688373, 2487.008905549767, 1969.9300135153383, 1797.2357039426843, 1772.1347868536568, 1719.9248793084257, 1568.3153400904826, 1482.9722219878076, 1380.5604802644882, 1343.4111229725117, 1301.24158226308, 1292.2052521110336, 1280.1568119081937, 1258.0680048699307, 1238.991307882212, 1121.5190159055032, 1106.4584656520497, 1093.4059887657613, 1078.3454385122861, 1077.341401828594, 1057.26066815744, 2102.4974771168727, 1281.664387830278, 1719.74909886718, 932.0317970005186, 1050.3175861446061, 965.9566277710652, 932.2752249579337, 1880.934682317736, 992.4350917609225, 2453.712124020186, 1755.5801346187368, 4085.115512189321, 1592.335256011333, 4844.041928650442, 3992.4188316250325, 2641.8039816894957, 3036.0715995345754, 3733.378230485512, 2614.8526122944563, 2405.1709212242113, 2886.70687815842, 3555.4446747621964, 2424.3253640677044, 2505.852330779214, 2182.290785626492, 2538.149044897683, 1793.1694275260945, 2381.1293187229667, 1893.582045955437, 2140.5204801807836, 1958.4258460669807, 1969.3844348121097, 5144.2114011638505, 4636.10501126985, 4078.8916921749615, 3301.1982827907927, 3085.7291036443594, 3073.7029169012535, 2735.967505867198, 2426.293197233542, 2292.0007786027313, 2207.8174714013244, 2137.6647154000993, 1753.8289218510272, 1727.772183907756, 1635.571418877693, 1521.3226448185646, 1504.285546932643, 1422.1066041882375, 1339.927661444161, 1266.7683587573097, 1170.5588648128437, 1148.5108557839628, 1146.5064913267836, 1140.4933979552618, 1138.4890334979036, 2973.6139938674983, 1137.533182303418, 1740.4548558423162, 1989.569482468281, 2007.531131083917, 4543.246181263102, 3659.4882473343623, 4701.146346836281, 3188.7312844839284, 2510.142250417, 1539.8415628741652, 4403.1256730154255, 3028.920921176437, 1889.074847409456, 2597.156034953319, 2036.3925082675732, 2143.540824272677, 2801.8315553716066, 2011.342540994131, 2319.4336711012006, 2145.968474317966, 1976.0403413225697, 2291.4751748717194, 2201.5354163280153, 1895.7402372791921, 1837.7790595510417, 1548.972501560297, 1525.9878965991718, 1482.0173479778368, 1358.1003473174583, 1237.181338608649, 1214.1967336470502, 1148.2409107147587, 1122.2583138026328, 1060.2998134725133, 1409.5087793142786, 1005.5353033041874, 9062.51398644047, 1133.210472073954, 1837.6236310059614, 1622.359195622165, 11014.52721017414, 2050.647701109647, 1009.6690581717017, 900.7844425520914, 994.695419794093, 10222.777656010976, 959.4927627076227, 1202.932913953789, 2533.5312183637966, 3453.9549326232614, 2454.800094651901, 13956.826273876299, 2146.8854080393394, 1635.0282578534316, 5981.21990907816, 2929.458434221821, 2007.4187057152783, 2401.2641544813514, 3095.389302473568, 2877.371915593777, 2157.714701183218, 2305.6499879599264, 2540.74409814131, 2065.8559432520087, 1803.5817181522366, 1732.3199468008834, 1661.5747251624593, 1616.0522683154763, 3103.1554304322567, 3017.2097308135953, 2582.4256033307934, 2216.3980355429508, 1925.1937827173695, 1773.5249010373013, 1530.8546903492247, 1520.7434315704159, 1503.554291646812, 1490.4096552345236, 1425.6975990510111, 1317.507130119294, 1255.8284515694434, 1177.9717589736024, 1131.4599685916808, 1117.3042063015546, 1053.2701887132635, 1263.4172282210102, 1372.434141657871, 3239.7625048377013, 1027.647841348622, 2777.80955571387, 1614.16466001348, 1057.0028379292362, 1041.6407903217246, 1022.4755417613885, 1065.2661606702413, 1058.8424412875636, 1024.0274009924954, 2158.7661283163116, 8775.897548094545, 4303.578038377764, 1596.4058695100955, 2761.61533968579, 2223.1995389529043, 2033.228150166422, 3359.2256880320406, 2218.127987311235, 6557.329244730206, 3784.4340843558684, 2631.961184496264, 2186.801403722857, 3039.240469788057, 3024.0505458684793, 2750.689834976247, 2098.9193160447335, 2173.5163482083426, 2075.9348449024524, 1970.7042258746867, 1683.8724730708045, 4524.861988021566, 3066.548249068689, 2371.0447735681305, 2189.5204060621913, 2137.510615372292, 1697.9768940515032, 1680.6402971549214, 1658.2047011709396, 1624.5513071950147, 1569.482117052838, 1520.5317258152959, 1483.8189323871536, 1462.4031362207168, 1460.3635365858304, 1457.3041371334498, 1430.7893418797908, 1413.4527449831721, 1411.4131453482637, 1237.0273765643897, 1067.7406068676519, 1223.00858065586, 2944.4484788678815, 2436.3962239374396, 2351.8495284808155, 1654.0099578871293, 1536.232068764558, 2228.0516441126597, 3436.233304234892, 1504.9330541526235, 838.0788924113585, 3846.276418574201, 3722.381605162344, 2860.2191601854165, 4012.562848119705, 1747.07816933428, 2635.3324269060618, 2435.384242724867, 1745.3780786987147, 1642.0152457212998, 1700.550031487279, 1912.336976151897, 1665.1524369129195, 1808.5062527713649, 1734.6155758590487, 1839.4438034840005, 1768.2670848560347, 1643.5719267493432], \"Total\": [20831.0, 24404.0, 14993.0, 22329.0, 13385.0, 15284.0, 13510.0, 13484.0, 15029.0, 14625.0, 9655.0, 11150.0, 10195.0, 8895.0, 15421.0, 14229.0, 9828.0, 29596.0, 10494.0, 19110.0, 9956.0, 9898.0, 7124.0, 9767.0, 8945.0, 9678.0, 7531.0, 9664.0, 9655.0, 9646.0, 2162.7393198143886, 1720.3138487833307, 1671.815307216126, 1538.196876367947, 1440.2100270791227, 1434.2714301526064, 1379.8342916587867, 1316.4892577751536, 1255.1237562004035, 1214.5433438687126, 1213.5535777141781, 1203.6559161698644, 1202.6661500155608, 1198.7070853977834, 1133.3825192052875, 1116.5564945800104, 1086.8635099470428, 1047.2728637697717, 1043.3137991520207, 1043.3137991520105, 1695.6389432443505, 1144.2905606160298, 1184.952548633696, 1647.1255552406064, 1803.713705540213, 1461.1471633737176, 1332.6275601203354, 1108.9695471206808, 1088.5402833005583, 1240.5184094577294, 1351.4029656937996, 9976.866241088013, 2957.1258297000827, 2494.821723071788, 2820.201708781206, 3797.5144783847627, 3280.7523308328455, 5445.838475942719, 3467.4670949827037, 3866.247878098762, 18998.688301229504, 9828.240018880924, 8860.383143689705, 2202.6811141583457, 28069.138619037807, 2434.0677070917823, 3351.7697820232524, 9455.270672754274, 3337.904607085386, 6220.561717772643, 8773.37659424219, 2547.510880223261, 11072.764434013272, 29596.46424997419, 4060.2285278170566, 4725.5315646114495, 5003.1581724861035, 5909.492730346777, 6557.405642415345, 8992.558779319697, 9041.525332696354, 10626.136774132514, 5038.997995266833, 9986.278966480482, 10759.15905020234, 11304.651378993709, 6870.263048262678, 11755.20951543673, 11005.357458704215, 8233.700606829465, 8041.679816439211, 7338.465228501849, 6898.116419835864, 24404.865437095374, 15029.322395089977, 14625.987352073562, 10494.798223350948, 9956.685381307423, 9898.780845428677, 9767.996462668025, 9678.144596649687, 9664.167639711673, 9655.182453111673, 9646.19726650923, 5339.2978220179175, 5248.447601933241, 5070.740578029364, 5009.84097995046, 4984.882128278272, 4976.895295743844, 4956.9282144054505, 4938.957841202841, 4935.9627790014465, 4933.9660708678175, 4912.002281397019, 4903.017094795152, 4898.0253244602645, 4875.063180922041, 4855.096099584684, 4853.099391451454, 4836.12737231407, 4833.132310114041, 4832.133956046425, 22329.446773615862, 10876.881667149733, 5019.152032151216, 11785.508840016815, 5273.762944791741, 13608.729365528448, 29596.46424997419, 5311.960045797, 15421.128538823903, 5072.9537362036735, 5840.451529916616, 5128.769746789827, 5583.696938156105, 28069.138619037807, 5276.075670722007, 5891.92377291518, 11755.20951543673, 6634.9872483971385, 8241.86504133972, 4884.578922373444, 4774.138500688025, 4214.908365426854, 3949.851353382111, 3862.503019866756, 3311.304915274216, 2961.911581215099, 2937.815489211049, 2922.7554317084473, 2787.214914185564, 2383.6053731173574, 2335.413189109189, 2258.1048939294415, 2062.3241463963723, 2028.1880160570176, 1946.8637055434356, 1871.563418030665, 1831.4032646905957, 1776.1830538480212, 1701.8867701687616, 1654.6985899941171, 1591.4463484834057, 1539.2381491412593, 1517.1500648041151, 1512.1300456365748, 1505.102018802089, 1468.9578807959992, 1466.949873129022, 1456.9098347939725, 1454.90182712702, 7531.663539859839, 2189.7755482321795, 3295.637934217418, 2524.682218027069, 3158.1942776913693, 14229.753924449651, 3559.8059178325802, 7678.011207982514, 4151.708956089787, 7234.3166468197005, 14282.522019118152, 12165.108172910812, 9134.770811583448, 3223.5736006496127, 13066.305790429793, 5631.801165032506, 11473.035350805676, 11428.70376598234, 14993.596052386503, 8895.104551203312, 7124.478279158043, 6321.914006074393, 3915.218161076013, 3649.0260357177253, 3584.222709319569, 2710.8732643241697, 2616.1607103578986, 2101.721996182469, 2057.8551290821947, 2018.9731332435554, 2002.0245709544922, 1980.091137404672, 1943.203090070344, 1927.2515020339583, 1831.5419738153944, 1824.5631540494219, 1823.5661797970656, 1805.6206432560612, 1802.6297204992243, 1785.6811582106095, 1782.6902354537867, 1780.696286949204, 1780.6962869492074, 1778.7023384446175, 1778.7023384446104, 1775.7114156877321, 1775.7114156877321, 1775.7114156877321, 15284.852250501473, 4854.472721243129, 8945.834574986284, 5429.704450608268, 7614.820838118798, 4300.829192947648, 2789.0249443650146, 2319.2413485401844, 4708.26137946857, 3325.5395003943204, 4353.16309732506, 5634.915598316128, 6555.112170338074, 3167.8450028489083, 5417.80150801783, 6870.263048262678, 12591.09456933888, 5514.072029804218, 11304.651378993709, 7453.162413839661, 2706.6326449658222, 19110.551581150925, 5670.52327036511, 3569.0310517162607, 2643.4930107097343, 2072.5442191800535, 1788.0714879616319, 1644.8334578058466, 1585.7352495597906, 1433.4822384850845, 1427.4722512056742, 1402.4306375422636, 1297.255860155172, 1293.2492019688264, 1291.2458728759125, 1288.2408792360259, 1256.1876137467439, 1223.1326837108584, 1111.9479190443442, 1100.9296090324658, 3859.5248780362745, 3671.264632275884, 1661.0291024681844, 10195.671294749593, 3274.3747513584185, 2190.184205646237, 1934.666594119073, 13484.78300250563, 1502.3680420952935, 1050.326345089128, 4287.687713279798, 1083.7610907281182, 6143.335614880964, 4213.604590276766, 3572.8333850168565, 5830.340814575012, 2923.2614270241083, 4040.9400429727025, 14282.522019118152, 2765.2081016417424, 18998.688301229504, 10759.15905020234, 7043.387774754277, 6353.766627327217, 10720.11228694237, 28069.138619037807, 5913.753222066951, 11072.764434013272, 9455.270672754274, 29596.46424997419, 2498.1435410831177, 2487.0991375640474, 1970.0202455296185, 1797.3259359569645, 1772.225018867937, 1720.015111322706, 1568.4055721047628, 1483.0624540020879, 1380.6507122787684, 1343.501354986792, 1301.3318142773603, 1292.2954841253138, 1280.247043922474, 1258.158236884211, 1239.0815398964921, 1121.6092479197835, 1106.5486976663299, 1093.4962207800415, 1078.4356705265664, 1077.4316338428741, 1057.3509001717202, 2163.6862676492087, 1377.4215801171438, 1950.8596676822483, 1057.5505351091242, 1234.4203587131963, 1143.4454241122314, 1119.2811258203858, 2493.680543006862, 1320.805093501086, 3302.28528874387, 2445.457695676648, 9134.770811583448, 2434.858161349713, 14229.753924449651, 11428.70376598234, 5920.316640713622, 8050.143331790236, 14906.73154838037, 7043.387774754277, 6353.766627327217, 10759.15905020234, 19110.551581150925, 8992.558779319697, 9986.278966480482, 6852.415341911372, 12165.108172910812, 4132.728775155415, 18998.688301229504, 6651.163078012466, 14282.522019118152, 8654.248518373432, 11072.764434013272, 5144.301651722681, 4636.1952618286805, 4078.9819427337916, 3301.288533349623, 3085.8193542031895, 3073.7931674600836, 2736.057756426028, 2426.383447792372, 2292.0910291615614, 2207.9077219601545, 2137.7549659589295, 1753.919172409857, 1727.862434466586, 1635.661669436523, 1521.4128953773945, 1504.375797491473, 1422.1968547470674, 1340.017912002991, 1266.8586093161396, 1170.6491153716736, 1148.6011063427927, 1146.5967418856135, 1140.5836485140917, 1138.5792840567335, 2976.6320710626223, 1162.3218296858636, 1799.8503281812689, 2096.6102202466645, 2253.4519426134393, 5261.852064101222, 4474.422793754342, 6673.666900028537, 5079.595909202875, 4027.617154969742, 1927.9968878539776, 14906.73154838037, 9572.105028618642, 3211.3538916127977, 7678.011207982514, 4038.0121030395053, 4845.1939257025515, 12591.09456933888, 4186.286408391706, 10720.11228694237, 8773.37659424219, 5498.19839410298, 2291.5654539463303, 2201.625695402626, 1895.830516353803, 1837.8693386256525, 1549.0627806349078, 1526.0781756737827, 1482.1076270524477, 1358.1906263920691, 1237.2716176832598, 1214.287012721661, 1148.3311897893695, 1122.3485928772436, 1060.3900925471241, 1457.0779172715443, 1046.3033195860432, 9655.413589531729, 1208.5630703498907, 2036.3018633994056, 1865.5429568117736, 13385.967623207653, 2513.653275593265, 1246.0344707010297, 1146.9525742555932, 1273.5516886596165, 13510.900581675145, 1271.136012268437, 1614.0447341941103, 3484.8703490471853, 4891.515186805879, 3511.785044186145, 20831.618295204327, 3455.396422634312, 2452.7864853326114, 19110.551581150925, 6632.575107723647, 4287.049901184759, 7338.465228501849, 14282.522019118152, 12591.09456933888, 6651.163078012466, 8050.143331790236, 11304.651378993709, 10626.136774132514, 8654.248518373432, 13066.305790429793, 11428.70376598234, 11150.224555024952, 3103.245591554594, 3017.2998919359325, 2582.5157644531305, 2216.488196665288, 1925.2839438397068, 1773.6150621596387, 1530.944851471562, 1520.8335926927532, 1503.6444527691494, 1490.499816356861, 1425.7877601733485, 1317.5972912416314, 1255.9186126917807, 1178.0619200959397, 1131.550129714018, 1117.394367423892, 1072.4919576859477, 1296.979695773671, 1424.3144499745715, 3414.0381994305885, 1142.8707235054878, 3127.1880726174963, 1817.7574014543834, 1191.3427472851995, 1192.9977610594078, 1213.3779903164336, 1277.757618111441, 1281.174640590359, 1246.4112035376056, 2651.904056425253, 11150.224555024952, 5936.469113301718, 2003.4311211252157, 3830.7714125717594, 3047.0708331495293, 3010.8179679547266, 6195.926841001098, 3471.6800913827356, 20831.618295204327, 8654.248518373432, 5279.987673988177, 3742.812314662775, 11473.035350805676, 13066.305790429793, 19110.551581150925, 8582.340653233941, 13385.967623207653, 11005.357458704215, 10720.11228694237, 14906.73154838037, 4524.952062404507, 3066.63832345163, 2371.1348479510716, 2189.6104804451325, 2137.600689755233, 1698.0669684344446, 1680.7303715378628, 1658.294775553881, 1624.641381577956, 1569.5721914357794, 1520.6218001982372, 1483.909006770095, 1462.493210603658, 1460.4536109687717, 1457.3942115163911, 1430.879416262732, 1413.5428193661135, 1411.503219731205, 1237.117450947331, 1067.8306812505932, 1239.9128712583124, 3084.5726289995782, 2603.674997930305, 2600.1952853009307, 1862.063065880103, 1742.791802487412, 2624.156701682972, 4344.477783365291, 1917.058638703662, 1088.7804703318316, 5206.757583117429, 9828.240018880924, 6557.405642415345, 15421.128538823903, 2629.2577144937413, 8233.700606829465, 6632.575107723647, 2786.431447496379, 2520.050225283344, 2979.4851044476195, 6456.07256729428, 3157.424549508256, 5725.274913308982, 5078.783520482605, 11005.357458704215, 8041.679816439211, 4712.6730120394095], \"Category\": [\"Default\", \"Default\", \"Default\", \"Default\", \"Default\", \"Default\", \"Default\", \"Default\", \"Default\", \"Default\", \"Default\", \"Default\", \"Default\", \"Default\", \"Default\", \"Default\", \"Default\", \"Default\", \"Default\", \"Default\", \"Default\", \"Default\", \"Default\", \"Default\", \"Default\", \"Default\", \"Default\", \"Default\", \"Default\", \"Default\", \"Topic1\", \"Topic1\", \"Topic1\", \"Topic1\", \"Topic1\", \"Topic1\", \"Topic1\", \"Topic1\", \"Topic1\", \"Topic1\", \"Topic1\", \"Topic1\", \"Topic1\", \"Topic1\", \"Topic1\", \"Topic1\", \"Topic1\", \"Topic1\", \"Topic1\", \"Topic1\", \"Topic1\", \"Topic1\", \"Topic1\", \"Topic1\", \"Topic1\", \"Topic1\", \"Topic1\", \"Topic1\", \"Topic1\", \"Topic1\", \"Topic1\", \"Topic1\", \"Topic1\", \"Topic1\", \"Topic1\", \"Topic1\", \"Topic1\", \"Topic1\", \"Topic1\", \"Topic1\", \"Topic1\", \"Topic1\", \"Topic1\", \"Topic1\", \"Topic1\", \"Topic1\", \"Topic1\", \"Topic1\", \"Topic1\", \"Topic1\", \"Topic1\", \"Topic1\", \"Topic1\", \"Topic1\", \"Topic1\", \"Topic1\", \"Topic1\", \"Topic1\", \"Topic1\", \"Topic1\", \"Topic1\", \"Topic1\", \"Topic1\", \"Topic1\", \"Topic1\", \"Topic1\", \"Topic1\", \"Topic1\", \"Topic1\", \"Topic1\", \"Topic1\", \"Topic1\", \"Topic1\", \"Topic2\", \"Topic2\", \"Topic2\", \"Topic2\", \"Topic2\", \"Topic2\", \"Topic2\", \"Topic2\", \"Topic2\", \"Topic2\", \"Topic2\", \"Topic2\", \"Topic2\", \"Topic2\", \"Topic2\", \"Topic2\", \"Topic2\", \"Topic2\", \"Topic2\", \"Topic2\", \"Topic2\", \"Topic2\", \"Topic2\", \"Topic2\", \"Topic2\", \"Topic2\", \"Topic2\", \"Topic2\", \"Topic2\", \"Topic2\", \"Topic2\", \"Topic2\", \"Topic2\", \"Topic2\", \"Topic2\", \"Topic2\", \"Topic2\", \"Topic2\", \"Topic2\", \"Topic2\", \"Topic2\", \"Topic2\", \"Topic2\", \"Topic2\", \"Topic2\", \"Topic2\", \"Topic2\", \"Topic2\", \"Topic2\", \"Topic3\", \"Topic3\", \"Topic3\", \"Topic3\", \"Topic3\", \"Topic3\", \"Topic3\", \"Topic3\", \"Topic3\", \"Topic3\", \"Topic3\", \"Topic3\", \"Topic3\", \"Topic3\", \"Topic3\", \"Topic3\", \"Topic3\", \"Topic3\", \"Topic3\", \"Topic3\", \"Topic3\", \"Topic3\", \"Topic3\", \"Topic3\", \"Topic3\", \"Topic3\", \"Topic3\", \"Topic3\", \"Topic3\", \"Topic3\", \"Topic3\", \"Topic3\", \"Topic3\", \"Topic3\", \"Topic3\", \"Topic3\", \"Topic3\", \"Topic3\", \"Topic3\", \"Topic3\", \"Topic3\", \"Topic3\", \"Topic3\", \"Topic3\", \"Topic3\", \"Topic3\", \"Topic3\", \"Topic3\", \"Topic4\", \"Topic4\", \"Topic4\", \"Topic4\", \"Topic4\", \"Topic4\", \"Topic4\", \"Topic4\", \"Topic4\", \"Topic4\", \"Topic4\", \"Topic4\", \"Topic4\", \"Topic4\", \"Topic4\", \"Topic4\", \"Topic4\", \"Topic4\", \"Topic4\", \"Topic4\", \"Topic4\", \"Topic4\", \"Topic4\", \"Topic4\", \"Topic4\", \"Topic4\", \"Topic4\", \"Topic4\", \"Topic4\", \"Topic4\", \"Topic4\", \"Topic4\", \"Topic4\", \"Topic4\", \"Topic4\", \"Topic4\", \"Topic4\", \"Topic4\", \"Topic4\", \"Topic4\", \"Topic4\", \"Topic4\", \"Topic4\", \"Topic4\", \"Topic4\", \"Topic4\", \"Topic4\", \"Topic4\", \"Topic4\", \"Topic4\", \"Topic4\", \"Topic4\", \"Topic5\", \"Topic5\", \"Topic5\", \"Topic5\", \"Topic5\", \"Topic5\", \"Topic5\", \"Topic5\", \"Topic5\", \"Topic5\", \"Topic5\", \"Topic5\", \"Topic5\", \"Topic5\", \"Topic5\", \"Topic5\", \"Topic5\", \"Topic5\", \"Topic5\", \"Topic5\", \"Topic5\", \"Topic5\", \"Topic5\", \"Topic5\", \"Topic5\", \"Topic5\", \"Topic5\", \"Topic5\", \"Topic5\", \"Topic5\", \"Topic5\", \"Topic5\", \"Topic5\", \"Topic5\", \"Topic5\", \"Topic5\", \"Topic5\", \"Topic5\", \"Topic5\", \"Topic5\", \"Topic5\", \"Topic5\", \"Topic5\", \"Topic5\", \"Topic5\", \"Topic5\", \"Topic5\", \"Topic5\", \"Topic6\", \"Topic6\", \"Topic6\", \"Topic6\", \"Topic6\", \"Topic6\", \"Topic6\", \"Topic6\", \"Topic6\", \"Topic6\", \"Topic6\", \"Topic6\", \"Topic6\", \"Topic6\", \"Topic6\", \"Topic6\", \"Topic6\", \"Topic6\", \"Topic6\", \"Topic6\", \"Topic6\", \"Topic6\", \"Topic6\", \"Topic6\", \"Topic6\", \"Topic6\", \"Topic6\", \"Topic6\", \"Topic6\", \"Topic6\", \"Topic6\", \"Topic6\", \"Topic6\", \"Topic6\", \"Topic6\", \"Topic6\", \"Topic6\", \"Topic6\", \"Topic6\", \"Topic6\", \"Topic6\", \"Topic6\", \"Topic6\", \"Topic6\", \"Topic6\", \"Topic6\", \"Topic6\", \"Topic6\", \"Topic6\", \"Topic6\", \"Topic6\", \"Topic6\", \"Topic6\", \"Topic7\", \"Topic7\", \"Topic7\", \"Topic7\", \"Topic7\", \"Topic7\", \"Topic7\", \"Topic7\", \"Topic7\", \"Topic7\", \"Topic7\", \"Topic7\", \"Topic7\", \"Topic7\", \"Topic7\", \"Topic7\", \"Topic7\", \"Topic7\", \"Topic7\", \"Topic7\", \"Topic7\", \"Topic7\", \"Topic7\", \"Topic7\", \"Topic7\", \"Topic7\", \"Topic7\", \"Topic7\", \"Topic7\", \"Topic7\", \"Topic7\", \"Topic7\", \"Topic7\", \"Topic7\", \"Topic7\", \"Topic7\", \"Topic7\", \"Topic7\", \"Topic7\", \"Topic7\", \"Topic7\", \"Topic7\", \"Topic7\", \"Topic7\", \"Topic7\", \"Topic7\", \"Topic8\", \"Topic8\", \"Topic8\", \"Topic8\", \"Topic8\", \"Topic8\", \"Topic8\", \"Topic8\", \"Topic8\", \"Topic8\", \"Topic8\", \"Topic8\", \"Topic8\", \"Topic8\", \"Topic8\", \"Topic8\", \"Topic8\", \"Topic8\", \"Topic8\", \"Topic8\", \"Topic8\", \"Topic8\", \"Topic8\", \"Topic8\", \"Topic8\", \"Topic8\", \"Topic8\", \"Topic8\", \"Topic8\", \"Topic8\", \"Topic8\", \"Topic8\", \"Topic8\", \"Topic8\", \"Topic8\", \"Topic8\", \"Topic8\", \"Topic8\", \"Topic8\", \"Topic8\", \"Topic8\", \"Topic8\", \"Topic8\", \"Topic8\", \"Topic8\", \"Topic8\", \"Topic8\", \"Topic9\", \"Topic9\", \"Topic9\", \"Topic9\", \"Topic9\", \"Topic9\", \"Topic9\", \"Topic9\", \"Topic9\", \"Topic9\", \"Topic9\", \"Topic9\", \"Topic9\", \"Topic9\", \"Topic9\", \"Topic9\", \"Topic9\", \"Topic9\", \"Topic9\", \"Topic9\", \"Topic9\", \"Topic9\", \"Topic9\", \"Topic9\", \"Topic9\", \"Topic9\", \"Topic9\", \"Topic9\", \"Topic9\", \"Topic9\", \"Topic9\", \"Topic9\", \"Topic9\", \"Topic9\", \"Topic9\", \"Topic9\", \"Topic9\", \"Topic9\", \"Topic9\", \"Topic9\", \"Topic9\", \"Topic9\", \"Topic9\", \"Topic9\", \"Topic9\", \"Topic9\", \"Topic9\", \"Topic9\", \"Topic9\", \"Topic9\", \"Topic10\", \"Topic10\", \"Topic10\", \"Topic10\", \"Topic10\", \"Topic10\", \"Topic10\", \"Topic10\", \"Topic10\", \"Topic10\", \"Topic10\", \"Topic10\", \"Topic10\", \"Topic10\", \"Topic10\", \"Topic10\", \"Topic10\", \"Topic10\", \"Topic10\", \"Topic10\", \"Topic10\", \"Topic10\", \"Topic10\", \"Topic10\", \"Topic10\", \"Topic10\", \"Topic10\", \"Topic10\", \"Topic10\", \"Topic10\", \"Topic10\", \"Topic10\", \"Topic10\", \"Topic10\", \"Topic10\", \"Topic10\", \"Topic10\", \"Topic10\", \"Topic10\", \"Topic10\", \"Topic10\", \"Topic10\", \"Topic10\", \"Topic10\", \"Topic10\", \"Topic10\", \"Topic10\"], \"logprob\": [30.0, 29.0, 28.0, 27.0, 26.0, 25.0, 24.0, 23.0, 22.0, 21.0, 20.0, 19.0, 18.0, 17.0, 16.0, 15.0, 14.0, 13.0, 12.0, 11.0, 10.0, 9.0, 8.0, 7.0, 6.0, 5.0, 4.0, 3.0, 2.0, 1.0, -5.691, -5.9198, -5.9484, -6.0317, -6.0976, -6.1017, -6.1404, -6.1874, -6.2351, -6.268, -6.2688, -6.277, -6.2778, -6.2811, -6.3372, -6.3521, -6.3791, -6.4162, -6.42, -6.42, -5.9357, -6.329, -6.2972, -5.9679, -5.8847, -6.0976, -6.1945, -6.3802, -6.3992, -6.2741, -6.1894, -4.2842, -5.4429, -5.6209, -5.5095, -5.2588, -5.4041, -5.0155, -5.4095, -5.3505, -4.144, -4.6531, -4.752, -5.8208, -3.9196, -5.7513, -5.5178, -4.7702, -5.5294, -5.1179, -4.8984, -5.7341, -4.7842, -4.1769, -5.437, -5.3471, -5.3133, -5.2134, -5.1547, -4.9725, -5.0799, -5.0034, -5.3794, -5.0628, -5.0978, -5.0912, -5.2769, -5.1044, -5.1285, -5.2338, -5.2817, -5.3227, -5.3539, -3.082, -3.5667, -3.5939, -3.9259, -3.9785, -3.9843, -3.9976, -4.0069, -4.0083, -4.0093, -4.0102, -4.6017, -4.6188, -4.6533, -4.6654, -4.6703, -4.672, -4.676, -4.6796, -4.6802, -4.6806, -4.6851, -4.6869, -4.6879, -4.6926, -4.6967, -4.6971, -4.7006, -4.7013, -4.7015, -3.2077, -3.9628, -4.6687, -3.9511, -4.6281, -3.9945, -3.4952, -4.6372, -3.9974, -4.6658, -4.5945, -4.6617, -4.6251, -3.9354, -4.6529, -4.6487, -4.6127, -4.6496, -4.6471, -4.1495, -4.1724, -4.297, -4.3619, -4.3843, -4.5383, -4.6498, -4.6579, -4.6631, -4.7106, -4.867, -4.8874, -4.9211, -5.0118, -5.0285, -5.0694, -5.1089, -5.1305, -5.1612, -5.2039, -5.232, -5.271, -5.3044, -5.3188, -5.3221, -5.3268, -5.3511, -5.3525, -5.3593, -5.3607, -3.7302, -4.9631, -4.6498, -4.9219, -4.7466, -3.6576, -4.7011, -4.1962, -4.6753, -4.3672, -4.026, -4.1368, -4.4157, -4.892, -4.5323, -4.8029, -4.7053, -4.8719, -2.9093, -3.4314, -3.6534, -3.7729, -4.252, -4.3225, -4.3404, -4.6197, -4.6552, -4.8742, -4.8953, -4.9143, -4.9228, -4.9338, -4.9526, -4.9608, -5.0118, -5.0156, -5.0161, -5.026, -5.0277, -5.0371, -5.0388, -5.0399, -5.0399, -5.0411, -5.0411, -5.0427, -5.0427, -5.0427, -3.0293, -4.1004, -3.592, -4.0383, -3.7443, -4.2864, -4.6736, -4.8253, -4.3028, -4.5812, -4.4799, -4.3795, -4.3234, -4.7433, -4.5481, -4.4807, -4.3375, -4.631, -4.5302, -4.6487, -4.8635, -4.8237, -3.8308, -4.2938, -4.594, -4.8373, -4.9849, -5.0684, -5.105, -5.206, -5.2102, -5.2279, -5.3058, -5.3089, -5.3105, -5.3128, -5.338, -5.3647, -5.46, -5.47, -4.2371, -4.2997, -5.1027, -3.3506, -4.4941, -4.8972, -5.0291, -3.1533, -5.3564, -5.7328, -4.3449, -5.7792, -4.263, -4.6386, -4.8384, -4.5773, -4.9883, -4.8357, -4.3076, -5.0736, -4.531, -4.7885, -4.9214, -4.9558, -4.925, -4.8061, -5.0279, -5.0035, -5.0153, -5.0281, -4.6229, -4.6274, -4.8604, -4.9522, -4.9663, -4.9962, -5.0884, -5.1444, -5.216, -5.2432, -5.2751, -5.2821, -5.2915, -5.3089, -5.3241, -5.4238, -5.4373, -5.4491, -5.463, -5.464, -5.4828, -4.7953, -5.2903, -4.9963, -5.6088, -5.4894, -5.5731, -5.6086, -4.9067, -5.546, -4.6408, -4.9756, -4.1311, -5.0732, -3.9607, -4.1541, -4.567, -4.4279, -4.2211, -4.5772, -4.6608, -4.4783, -4.27, -4.6529, -4.6198, -4.7581, -4.607, -4.9545, -4.6709, -4.9, -4.7774, -4.8663, -4.8607, -3.855, -3.959, -4.087, -4.2986, -4.366, -4.37, -4.4864, -4.6065, -4.6634, -4.7008, -4.7331, -4.931, -4.946, -5.0008, -5.0733, -5.0845, -5.1407, -5.2002, -5.2564, -5.3354, -5.3544, -5.3561, -5.3614, -5.3631, -4.4031, -5.364, -4.9387, -4.8049, -4.7959, -3.9792, -4.1955, -3.945, -4.3332, -4.5725, -5.0612, -4.0105, -4.3846, -4.8567, -4.5384, -4.7817, -4.7304, -4.4626, -4.794, -4.6515, -4.7292, -4.8117, -4.4541, -4.4941, -4.6436, -4.6747, -4.8457, -4.8606, -4.8898, -4.9772, -5.0704, -5.0892, -5.145, -5.1679, -5.2247, -4.94, -5.2777, -3.0791, -5.1582, -4.6748, -4.7994, -2.884, -4.5651, -5.2736, -5.3877, -5.2886, -2.9586, -5.3246, -5.0985, -4.3536, -4.0437, -4.3852, -2.6473, -4.5192, -4.7916, -3.4946, -4.2084, -4.5864, -4.4073, -4.1533, -4.2264, -4.5142, -4.4479, -4.3508, -4.5577, -4.6935, -4.7338, -4.7755, -4.8033, -4.0732, -4.1013, -4.2569, -4.4097, -4.5506, -4.6326, -4.7798, -4.7864, -4.7978, -4.8066, -4.851, -4.9299, -4.9778, -5.0418, -5.0821, -5.0947, -5.1537, -4.9718, -4.889, -4.0301, -5.1783, -4.184, -4.7268, -5.1502, -5.1648, -5.1834, -5.1424, -5.1484, -5.1819, -4.4361, -3.0336, -3.7462, -4.7379, -4.1898, -4.4067, -4.496, -3.9939, -4.409, -3.325, -3.8747, -4.2379, -4.4232, -4.094, -4.099, -4.1938, -4.4642, -4.4293, -4.4752, -4.5272, -4.6845, -3.5764, -3.9654, -4.2226, -4.3023, -4.3263, -4.5565, -4.5668, -4.5802, -4.6007, -4.6352, -4.6669, -4.6913, -4.7059, -4.7073, -4.7094, -4.7277, -4.7399, -4.7413, -4.8732, -5.0204, -4.8846, -4.006, -4.1954, -4.2307, -4.5827, -4.6566, -4.2848, -3.8516, -4.6772, -5.2626, -3.7388, -3.7716, -4.035, -3.6965, -4.528, -4.1169, -4.1958, -4.529, -4.59, -4.555, -4.4376, -4.576, -4.4934, -4.5352, -4.4765, -4.5159, -4.5891], \"loglift\": [30.0, 29.0, 28.0, 27.0, 26.0, 25.0, 24.0, 23.0, 22.0, 21.0, 20.0, 19.0, 18.0, 17.0, 16.0, 15.0, 14.0, 13.0, 12.0, 11.0, 10.0, 9.0, 8.0, 7.0, 6.0, 5.0, 4.0, 3.0, 2.0, 1.0, 1.5628, 1.5628, 1.5628, 1.5628, 1.5628, 1.5628, 1.5628, 1.5628, 1.5628, 1.5628, 1.5628, 1.5628, 1.5628, 1.5628, 1.5628, 1.5628, 1.5628, 1.5628, 1.5628, 1.5628, 1.5614, 1.5613, 1.5583, 1.5582, 1.5506, 1.5483, 1.5435, 1.5416, 1.5411, 1.5356, 1.5346, 1.4407, 1.4981, 1.49, 1.4789, 1.4321, 1.433, 1.3149, 1.3723, 1.3224, 0.9369, 1.0869, 1.0916, 1.4147, 0.7709, 1.3843, 1.2979, 1.0084, 1.2904, 1.0795, 0.9551, 1.356, 0.8365, 0.4606, 1.1869, 1.1251, 1.1018, 1.0352, 0.9898, 0.8562, 0.7434, 0.6585, 1.0286, 0.6612, 0.5516, 0.5087, 0.8211, 0.4565, 0.4983, 0.6831, 0.6588, 0.7094, 0.74, 1.7484, 1.7484, 1.7484, 1.7484, 1.7484, 1.7484, 1.7484, 1.7484, 1.7484, 1.7484, 1.7484, 1.7484, 1.7484, 1.7484, 1.7484, 1.7484, 1.7484, 1.7484, 1.7484, 1.7484, 1.7484, 1.7484, 1.7484, 1.7484, 1.7484, 1.7484, 1.7484, 1.7484, 1.7484, 1.7484, 1.7115, 1.6758, 1.7433, 1.6072, 1.7343, 1.42, 1.1423, 1.718, 1.2921, 1.7354, 1.6659, 1.7286, 1.6802, 0.7551, 1.7091, 1.6029, 0.9482, 1.4833, 1.2689, 2.2896, 2.2896, 2.2896, 2.2896, 2.2896, 2.2896, 2.2896, 2.2896, 2.2896, 2.2896, 2.2896, 2.2896, 2.2896, 2.2896, 2.2896, 2.2895, 2.2895, 2.2895, 2.2895, 2.2895, 2.2895, 2.2895, 2.2895, 2.2895, 2.2895, 2.2895, 2.2895, 2.2895, 2.2895, 2.2895, 2.2759, 2.2783, 2.1827, 2.1772, 2.1286, 1.7122, 2.0544, 1.7906, 1.9263, 1.6792, 1.3402, 1.3898, 1.3974, 1.9627, 0.9229, 1.4939, 0.8798, 0.7171, 2.4083, 2.4083, 2.4083, 2.4083, 2.4083, 2.4083, 2.4083, 2.4083, 2.4083, 2.4082, 2.4082, 2.4082, 2.4082, 2.4082, 2.4082, 2.4082, 2.4082, 2.4082, 2.4082, 2.4082, 2.4082, 2.4082, 2.4082, 2.4082, 2.4082, 2.4082, 2.4082, 2.4082, 2.4082, 2.4082, 2.269, 2.3448, 2.242, 2.295, 2.2507, 2.2799, 2.3259, 2.3586, 2.1731, 2.2424, 2.0743, 1.9167, 1.8215, 2.1288, 1.7874, 1.6173, 1.1547, 1.6868, 1.0698, 1.3679, 2.166, 0.2513, 2.4591, 2.4591, 2.4591, 2.4591, 2.4591, 2.4591, 2.4591, 2.4591, 2.4591, 2.4591, 2.4591, 2.4591, 2.4591, 2.4591, 2.4591, 2.4591, 2.4591, 2.4591, 2.4375, 2.4249, 2.4151, 2.3526, 2.3449, 2.3439, 2.3361, 2.2703, 2.2618, 2.2433, 2.2245, 2.1655, 1.9468, 1.9483, 1.9135, 1.6848, 1.9642, 1.793, 1.0585, 1.9344, 0.5499, 0.8609, 1.1517, 1.2204, 0.728, -0.1156, 1.22, 0.6172, 0.7633, -0.3906, 2.4867, 2.4867, 2.4867, 2.4867, 2.4867, 2.4867, 2.4867, 2.4867, 2.4867, 2.4867, 2.4867, 2.4867, 2.4867, 2.4867, 2.4867, 2.4866, 2.4866, 2.4866, 2.4866, 2.4866, 2.4866, 2.458, 2.4147, 2.3606, 2.3604, 2.3252, 2.318, 2.3039, 2.2047, 2.2009, 2.1897, 2.1553, 1.682, 2.062, 1.4091, 1.435, 1.6798, 1.5116, 1.1022, 1.4958, 1.5153, 1.1711, 0.805, 1.1759, 1.1041, 1.3425, 0.9196, 1.6518, 0.4099, 1.2304, 0.5887, 1.0008, 0.76, 2.5323, 2.5323, 2.5323, 2.5323, 2.5323, 2.5323, 2.5323, 2.5323, 2.5323, 2.5323, 2.5323, 2.5323, 2.5323, 2.5323, 2.5323, 2.5323, 2.5323, 2.5323, 2.5323, 2.5323, 2.5323, 2.5323, 2.5323, 2.5323, 2.5313, 2.5108, 2.4988, 2.4799, 2.4168, 2.3855, 2.3313, 2.182, 2.0667, 2.0595, 2.3075, 1.3128, 1.3817, 2.0017, 1.4484, 1.8478, 1.7168, 1.0296, 1.7993, 1.0015, 1.1242, 1.509, 2.7419, 2.7419, 2.7419, 2.7419, 2.7419, 2.7419, 2.7419, 2.7419, 2.7419, 2.7419, 2.7418, 2.7418, 2.7418, 2.7087, 2.7022, 2.6786, 2.6775, 2.6393, 2.6023, 2.5469, 2.5383, 2.5316, 2.5003, 2.4948, 2.463, 2.4607, 2.4479, 2.4231, 2.3939, 2.3838, 2.3414, 2.266, 2.3364, 1.5803, 1.9247, 1.9832, 1.6248, 1.2128, 1.2658, 1.6162, 1.4916, 1.2492, 1.1042, 1.1736, 0.7213, 0.8136, 0.8105, 2.8195, 2.8195, 2.8195, 2.8195, 2.8195, 2.8195, 2.8195, 2.8195, 2.8195, 2.8195, 2.8195, 2.8195, 2.8195, 2.8195, 2.8195, 2.8195, 2.8015, 2.7933, 2.7825, 2.7672, 2.7133, 2.7011, 2.7008, 2.6999, 2.6839, 2.6484, 2.6377, 2.629, 2.623, 2.6138, 2.5801, 2.4979, 2.5925, 2.4923, 2.5043, 2.427, 2.2074, 2.3716, 1.6637, 1.9924, 2.1234, 2.2822, 1.4912, 1.3561, 0.8812, 1.4113, 1.0017, 1.1516, 1.1258, 0.6388, 2.9392, 2.9392, 2.9392, 2.9392, 2.9392, 2.9392, 2.9392, 2.9392, 2.9392, 2.9392, 2.9392, 2.9392, 2.9392, 2.9392, 2.9392, 2.9392, 2.9392, 2.9392, 2.9392, 2.9392, 2.9255, 2.8927, 2.8728, 2.8389, 2.8208, 2.8131, 2.7756, 2.7047, 2.6972, 2.6775, 2.6364, 1.9683, 2.1095, 1.5929, 2.5305, 1.8, 1.9373, 2.4714, 2.5109, 2.3784, 1.7225, 2.2994, 1.7868, 1.865, 1.1503, 1.4246, 1.8859]}, \"token.table\": {\"Topic\": [1, 3, 4, 5, 6, 7, 9, 1, 3, 4, 5, 6, 7, 8, 9, 8, 1, 4, 4, 1, 4, 1, 6, 7, 10, 1, 3, 4, 5, 7, 8, 9, 10, 1, 4, 9, 1, 8, 5, 8, 1, 4, 5, 5, 7, 7, 7, 7, 7, 7, 2, 7, 8, 9, 7, 7, 7, 10, 1, 7, 7, 7, 1, 8, 1, 3, 4, 6, 9, 10, 1, 5, 6, 7, 8, 9, 10, 6, 8, 1, 3, 4, 5, 6, 7, 8, 9, 10, 1, 3, 4, 5, 6, 7, 8, 9, 10, 4, 10, 1, 4, 5, 6, 7, 10, 1, 1, 1, 2, 5, 6, 10, 3, 1, 2, 3, 4, 5, 6, 9, 2, 2, 5, 6, 1, 4, 6, 7, 9, 1, 3, 5, 7, 8, 2, 3, 1, 3, 5, 6, 7, 8, 10, 10, 1, 4, 5, 1, 3, 6, 7, 9, 1, 9, 2, 1, 10, 1, 5, 6, 1, 1, 5, 7, 8, 9, 10, 1, 4, 7, 2, 1, 4, 5, 6, 7, 1, 4, 6, 2, 8, 1, 10, 6, 5, 8, 1, 5, 6, 1, 2, 4, 1, 6, 7, 8, 1, 5, 6, 7, 8, 9, 5, 6, 1, 6, 10, 1, 10, 1, 8, 10, 9, 3, 7, 9, 2, 8, 3, 7, 2, 2, 9, 1, 4, 6, 10, 1, 2, 5, 7, 1, 5, 6, 7, 8, 9, 10, 9, 1, 4, 10, 1, 3, 7, 2, 1, 6, 3, 4, 3, 5, 6, 8, 1, 3, 5, 6, 7, 8, 9, 4, 6, 5, 1, 8, 9, 2, 5, 4, 1, 9, 10, 7, 8, 5, 7, 8, 1, 9, 1, 3, 4, 6, 7, 8, 1, 5, 6, 1, 2, 4, 6, 10, 5, 1, 3, 4, 5, 6, 8, 9, 1, 5, 6, 7, 6, 7, 8, 4, 1, 10, 3, 4, 1, 4, 10, 9, 1, 3, 5, 6, 9, 1, 9, 3, 4, 1, 4, 7, 10, 1, 3, 1, 4, 1, 4, 6, 10, 3, 1, 6, 1, 2, 5, 6, 8, 10, 2, 1, 2, 6, 2, 2, 4, 3, 2, 2, 1, 1, 2, 1, 5, 6, 7, 1, 1, 6, 10, 1, 3, 5, 6, 7, 8, 9, 1, 5, 7, 9, 3, 2, 8, 4, 6, 10, 10, 3, 7, 7, 10, 5, 4, 5, 6, 4, 8, 1, 4, 6, 7, 9, 7, 8, 7, 7, 4, 3, 1, 3, 7, 1, 4, 5, 1, 3, 4, 5, 6, 1, 4, 5, 7, 1, 2, 2, 1, 2, 4, 6, 3, 1, 5, 1, 8, 10, 9, 1, 5, 6, 5, 8, 9, 3, 10, 1, 3, 4, 6, 7, 8, 9, 8, 4, 1, 3, 5, 6, 7, 9, 10, 9, 7, 1, 3, 5, 7, 8, 9, 10, 2, 4, 1, 8, 1, 4, 5, 6, 1, 5, 6, 7, 3, 7, 1, 9, 1, 5, 6, 4, 1, 3, 4, 5, 6, 8, 1, 3, 5, 6, 7, 10, 3, 3, 6, 7, 1, 2, 3, 5, 6, 7, 3, 3, 6, 8, 9, 2, 3, 5, 6, 8, 1, 3, 7, 10, 3, 5, 6, 7, 8, 9, 10, 7, 1, 4, 5, 6, 10, 1, 5, 6, 9, 1, 10, 10, 1, 3, 4, 5, 6, 7, 8, 9, 10, 6, 10, 6, 1, 5, 7, 6, 8, 9, 4, 6, 1, 4, 6, 7, 8, 1, 3, 4, 5, 6, 7, 10, 3, 10, 3, 7, 6, 9, 1, 4, 10, 2, 4, 1, 3, 4, 5, 6, 5, 1, 5, 6, 8, 9, 10, 3, 1, 5, 2, 1, 4, 8, 9, 2, 1, 7, 10, 8, 1, 5, 8, 9, 3, 7, 9, 2, 1, 5, 7, 1, 3, 1, 3, 4, 5, 6, 7, 8, 10, 2, 5, 1, 9, 1, 3, 6, 7, 8, 9, 7, 1, 4, 5, 7, 1, 10, 2, 3, 1, 10, 1, 4, 5, 9, 3, 5, 6, 7, 4, 5, 6, 7, 8, 9, 1, 1, 1, 7, 8, 9, 1, 3, 7, 9, 5, 8, 9, 5, 8, 9, 6, 4, 1, 4, 5, 6, 7, 1, 3, 4, 6, 2, 3, 1, 3, 4, 5, 6, 7, 9, 10, 3, 5, 6, 7, 8, 9, 4, 1, 1, 2, 5, 9, 5, 4, 4, 9, 7, 8, 9, 4, 6, 7, 9, 1, 4, 8, 5, 1, 5, 6, 1, 3, 5, 6, 7, 4, 5, 6, 6, 1, 2, 3, 5, 6, 7, 8, 10, 1, 3, 4, 1, 1, 3, 5, 6, 6, 3, 1, 2, 4, 6, 3, 6, 7, 8, 5, 5, 8, 3, 5, 6, 8, 9, 3, 5, 7, 8, 5, 6, 8, 9, 3, 5, 6, 8, 9, 5, 6, 8, 9, 5, 9, 5, 6, 5, 6, 7, 8, 7, 6, 3, 5, 7, 4, 5, 1, 3, 4, 6, 7, 8, 9, 1, 6, 7, 8, 9, 1, 3, 5, 8, 9, 10, 1, 5, 1, 3, 5, 6, 7, 10, 7, 1, 4, 5, 6, 8, 2, 3, 7, 3, 1, 4, 6, 1, 6, 1, 5, 10, 1, 5, 6, 7, 8, 10, 1, 5, 7, 10, 6, 4, 8, 2, 7, 7, 7, 1, 2, 6, 8, 6, 1, 2, 7, 9, 10, 3, 1, 6, 9, 4, 9, 1, 8, 9, 4, 9, 1, 2, 4, 5, 9, 2, 6, 8, 7, 5, 6, 8, 9, 6, 6, 6, 4, 2, 1, 2, 3, 5, 9, 7, 1, 3, 5, 6, 9, 3, 5, 6, 6, 7, 8, 4, 1, 1, 2, 5, 6, 7, 10, 1, 5, 7, 8, 1, 3, 5, 6, 7, 9, 10, 4, 4, 1, 6, 3, 1, 3, 6, 9, 1, 4, 6, 7, 8, 9, 7, 2, 8, 10, 1, 2, 5, 6, 7, 8, 10, 3, 4, 5, 1, 10, 7, 8, 9, 3, 1, 3, 4, 5, 6, 7, 10, 3, 1, 3, 4, 6, 7, 8, 9, 2, 5, 3, 4, 10, 3, 1, 6, 7, 8, 10, 10, 1, 2, 3, 4, 5, 6, 10, 5, 6, 7, 5, 5, 8, 9, 3, 1, 3, 5, 6, 7, 1, 7, 1, 3, 5, 6, 7, 10, 2, 5, 6, 1, 10, 1, 10, 10, 5, 6, 7, 8, 1, 4, 9, 10, 2, 1, 5, 6, 6, 6, 6, 7, 9, 5, 1, 2, 6, 4, 5, 3, 10, 8], \"Freq\": [0.44063361583392213, 0.1070615813572381, 0.08947605301446862, 0.03782547605803247, 0.14510825902964503, 0.11933827095502057, 0.06049864153141451, 0.27704933684487687, 0.055689715183970194, 0.04095106359424274, 0.177050384286726, 0.042536867879213416, 0.2163223609909998, 0.006436499744880977, 0.1838600144516001, 1.0000710939410118, 0.24369879186188861, 0.7560344643901855, 1.000070398987644, 0.048291653678258585, 0.9516042827492562, 0.25588284278108964, 0.019020744274050143, 0.09869254104459979, 0.6262490331739151, 0.40489052963087624, 0.06105689497812047, 0.06379264179995071, 0.19933646160881285, 0.04252842786663381, 0.006839367054575612, 0.0016165776674451448, 0.2198545627725397, 0.06203656303844224, 0.04956529521112653, 0.888338000622642, 0.21448140535336557, 0.7855599439974893, 0.891249236008458, 0.10866665889857223, 0.1070346601224317, 0.14763401396197476, 0.7455517705079725, 1.000063937754927, 0.9997286105707076, 1.0000460839880276, 1.0002068462994511, 0.999750197063726, 1.0000044269051596, 1.00029973509886, 0.007261422509651027, 0.798756476061613, 0.11307072193599457, 0.08091299367896859, 1.0001146221362935, 0.9999578831741001, 0.9991157553235382, 0.0010078504593041744, 0.9988721740260315, 0.0017478078285669842, 0.9999866330122676, 1.0001116073118348, 0.2190723804022756, 0.781279636201664, 0.12896789110195417, 0.3006625491796702, 0.16696911702970554, 0.005710028766346062, 0.056312697488792196, 0.3416172382624282, 0.34106935549384093, 0.2896637610118738, 0.0750792235197151, 0.2883109822097168, 0.0037201417059318296, 0.0010145841016177717, 0.0010145841016177717, 0.06141632302969629, 0.9386444108231661, 0.5743886333840907, 0.0737154994418544, 0.001163372301090959, 0.18338977909924756, 0.09486772309805366, 0.04325629737692748, 0.0004230444731239851, 0.0010576111828099629, 0.027709412989621027, 0.24853359778911327, 0.003145994908722953, 0.012583979634891811, 0.04497607536174295, 0.11290626172416819, 0.08331060591618189, 0.15869796539558007, 0.2445719745707214, 0.09146688901287103, 0.15090562226944376, 0.8490346626674765, 0.41488027839712677, 0.005343891173733483, 0.07918675102895979, 0.037285786144004074, 0.14319199304163127, 0.32002621006335746, 0.9997394530315724, 0.9998107539849849, 0.9995015974715908, 0.6336112156383846, 0.037221659786760085, 0.06899624740960406, 0.26022738802137324, 0.9998969397621351, 0.4529529805868987, 0.37033555397206325, 0.042003426467827086, 0.006127726337969685, 0.07616906343359992, 0.03195680537883028, 0.020413879021259473, 1.0000236458392986, 1.0000055137736765, 0.9566358576371999, 0.043346621617292885, 0.81295040428581, 0.005103020403532366, 0.06476910512175696, 0.0035328602793685614, 0.11344406897083491, 0.25010233363422407, 0.010510508767818396, 0.01863226554295079, 0.4803780257291544, 0.24030845046421148, 0.9999870399788277, 0.9999139983780164, 0.8364598873186677, 0.009038368134091694, 0.0414943264337846, 0.012325047455579583, 0.0020541745759299302, 0.0008216698303719722, 0.09818954472945067, 1.0000105940559882, 0.8781522374987187, 0.014325982354196383, 0.10729246358887504, 0.06521926776216291, 0.3116490326609684, 0.08730300716264214, 0.4425003483610041, 0.09328831971043557, 0.12657190560517795, 0.8734299711297709, 1.0000221395518039, 0.9783744491024422, 0.021129213454794526, 0.0016428061656711384, 0.3445785932495213, 0.653836853937113, 0.9998720083423834, 0.6306016902184524, 0.0727540460347121, 0.19347779275165194, 0.0497685644578113, 0.0007994950113704625, 0.0523669232447653, 0.3755158286012874, 0.6117216735296019, 0.0127774762094956, 0.9999726243550661, 0.27683669266184063, 0.0018971412781254235, 0.2299918964865898, 0.3184278668361288, 0.1727857902538847, 0.877416009594053, 0.0002633301349321888, 0.12218518260853559, 1.000008535970242, 0.9998596468062988, 0.21491257058187815, 0.7850568415672976, 0.9998186550639236, 0.9996929348726876, 0.9997804704485436, 0.2583287157803685, 0.5990231090559269, 0.14259354443831304, 0.9998175630664412, 0.9999147172712411, 0.9999378639840125, 0.14522528958437214, 0.06293095881989459, 0.09283028314608885, 0.6990746782933992, 0.01954545370113632, 0.18883915268174783, 0.2847622254611707, 0.13952446949734235, 0.32445453143886294, 0.04284964849864501, 0.8920787087025344, 0.1078068415515216, 0.5124480297763983, 0.13877474595186937, 0.3488466090900202, 0.6212709486408381, 0.3787046300100228, 0.2546397824625422, 0.7453325019524045, 0.9999431293622174, 0.9996470651406619, 0.2216172940836582, 0.7044103444809177, 0.0740222740211813, 0.9999995355464252, 0.9997115903562366, 0.376649503076068, 0.6231972661311342, 0.9999795498159761, 0.9947895517044126, 0.005180157889908818, 0.07923916221922343, 0.9207518940224696, 0.9999341932763368, 1.0000613199525643, 0.1288204038703076, 0.8645733034457799, 0.006619230238395252, 0.9994912220300816, 0.1473265693688277, 0.05589962581447932, 0.3771361421616871, 0.09726534891719402, 0.2864545269515318, 0.03602420330266445, 1.0002487139153953, 1.0001488579384534, 0.995820466701889, 0.001687831299494727, 0.0025317469492420904, 0.11788159573072028, 0.7212492370366439, 0.16100144259011534, 1.0000192263485927, 0.14905781381620128, 0.8506016549294094, 0.9998814795742593, 0.9999385701508083, 0.561358969551467, 0.09817457191579862, 0.34041347627783003, 0.9997532455617375, 0.04603329391242115, 0.40665483032990607, 0.05597977348992643, 0.20862946419593725, 0.05532215500546327, 0.11385020012268444, 0.11352139088045286, 1.000170558591615, 0.9995993863282678, 0.9998915214084086, 1.000277591569726, 0.2790560659640965, 0.7210036054189285, 0.9615100913262268, 0.03847556643785217, 1.0000133071391601, 0.01771575056002767, 0.9818255441952177, 0.999689404055449, 0.09772617880326892, 0.902616666534715, 0.06285671995184353, 0.12133733914754605, 0.8159438773495638, 1.0002858656078644, 1.0000360225441072, 0.1076168084585022, 0.04278027186314599, 0.001850357779547837, 0.0713497959793646, 0.019687806774388986, 0.7566483032127015, 0.042384563960147205, 0.8843901089733155, 0.07339765954074272, 0.17900275143765462, 0.7200525292847199, 0.015137342691361596, 0.02902548719945549, 0.05680177621564327, 0.999907720973857, 0.08361872723632612, 0.09272364497044423, 0.11569524775939741, 0.06499027486077412, 0.18602288818844764, 0.3129684653319565, 0.14395188900321224, 0.23549223684620596, 0.4610365132138395, 0.2900345029183789, 0.013378291678080164, 0.22138086753456904, 0.11211738226888855, 0.6665888000350283, 1.000046750867146, 0.06414010970368823, 0.9356006421448176, 1.000083677302897, 1.0001673475932138, 0.9855270133605913, 0.014372268944841957, 1.000220736973778, 0.9996646652677338, 0.3637830783741776, 0.11013871943622905, 0.20224628986770835, 0.2683295215294458, 0.05558055208680588, 0.11247812630358113, 0.8872341753946661, 0.10700398249759485, 0.8928662773637518, 0.08516944317251596, 0.7903129627055658, 0.07115152983240111, 0.05331054921770949, 1.0001255815948442, 1.0000376334713867, 1.0001200929287053, 0.9999442786922624, 0.07547883567198842, 0.15921616990350737, 0.02669607673894756, 0.7386554758128943, 0.9998230766567922, 0.9194377806120135, 0.08049069656726844, 0.3307469760444804, 0.4492476287270835, 0.03623925200487362, 0.015142222668703062, 0.10114664468026933, 0.06745945267573893, 0.9999736623326343, 0.055070931019604155, 0.9298620973827653, 0.014985912781628509, 1.0000317415363436, 0.6467053490005554, 0.3532728597341208, 1.0000217405848957, 1.0000003621348543, 0.9999850594658674, 0.9995526352587946, 0.9996992284082932, 1.0000511605684899, 0.2927536631129351, 0.5137418466800112, 0.12249624956965585, 0.07102307803331562, 1.000110474394556, 0.8621311490772083, 0.1375596304214819, 0.9997295093439538, 0.6241265090142769, 0.0455962223583667, 0.09141816858979462, 0.046611979787142196, 0.14615620780714078, 0.04300039781816266, 0.0028215484132652663, 0.24687318580740852, 0.08629874352358545, 0.08229106193580284, 0.584319975498704, 0.9999072985070767, 0.18940085972679743, 0.8105714759494297, 0.9999877269465877, 0.013710640799097222, 0.9863596292527002, 0.9999605619591633, 0.10916585144243265, 0.8910773564894503, 0.04538716277379609, 0.9544271943289693, 0.9997374149246047, 0.8700116809806724, 0.05207770326820689, 0.07792028215129951, 0.03918557767380604, 0.961480271703631, 0.0009341854249807853, 0.3151318833601849, 0.09590970363136062, 0.5882254225962344, 1.0001094184847352, 0.13025698449489942, 0.8694519705791228, 1.0003517000351172, 0.999841967355687, 0.9999928650227566, 1.0001821540235216, 0.054571423334780086, 0.607188485887219, 0.33823863102726465, 0.08965661514726293, 0.08246332178970751, 0.827896155090193, 0.1865719408333061, 0.005186791486780383, 0.5560545579210145, 0.1980133926423805, 0.0541562052296187, 0.9723228625041552, 0.028118926008491554, 0.7908691646309541, 0.209203668733107, 0.029932454052587633, 0.9700750675030445, 1.000021038066894, 0.01403172663896106, 0.9860132232783448, 0.15479531971315763, 0.8448151347057078, 1.0000700071896027, 0.02124613847332462, 0.978617866021306, 0.06205716676274642, 0.9374769325625559, 1.0001585632932073, 0.9999208597749201, 0.25467212141441037, 0.002422564769697126, 0.7431217431045933, 1.0001012517062826, 0.02544372907882334, 0.973800903834966, 0.7904925338495221, 0.20956198658555206, 0.34852910257111547, 0.0008845916308911559, 0.26228141855922776, 0.024591647338774135, 0.04484879568618161, 0.22477473340944273, 0.09429746785299722, 0.9999594718589249, 0.999953973126312, 0.3448320524108472, 0.06896641048216944, 0.06324192581764154, 0.08659418865547758, 0.08050624464717013, 0.18863539942158597, 0.1671004333026477, 0.9995138264761128, 0.9999602855382255, 0.6866608568702761, 0.07979846399783697, 0.019703324443910365, 0.11501815644132675, 0.08300025421997241, 0.015023784888481651, 0.0009851662221955183, 0.9999826534764376, 0.9998695022244409, 1.000244358781044, 0.9996894076586759, 0.09652569153424218, 0.8470806014079757, 0.05623147762275167, 1.0002529877528945, 0.06811270347062838, 0.5999613741245594, 0.2871650564441127, 0.04461738067065553, 0.898763777794467, 0.10134608432928831, 0.11222619687136473, 0.887907263482268, 0.02903341984836691, 0.2531223505090016, 0.7180659894891872, 1.0001673475932178, 0.2120449069193517, 0.5431058926245977, 0.009814334022994767, 0.0037322115298712493, 0.13864474683188382, 0.09261413796347175, 0.4932967477734509, 0.10286282499784537, 0.04036670862077608, 0.2695562030213807, 0.039365881134310554, 0.05448949648534512, 0.9998428247097146, 1.0000341708138063, 0.9714901977372952, 0.028192627051367748, 0.17908567934522684, 0.6190346449995578, 0.0004853270442960077, 0.16561785386601263, 0.033851561339646535, 0.0019413081771840308, 0.9999228928546305, 1.0000298519326039, 0.09522511306013909, 0.07805337136076974, 0.8265852027105516, 1.0000144818709178, 0.38697647324483203, 0.24645507252068188, 0.14990349723488064, 0.21669842313963364, 0.3251868370631095, 0.003423019337506416, 0.006846038675012832, 0.6644460869581899, 0.14127845484873033, 0.09586273123401502, 0.2504237758548482, 0.29536991296246895, 0.08814809576031891, 0.11296909684960202, 0.01596594124121454, 1.0000417943372033, 0.36804596791688843, 0.5374873914613737, 0.07013915135828365, 0.024179549547197785, 1.000117939094938, 0.09467180627475787, 0.05375433068143032, 0.029685227391237638, 0.8215587256385768, 0.11170405761831108, 0.8882620735609928, 1.0000842724662171, 0.24953251116803432, 0.0006195717223290735, 0.1552027164434329, 0.04182109125721246, 0.048016808480503194, 0.013475684960657347, 0.0027880727504808306, 0.19222212685259504, 0.2961552832732971, 0.9999425408985684, 0.9996354475194569, 0.9995960162126744, 1.0001205324114761, 0.05103476028434677, 0.949151149213552, 0.8816625964918712, 0.11840933708698968, 1.0002364569830293, 0.16707152089510746, 0.8326773126964715, 0.14981506671057646, 0.05197263812298579, 0.03366409514784307, 0.6278058445992488, 0.13701877323332617, 0.1329326124211014, 0.10718031915534915, 0.48602919684659174, 0.0725416711711331, 0.052592711599071494, 0.0043525002702679855, 0.14417657145262702, 0.9997798056286288, 0.9996159866127318, 0.8935778070964381, 0.10615197353805204, 0.10062380428056157, 0.8994893113079764, 0.11164295688774863, 0.716031063002289, 0.17228851371566145, 0.9999811030902255, 0.9999882462086072, 0.068076376205619, 0.06505821174330091, 0.8467628074836846, 0.0008942709517979507, 0.019115041594681196, 0.9996635894940742, 0.10674390426871543, 0.09047438726121605, 0.14087020823566535, 0.008333167247743583, 0.0019840874399389484, 0.6515743152759507, 1.000067477317816, 0.9807691504458896, 0.0187599301921555, 1.0000068766448118, 0.9956739453055444, 0.004856946074661192, 0.727143263936012, 0.27289394001702744, 0.9999722780767993, 0.3060931563774607, 0.12317564516505271, 0.570904012059277, 0.9999487734802655, 0.9879616673790758, 0.012197057621963898, 0.32482867128110154, 0.675231788051615, 0.8514359040526319, 0.06427723634164532, 0.08422534417181111, 0.9999795200049624, 0.8850474474274456, 0.08469593353071252, 0.03027002594825465, 0.013675597622609252, 0.9863690751297489, 0.40475669487616966, 0.08827290857796959, 0.08817880099952825, 0.07895625831227769, 0.056370439486357976, 0.01731579443320512, 0.19442625705979227, 0.07170997477229511, 0.9869989478254083, 0.013010171870676443, 0.1574117888442905, 0.8422766921406538, 0.786292057790906, 0.001293243516103464, 0.04215973862497292, 0.09518272278521495, 0.002069189625765542, 0.07293893430823536, 1.0000672890232518, 0.21502733334813123, 0.7847389278890563, 0.9664244764073381, 0.03377582724760708, 0.9984436879945083, 0.0011794963827460227, 1.0000075407778015, 0.9997195328112499, 0.11820115271714328, 0.8813445173472431, 0.4762554180261568, 0.4534033090316254, 0.04468533414854221, 0.025617650847372737, 0.409753027985513, 0.11144231431719269, 0.4471923909486563, 0.03152788460054174, 0.2854398384674121, 0.041537294245536045, 0.12381767060954244, 0.22253823800380879, 0.2284948289568015, 0.0980851976926138, 0.9996624977015212, 0.9995438374338438, 0.12443542856160422, 0.12011475395877073, 0.11637016930298172, 0.6388837512723106, 0.007876416832487283, 0.18509579556345113, 0.07745143218612494, 0.7295531091091345, 0.014791609062068958, 0.8228766354479272, 0.16240887929766626, 0.0239189689762366, 0.7061206738796685, 0.2700594702359705, 0.99950413599737, 0.999704088782489, 0.17360027214191384, 0.06290223840805438, 0.179791437339557, 0.07924691452983229, 0.5042084936960579, 0.6166645672914459, 0.18245940664123855, 0.12362227639393167, 0.07716344950466476, 0.9999785489271238, 1.000062805438132, 0.5347211259496562, 0.06474131163678286, 0.014000966581613204, 0.14816812378662092, 0.125324441469252, 0.04842439569580506, 0.009737514351873843, 0.05484589164677052, 0.20754759669773606, 0.10998622641191157, 0.34929595531929275, 0.06439925428732451, 0.14542331606730075, 0.12337357139283636, 1.000026941342963, 0.9999013992048257, 0.01969283180692941, 0.9803520626261493, 0.8989108941477594, 0.10112134553915329, 1.0000468375854334, 1.000178554714499, 1.0001625175744877, 0.999947439014127, 0.24544973707668993, 0.7544432623607232, 0.999900609171553, 0.9385159339886667, 0.061386687517256955, 0.03650879200230565, 0.9632704351377567, 0.9729803208060561, 0.02660178176188886, 1.0000893981000596, 0.9998506483070755, 0.39031746851376975, 0.6095931015701469, 0.999668132715768, 0.31337537798708404, 0.0996690116871283, 0.12422250909180407, 0.10348844461674453, 0.359390450901032, 1.0001322743055627, 0.9998073055305605, 1.0003483852161001, 0.9998730303062301, 0.7804124229491199, 0.002019890977044781, 0.0009181322622930823, 0.08465179458342219, 0.031951002727799264, 0.08612080620309112, 0.011568466504892837, 0.0022035174295033976, 0.07882200961523432, 0.041619881183265324, 0.8795978241133671, 0.9996283617414543, 0.645430034335361, 0.1210445834884677, 0.1568077558827877, 0.07681675490614297, 0.9997450194687321, 0.9999010876988398, 0.06590615573801611, 0.9341481204605763, 0.8542551608616739, 0.14576836718777217, 0.4511878039617071, 0.21005713187197933, 0.1299761796536677, 0.20845906408935228, 0.9998135002787082, 0.9998130169288147, 0.9996321235459801, 0.098136642895838, 0.26789107682065244, 0.4462599148550843, 0.008445494225115147, 0.1792133874569434, 0.34196009698764174, 0.1464876813835191, 0.04338647888110598, 0.46815410276548225, 0.01542569830331234, 0.0525549953822153, 0.1449298166171671, 0.7870693506387738, 0.10848199286626509, 0.064516464701521, 0.04362862756578053, 0.058452253920177, 0.7250100889695729, 0.12802960276073155, 0.22624725830822415, 0.20845253012667844, 0.4372418924608377, 0.05096603782260569, 0.9490227732485197, 0.8054639436166963, 0.19422534810615372, 0.27046643758961003, 0.37127020173061953, 0.21438547021538643, 0.14382283531667978, 1.0003472864992071, 0.999989723187026, 1.0001655588156888, 0.18214639911490352, 0.8177591096459288, 0.9998954869558505, 0.9996691696071323, 0.10928873263060442, 0.25493051007881184, 0.09413525289610886, 0.051659590003962176, 0.1259728668837359, 0.13255468131387035, 0.23143496321775053, 0.13412036993415052, 0.05342219307846429, 0.12718032672456153, 0.1431585657419874, 0.5421303521165002, 0.4122072801279709, 0.03458349214632976, 0.09781189697951853, 0.0006986564069965609, 0.13885796089056648, 0.3159673600641947, 0.17905066698891992, 0.8207043583544172, 0.5898983481439086, 0.10796188930459372, 0.04636607785181611, 0.09239371717916642, 0.16194283395689058, 0.0013537540978632442, 0.9994882896008092, 0.22065651482540632, 0.006295478311709167, 0.2897493892964144, 0.3785156334915137, 0.10481971388995764, 0.5130532923862736, 0.17049541298603105, 0.316440322263902, 0.9999709893862516, 0.9373967019459369, 0.0030434957855387562, 0.05985541711559554, 0.979287486134927, 0.020739974384073042, 0.12801929800141454, 0.591637207712752, 0.28026823714998944, 0.08156711250355905, 0.03618504066701325, 0.023671047436337838, 0.049754430917143225, 0.44160826714034096, 0.36712739176740533, 0.14885549682357377, 0.2270838111117072, 0.0965977160238085, 0.5273285153430858, 0.9999601392793114, 1.000205410737749, 0.9999273824312869, 0.9999802064505597, 0.9999125997783265, 0.9999788906407797, 1.000079616021895, 0.04768567972998934, 0.8682696809198949, 0.04980692882829847, 0.03419453546474324, 0.9997414112064021, 0.015882231062199534, 0.01035797677969535, 0.05961591079869101, 0.12314483504748915, 0.7908890714451826, 0.9999322180152477, 0.9299261660843101, 0.07014529270032512, 0.9998525184606586, 1.0001737624069806, 1.0000648030114347, 0.15574158759008394, 0.010956694604327513, 0.8334914109720573, 0.9996895205650674, 0.9998002860388193, 0.33210048055009045, 0.5454367745976305, 0.015103155438588912, 0.0578447474515978, 0.0494991559676348, 1.0000008647571021, 0.9996268295637135, 0.9997636368349047, 0.9998615840371111, 0.011472944473786776, 0.0037923121900801477, 0.6699911548980838, 0.3147619117766523, 0.999991214424451, 0.999546207137609, 0.9997713494096795, 1.0001625175744877, 0.9999948296591816, 0.07927469265490339, 0.9208192161945365, 0.988685804692549, 0.010960027396129873, 0.9997797431693873, 0.9999413619684259, 0.8265399271263442, 0.0510459061763304, 0.050757511226181634, 0.0715219476368923, 1.000217035730342, 0.0029039765731416938, 0.06679146118225895, 0.9307244916919128, 0.999874231333093, 0.9667470526609027, 0.03278050350976624, 1.000210097699844, 0.9998541691314643, 0.0565185713191222, 0.7669946918480343, 0.07354950080995101, 0.024114590429492138, 0.03858334468718742, 0.03993979039884635, 0.4259746285720528, 0.1726519047987175, 0.07426621003575457, 0.327180128983205, 0.5860292071506625, 0.003770590902764168, 0.13851960263838892, 0.05159755972203599, 0.07084741854141095, 0.09962298069408486, 0.04961303819426537, 1.0000136025142898, 1.0001625175744877, 0.1181976613411687, 0.8812817629597538, 0.9998452811597788, 0.18474320047771012, 0.6953762969741187, 0.04985898630884745, 0.06985075376601817, 0.10549267051210301, 0.12878817944026938, 0.0501895111053991, 0.09640174019867223, 0.12064422103448764, 0.49848601218645444, 1.00005854062603, 0.03225633951546668, 0.9676901854640003, 1.0001868030108152, 0.7673558052210392, 0.005966996930179154, 0.08443300656203503, 0.06086336868782737, 0.0017900990790537463, 0.002983498465089577, 0.07667591055280214, 1.0000286728466155, 1.000170558591613, 0.9999600195170534, 0.23053315782152284, 0.7696684711332117, 0.1828874611149305, 0.003016700389524627, 0.8141320176229587, 1.0000618879795264, 0.4391053753876878, 0.17729477520605552, 0.0018845724265566, 0.1288757605545244, 0.09089437780392216, 0.052043192394909184, 0.10988506917922329, 0.9996989586218469, 0.1919282851198892, 0.24422482057489991, 0.008454606565226728, 0.14956809140133057, 0.10921259820854731, 0.03172656484270648, 0.2648819520796291, 0.9999965134131044, 1.0001669575298164, 0.9998697684211071, 0.9996913485575043, 0.9999050607949624, 0.999953547804744, 0.7615556162402258, 0.15728430311806396, 0.0038946589343520598, 0.0008987674463889369, 0.07639523294305964, 0.9998222417641143, 0.48361906657659337, 0.004425272504622423, 0.0023481037779629183, 0.17321780946664914, 0.158497005012497, 0.17782370533880718, 1.0001604233889643, 0.08305060550474523, 0.05359329691610562, 0.8633842123754178, 0.999809584773065, 0.020547570037093253, 0.6213469418259044, 0.35799076247724443, 1.000066531941621, 0.4058568775821431, 0.059081065327773116, 0.10033767365835367, 0.25094432154474483, 0.1838522643081211, 0.021508672866237623, 0.9790747888711365, 0.5444881966123578, 0.056990600440899916, 0.04411072474125654, 0.05425505161973672, 0.24460365709234244, 0.05550884482943652, 1.0000315987379864, 0.2458213830633049, 0.754306723559668, 0.563790041611373, 0.43614809819002626, 0.09537745160986937, 0.9045474443000515, 0.9996434866572242, 0.16841172936005855, 0.4338537798025646, 0.37069938129254265, 0.02685876718242313, 0.9996992284083029, 0.2031514813303942, 0.7966333272808579, 1.000177894451249, 0.9999442207518956, 0.053458972030709144, 0.5793721052542823, 0.3669356666610455, 0.9998070341785621, 0.9999578884881622, 0.7510570673001302, 0.24833338515568823, 1.0003056387266773, 0.9999912996788735, 0.029378246879592184, 0.9637498061719876, 0.006851938677709763, 0.9999328681849671, 0.9998027681639138, 0.9999079168841234, 0.9996627604148299, 1.0001700128219595], \"Term\": [\"10\", \"10\", \"10\", \"10\", \"10\", \"10\", \"10\", \"12\", \"12\", \"12\", \"12\", \"12\", \"12\", \"12\", \"12\", \"12320\", \"19\", \"19\", \"2004\", \"2008\", \"2008\", \"2018\", \"2018\", \"2018\", \"2018\", \"2019\", \"2019\", \"2019\", \"2019\", \"2019\", \"2019\", \"2019\", \"2019\", \"27\", \"27\", \"27\", \"31\", \"31\", \"38\", \"38\", \"48\", \"48\", \"48\", \"85\", \"96\", \"diamond\", \"dot\", \"double\", \"exclamation\", \"glowing\", \"hands\", \"hands\", \"hands\", \"hands\", \"keycap\", \"mark\", \"red\", \"red\", \"right\", \"right\", \"star\", \"warning\", \"\\u4e00\\u4efd\", \"\\u4e00\\u4efd\", \"\\u4e00\\u4f4d\", \"\\u4e00\\u4f4d\", \"\\u4e00\\u4f4d\", \"\\u4e00\\u4f4d\", \"\\u4e00\\u4f4d\", \"\\u4e00\\u4f4d\", \"\\u4e00\\u5b9a\", \"\\u4e00\\u5b9a\", \"\\u4e00\\u5b9a\", \"\\u4e00\\u5b9a\", \"\\u4e00\\u5b9a\", \"\\u4e00\\u5b9a\", \"\\u4e00\\u5b9a\", \"\\u4e0d\\u660e\", \"\\u4e0d\\u660e\", \"\\u4e0d\\u662f\", \"\\u4e0d\\u662f\", \"\\u4e0d\\u662f\", \"\\u4e0d\\u662f\", \"\\u4e0d\\u662f\", \"\\u4e0d\\u662f\", \"\\u4e0d\\u662f\", \"\\u4e0d\\u662f\", \"\\u4e0d\\u662f\", \"\\u4e0d\\u80fd\", \"\\u4e0d\\u80fd\", \"\\u4e0d\\u80fd\", \"\\u4e0d\\u80fd\", \"\\u4e0d\\u80fd\", \"\\u4e0d\\u80fd\", \"\\u4e0d\\u80fd\", \"\\u4e0d\\u80fd\", \"\\u4e0d\\u80fd\", \"\\u4e13\\u8f91\", \"\\u4e13\\u8f91\", \"\\u4e16\\u754c\", \"\\u4e16\\u754c\", \"\\u4e16\\u754c\", \"\\u4e16\\u754c\", \"\\u4e16\\u754c\", \"\\u4e16\\u754c\", \"\\u4e1a\\u52a1\", \"\\u4e1c\\u4e9a\", \"\\u4e1c\\u4eac\", \"\\u4e25\\u91cd\", \"\\u4e25\\u91cd\", \"\\u4e25\\u91cd\", \"\\u4e25\\u91cd\", \"\\u4e2d\\u4e0b\\u65ec\", \"\\u4e2d\\u56fd\", \"\\u4e2d\\u56fd\", \"\\u4e2d\\u56fd\", \"\\u4e2d\\u56fd\", \"\\u4e2d\\u56fd\", \"\\u4e2d\\u56fd\", \"\\u4e2d\\u56fd\", \"\\u4e2d\\u56fd\\u653f\\u5e9c\", \"\\u4e2d\\u65b9\", \"\\u4e2d\\u98ce\", \"\\u4e2d\\u98ce\", \"\\u4e4b\\u524d\", \"\\u4e4b\\u524d\", \"\\u4e4b\\u524d\", \"\\u4e4b\\u524d\", \"\\u4e4b\\u524d\", \"\\u4e86\\u89e3\", \"\\u4e86\\u89e3\", \"\\u4e86\\u89e3\", \"\\u4e86\\u89e3\", \"\\u4e86\\u89e3\", \"\\u4e8b\\u52a1\", \"\\u4e8b\\u540e\", \"\\u4e8b\\u60c5\", \"\\u4e8b\\u60c5\", \"\\u4e8b\\u60c5\", \"\\u4e8b\\u60c5\", \"\\u4e8b\\u60c5\", \"\\u4e8b\\u60c5\", \"\\u4e8b\\u60c5\", \"\\u4e9a\\u6d32\", \"\\u4ea7\\u54c1\", \"\\u4ea7\\u54c1\", \"\\u4ea7\\u54c1\", \"\\u4eba\\u5458\", \"\\u4eba\\u5458\", \"\\u4eba\\u5458\", \"\\u4eba\\u5458\", \"\\u4eba\\u5458\", \"\\u4eba\\u58eb\", \"\\u4eba\\u58eb\", \"\\u4eba\\u6743\", \"\\u4eba\\u751f\", \"\\u4eba\\u751f\", \"\\u4eba\\u7fa4\", \"\\u4eba\\u7fa4\", \"\\u4eba\\u7fa4\", \"\\u4ebf\\u7f8e\\u5143\", \"\\u4eca\\u5929\", \"\\u4eca\\u5929\", \"\\u4eca\\u5929\", \"\\u4eca\\u5929\", \"\\u4eca\\u5929\", \"\\u4eca\\u5929\", \"\\u4eca\\u5e74\", \"\\u4eca\\u5e74\", \"\\u4eca\\u5e74\", \"\\u4ed8\\u51fa\\u4ee3\\u4ef7\", \"\\u4ee5\\u4e0a\", \"\\u4ee5\\u4e0a\", \"\\u4ee5\\u4e0a\", \"\\u4ee5\\u4e0a\", \"\\u4ee5\\u4e0a\", \"\\u4f01\\u4e1a\", \"\\u4f01\\u4e1a\", \"\\u4f01\\u4e1a\", \"\\u4f11\\u6574\", \"\\u4f20\\u4eba\", \"\\u4f3c\\u4e4e\", \"\\u4f3c\\u4e4e\", \"\\u4f53\\u68c0\", \"\\u4f53\\u6e29\", \"\\u4f55\\u79cd\", \"\\u4f7f\\u7528\", \"\\u4f7f\\u7528\", \"\\u4f7f\\u7528\", \"\\u4f8b\\u5b50\", \"\\u4fee\\u4f8b\", \"\\u504f\\u504f\", \"\\u505a\\u597d\", \"\\u505a\\u597d\", \"\\u505a\\u597d\", \"\\u505a\\u597d\", \"\\u5065\\u5eb7\", \"\\u5065\\u5eb7\", \"\\u5065\\u5eb7\", \"\\u5065\\u5eb7\", \"\\u5065\\u5eb7\", \"\\u5065\\u5eb7\", \"\\u513f\\u7ae5\", \"\\u513f\\u7ae5\", \"\\u5168\\u7403\", \"\\u5168\\u7403\", \"\\u5168\\u7403\", \"\\u516c\\u53f8\", \"\\u516c\\u53f8\", \"\\u516c\\u5e03\", \"\\u516c\\u5e03\", \"\\u516c\\u5e73\", \"\\u516c\\u91cc\", \"\\u5170\\u5dde\", \"\\u5170\\u5dde\", \"\\u5170\\u5dde\", \"\\u5171\\u548c\", \"\\u5173\\u8054\", \"\\u517d\\u533b\", \"\\u517d\\u533b\", \"\\u5185\\u653f\", \"\\u519b\\u8230\", \"\\u519b\\u8230\", \"\\u51a0\\u519b\", \"\\u51a0\\u519b\", \"\\u51a0\\u5fc3\\u75c5\", \"\\u51a0\\u738b\", \"\\u51b3\\u5b9a\", \"\\u51b3\\u5b9a\", \"\\u51b3\\u5b9a\", \"\\u51cf\\u80a5\", \"\\u51fa\\u73b0\", \"\\u51fa\\u73b0\", \"\\u51fa\\u73b0\", \"\\u51fa\\u73b0\", \"\\u51fa\\u73b0\", \"\\u51fa\\u73b0\", \"\\u51fa\\u8eab\", \"\\u51fa\\u9662\", \"\\u522b\\u4eba\", \"\\u522b\\u4eba\", \"\\u522b\\u4eba\", \"\\u5236\\u4f5c\", \"\\u5236\\u4f5c\", \"\\u5236\\u4f5c\", \"\\u5236\\u88c1\", \"\\u529f\\u80fd\", \"\\u529f\\u80fd\", \"\\u533b\\u4fdd\", \"\\u533b\\u5b66\\u4f1a\", \"\\u533b\\u751f\", \"\\u533b\\u751f\", \"\\u533b\\u751f\", \"\\u533b\\u7597\\u673a\\u6784\", \"\\u533b\\u9662\", \"\\u533b\\u9662\", \"\\u533b\\u9662\", \"\\u533b\\u9662\", \"\\u533b\\u9662\", \"\\u533b\\u9662\", \"\\u533b\\u9662\", \"\\u5341\\u5c81\", \"\\u5343\\u4e07\", \"\\u5347\\u9ad8\", \"\\u534e\\u4e3a\", \"\\u534e\\u5357\", \"\\u534e\\u5357\", \"\\u534f\\u4f1a\", \"\\u534f\\u4f1a\", \"\\u5355\\u66f2\", \"\\u5357\\u6d77\", \"\\u5357\\u6d77\", \"\\u5357\\u97e9\", \"\\u536b\\u5065\\u59d4\", \"\\u536b\\u5065\\u59d4\", \"\\u536b\\u751f\", \"\\u536b\\u751f\", \"\\u536b\\u751f\", \"\\u5370\\u5ea6\", \"\\u539f\\u4ef7\", \"\\u539f\\u56e0\", \"\\u539f\\u56e0\", \"\\u539f\\u56e0\", \"\\u539f\\u56e0\", \"\\u539f\\u56e0\", \"\\u539f\\u56e0\", \"\\u53cd\\u5e94\", \"\\u53cd\\u5e94\", \"\\u53cd\\u5e94\", \"\\u53d1\\u5c55\", \"\\u53d1\\u5c55\", \"\\u53d1\\u5c55\", \"\\u53d1\\u5c55\", \"\\u53d1\\u5c55\", \"\\u53d1\\u70e7\", \"\\u53d1\\u73b0\", \"\\u53d1\\u73b0\", \"\\u53d1\\u73b0\", \"\\u53d1\\u73b0\", \"\\u53d1\\u73b0\", \"\\u53d1\\u73b0\", \"\\u53d1\\u73b0\", \"\\u53d1\\u751f\", \"\\u53d1\\u751f\", \"\\u53d1\\u751f\", \"\\u53d1\\u751f\", \"\\u53d1\\u75c5\", \"\\u53d1\\u75c5\", \"\\u53d1\\u75c5\", \"\\u53d6\\u4ee3\", \"\\u53d6\\u5f97\", \"\\u53d6\\u5f97\", \"\\u53d7\\u5bb3\", \"\\u53d7\\u8005\", \"\\u53e3\\u7ea2\", \"\\u53e3\\u7ea2\", \"\\u53ea\\u4f1a\", \"\\u53ef\\u63a7\", \"\\u53ef\\u80fd\", \"\\u53ef\\u80fd\", \"\\u53ef\\u80fd\", \"\\u53ef\\u80fd\", \"\\u53ef\\u80fd\", \"\\u5404\\u7c7b\", \"\\u5404\\u7c7b\", \"\\u540c\\u4e8b\", \"\\u540c\\u4e8b\", \"\\u540e\\u6765\", \"\\u540e\\u6765\", \"\\u540e\\u6765\", \"\\u540e\\u6765\", \"\\u5458\\u5de5\", \"\\u5468\\u5e74\", \"\\u54c1\\u724c\", \"\\u54e5\\u54e5\", \"\\u552f\\u4e00\", \"\\u552f\\u4e00\", \"\\u552f\\u4e00\", \"\\u552f\\u4e00\", \"\\u56de\\u58f0\", \"\\u56fd\\u5185\", \"\\u56fd\\u5185\", \"\\u56fd\\u5bb6\", \"\\u56fd\\u5bb6\", \"\\u56fd\\u5bb6\", \"\\u56fd\\u5bb6\", \"\\u56fd\\u5bb6\", \"\\u56fd\\u5bb6\", \"\\u56fd\\u5bb6\\u4e3b\\u6743\", \"\\u56fd\\u9645\", \"\\u56fd\\u9645\", \"\\u56fd\\u9645\", \"\\u56fd\\u9645\\u4e8b\\u52a1\", \"\\u56fd\\u9645\\u6cd5\", \"\\u56fd\\u9645\\u6cd5\", \"\\u5730\\u94c1\", \"\\u575a\\u51b3\", \"\\u575a\\u5b9a\", \"\\u57ce\\u5e02\", \"\\u57fa\\u91d1\", \"\\u57fa\\u91d1\\u4f1a\", \"\\u589e\\u52a0\", \"\\u589e\\u52a0\", \"\\u589e\\u52a0\", \"\\u589e\\u52a0\", \"\\u589e\\u957f\", \"\\u591a\\u5e74\", \"\\u591a\\u5e74\", \"\\u5927\\u5956\", \"\\u5927\\u5bb6\", \"\\u5927\\u5bb6\", \"\\u5927\\u5bb6\", \"\\u5927\\u5bb6\", \"\\u5927\\u5bb6\", \"\\u5927\\u5bb6\", \"\\u5927\\u5bb6\", \"\\u5927\\u90e8\\u5206\", \"\\u5927\\u90e8\\u5206\", \"\\u5927\\u90e8\\u5206\", \"\\u5927\\u90e8\\u5206\", \"\\u592b\\u4eba\", \"\\u592e\\u89c6\", \"\\u592e\\u89c6\", \"\\u5934\\u53d1\", \"\\u5947\\u8469\", \"\\u5947\\u8469\", \"\\u5947\\u8ff9\", \"\\u5956\\u54c1\", \"\\u5956\\u54c1\", \"\\u5956\\u9879\", \"\\u5956\\u9879\", \"\\u5965\\u53f8\", \"\\u5973\\u6027\", \"\\u5973\\u6027\", \"\\u5973\\u6027\", \"\\u5973\\u6743\", \"\\u5973\\u6743\", \"\\u5973\\u751f\", \"\\u5973\\u751f\", \"\\u5973\\u751f\", \"\\u5973\\u751f\", \"\\u597d\\u8f6c\", \"\\u59d4\\u5458\\u4f1a\", \"\\u59d4\\u5458\\u4f1a\", \"\\u59dc\\u8336\", \"\\u59e8\\u5988\", \"\\u5acc\\u7591\\u4eba\", \"\\u5b59\\u82f1\", \"\\u5b66\\u751f\", \"\\u5b66\\u751f\", \"\\u5b66\\u751f\", \"\\u5b69\\u5b50\", \"\\u5b69\\u5b50\", \"\\u5b69\\u5b50\", \"\\u5b8c\\u5168\", \"\\u5b8c\\u5168\", \"\\u5b8c\\u5168\", \"\\u5b8c\\u5168\", \"\\u5b8c\\u5168\", \"\\u5b8c\\u6210\", \"\\u5b8c\\u6210\", \"\\u5b9d\\u5b9d\", \"\\u5b9d\\u5b9d\", \"\\u5b9e\\u65bd\", \"\\u5b9e\\u65bd\", \"\\u5ba1\\u6279\", \"\\u5ba3\\u5e03\", \"\\u5ba3\\u5e03\", \"\\u5bb6\\u52a1\\u6d3b\", \"\\u5bb6\\u52a1\\u6d3b\", \"\\u5bb6\\u5c5e\", \"\\u5bb6\\u957f\", \"\\u5bb6\\u957f\", \"\\u5bf9\\u5916\", \"\\u5bf9\\u5916\", \"\\u5bf9\\u5f85\", \"\\u5bfc\\u5f39\", \"\\u5bfc\\u81f4\", \"\\u5bfc\\u81f4\", \"\\u5bfc\\u81f4\", \"\\u5c0f\\u5973\\u5b69\", \"\\u5c1a\\u672a\", \"\\u5c1a\\u672a\", \"\\u5c81\\u6708\", \"\\u5c81\\u6708\", \"\\u5de5\\u4f5c\", \"\\u5de5\\u4f5c\", \"\\u5de5\\u4f5c\", \"\\u5de5\\u4f5c\", \"\\u5de5\\u4f5c\", \"\\u5de5\\u4f5c\", \"\\u5de5\\u4f5c\", \"\\u5de5\\u4f5c\\u4eba\\u5458\", \"\\u5df2\\u5a5a\", \"\\u5df2\\u7ecf\", \"\\u5df2\\u7ecf\", \"\\u5df2\\u7ecf\", \"\\u5df2\\u7ecf\", \"\\u5df2\\u7ecf\", \"\\u5df2\\u7ecf\", \"\\u5df2\\u7ecf\", \"\\u5e02\\u6c11\", \"\\u5e03\\u9c81\\u6c0f\\u83cc\", \"\\u5e0c\\u671b\", \"\\u5e0c\\u671b\", \"\\u5e0c\\u671b\", \"\\u5e0c\\u671b\", \"\\u5e0c\\u671b\", \"\\u5e0c\\u671b\", \"\\u5e0c\\u671b\", \"\\u5e72\\u6d89\", \"\\u5e72\\u7ec6\\u80de\", \"\\u5e73\\u53f0\", \"\\u5e73\\u6743\", \"\\u5e74\\u8f7b\", \"\\u5e74\\u8f7b\", \"\\u5e74\\u8f7b\", \"\\u5e7d\\u95e8\", \"\\u5efa\\u8bae\", \"\\u5efa\\u8bae\", \"\\u5efa\\u8bae\", \"\\u5efa\\u8bae\", \"\\u5f00\\u5956\", \"\\u5f00\\u5956\", \"\\u5f00\\u5c55\", \"\\u5f00\\u5c55\", \"\\u5f15\\u8d77\", \"\\u5f15\\u8d77\", \"\\u5f15\\u8d77\", \"\\u5f3a\\u5978\\u6848\", \"\\u5f71\\u54cd\", \"\\u5f71\\u54cd\", \"\\u5f71\\u54cd\", \"\\u5f71\\u54cd\", \"\\u5f71\\u54cd\", \"\\u5f71\\u54cd\", \"\\u5f88\\u591a\", \"\\u5f88\\u591a\", \"\\u5f88\\u591a\", \"\\u5f88\\u591a\", \"\\u5f88\\u591a\", \"\\u5f88\\u591a\", \"\\u5fbd\\u7ae0\", \"\\u5fc3\\u5bd2\", \"\\u5fc3\\u810f\", \"\\u5fc3\\u810f\", \"\\u5fc5\\u987b\", \"\\u5fc5\\u987b\", \"\\u5fc5\\u987b\", \"\\u5fc5\\u987b\", \"\\u5fc5\\u987b\", \"\\u5fc5\\u987b\", \"\\u6025\\u8bca\\u79d1\", \"\\u603b\\u533b\\u9662\", \"\\u6050\\u614c\", \"\\u6050\\u614c\", \"\\u6050\\u614c\", \"\\u6076\\u52a3\", \"\\u60a3\\u8005\", \"\\u60a3\\u8005\", \"\\u60a3\\u8005\", \"\\u60a3\\u8005\", \"\\u60f3\\u8981\", \"\\u60f3\\u8981\", \"\\u60f3\\u8981\", \"\\u60f3\\u8981\", \"\\u611f\\u67d3\", \"\\u611f\\u67d3\", \"\\u611f\\u67d3\", \"\\u611f\\u67d3\", \"\\u611f\\u67d3\", \"\\u611f\\u67d3\", \"\\u611f\\u67d3\", \"\\u611f\\u67d3\\u8005\", \"\\u6210\\u4e3a\", \"\\u6210\\u4e3a\", \"\\u6210\\u4e3a\", \"\\u6210\\u4e3a\", \"\\u6210\\u5c31\", \"\\u6210\\u719f\", \"\\u6210\\u719f\", \"\\u6210\\u719f\", \"\\u6210\\u719f\", \"\\u6210\\u7ee9\", \"\\u6210\\u7ee9\", \"\\u6211\\u6015\", \"\\u6240\\u6709\", \"\\u6240\\u6709\", \"\\u6240\\u6709\", \"\\u6240\\u6709\", \"\\u6240\\u6709\", \"\\u6240\\u6709\", \"\\u6240\\u6709\", \"\\u6240\\u6709\", \"\\u6240\\u6709\", \"\\u624b\\u672f\", \"\\u6253\\u7834\", \"\\u6295\\u653e\", \"\\u6295\\u8d44\", \"\\u6297\\u4f53\", \"\\u6297\\u4f53\", \"\\u6297\\u751f\\u7d20\", \"\\u6297\\u751f\\u7d20\", \"\\u62a4\\u536b\\u8230\", \"\\u62a4\\u7406\", \"\\u62a4\\u7406\", \"\\u62a5\\u544a\", \"\\u62a5\\u544a\", \"\\u62a5\\u544a\", \"\\u62a5\\u544a\", \"\\u62a5\\u544a\", \"\\u62a5\\u9053\", \"\\u62a5\\u9053\", \"\\u62a5\\u9053\", \"\\u62a5\\u9053\", \"\\u62a5\\u9053\", \"\\u62a5\\u9053\", \"\\u62a5\\u9053\", \"\\u62a5\\u9500\", \"\\u62b5\\u4e0d\\u8fc7\", \"\\u62bd\\u53d6\", \"\\u62bd\\u53d6\", \"\\u62ff\\u51fa\", \"\\u62ff\\u51fa\", \"\\u62ff\\u5230\", \"\\u62ff\\u5230\", \"\\u62ff\\u5230\", \"\\u634d\\u536b\", \"\\u6350\\u8005\", \"\\u63a5\\u53d7\", \"\\u63a5\\u53d7\", \"\\u63a5\\u53d7\", \"\\u63a5\\u53d7\", \"\\u63a5\\u53d7\", \"\\u63a5\\u79cd\", \"\\u63a7\\u5236\", \"\\u63a7\\u5236\", \"\\u63a7\\u5236\", \"\\u63a7\\u5236\", \"\\u63a7\\u5236\", \"\\u63a7\\u5236\", \"\\u63a8\\u5378\\u8d23\\u4efb\", \"\\u63d0\\u5347\", \"\\u63d0\\u5347\", \"\\u63d2\\u624b\", \"\\u6545\\u4e8b\", \"\\u6545\\u4e8b\", \"\\u6551\\u6cbb\", \"\\u6551\\u6cbb\", \"\\u6566\\u4fc3\", \"\\u6574\\u4e2a\", \"\\u6574\\u4e2a\", \"\\u6574\\u4e2a\", \"\\u6587\\u4ef6\", \"\\u6587\\u5316\", \"\\u6587\\u5316\", \"\\u65ad\\u5b9a\", \"\\u65ad\\u5b9a\", \"\\u65b0\\u5e74\", \"\\u65b0\\u5e74\", \"\\u65b0\\u5e74\", \"\\u65e0\\u7406\", \"\\u65e5\\u672c\", \"\\u65e5\\u672c\", \"\\u65e5\\u672c\", \"\\u65f6\\u5149\", \"\\u65f6\\u5149\", \"\\u65f6\\u95f4\", \"\\u65f6\\u95f4\", \"\\u65f6\\u95f4\", \"\\u65f6\\u95f4\", \"\\u65f6\\u95f4\", \"\\u65f6\\u95f4\", \"\\u65f6\\u95f4\", \"\\u65f6\\u95f4\", \"\\u6682\\u505c\", \"\\u6682\\u505c\", \"\\u66f4\\u5927\", \"\\u66f4\\u5927\", \"\\u6700\\u540e\", \"\\u6700\\u540e\", \"\\u6700\\u540e\", \"\\u6700\\u540e\", \"\\u6700\\u540e\", \"\\u6700\\u540e\", \"\\u6708\\u7ecf\", \"\\u6709\\u610f\\u601d\", \"\\u6709\\u610f\\u601d\", \"\\u670d\\u7528\", \"\\u670d\\u7528\", \"\\u672a\\u6765\", \"\\u672a\\u6765\", \"\\u673a\\u8d74\", \"\\u674e\\u6cfd\\u8a00\\u6b3e\", \"\\u6837\\u5b50\", \"\\u6837\\u5b50\", \"\\u6848\\u4f8b\", \"\\u6848\\u4f8b\", \"\\u6848\\u4f8b\", \"\\u6848\\u4f8b\", \"\\u68c0\\u67e5\", \"\\u68c0\\u67e5\", \"\\u68c0\\u67e5\", \"\\u68c0\\u67e5\", \"\\u68c0\\u6d4b\", \"\\u68c0\\u6d4b\", \"\\u68c0\\u6d4b\", \"\\u68c0\\u6d4b\", \"\\u68c0\\u6d4b\", \"\\u68c0\\u6d4b\", \"\\u6a21\\u5f0f\", \"\\u6b27\\u6d32\", \"\\u6b63\\u5728\", \"\\u6b63\\u5728\", \"\\u6b63\\u5728\", \"\\u6b63\\u5728\", \"\\u6b64\\u6b21\", \"\\u6b64\\u6b21\", \"\\u6b64\\u6b21\", \"\\u6b64\\u6b21\", \"\\u6b66\\u6c49\", \"\\u6b66\\u6c49\", \"\\u6b66\\u6c49\", \"\\u6b66\\u6c49\\u5e02\", \"\\u6b66\\u6c49\\u5e02\", \"\\u6b66\\u6c49\\u5e02\", \"\\u6b7b\\u4ea1\\u7387\", \"\\u6b7b\\u8005\", \"\\u6bcf\\u5929\", \"\\u6bcf\\u5929\", \"\\u6bcf\\u5929\", \"\\u6bcf\\u5929\", \"\\u6bcf\\u5929\", \"\\u6bd4\\u4f8b\", \"\\u6bd4\\u4f8b\", \"\\u6bd4\\u4f8b\", \"\\u6bd4\\u4f8b\", \"\\u6c11\\u4e3b\", \"\\u6c11\\u822a\", \"\\u6ca1\\u6709\", \"\\u6ca1\\u6709\", \"\\u6ca1\\u6709\", \"\\u6ca1\\u6709\", \"\\u6ca1\\u6709\", \"\\u6ca1\\u6709\", \"\\u6ca1\\u6709\", \"\\u6ca1\\u6709\", \"\\u6cbb\\u7597\", \"\\u6cbb\\u7597\", \"\\u6cbb\\u7597\", \"\\u6cbb\\u7597\", \"\\u6cbb\\u7597\", \"\\u6cbb\\u7597\", \"\\u6cd5\\u533b\", \"\\u6cd5\\u56fd\", \"\\u6cd5\\u6848\", \"\\u6cd5\\u6848\", \"\\u6d41\\u611f\", \"\\u6d41\\u611f\", \"\\u6d41\\u611f\\u75c5\\u6bd2\", \"\\u6d4b\\u51fa\", \"\\u6d4b\\u5230\", \"\\u6d77\\u4e0a\", \"\\u6d77\\u9c9c\", \"\\u6d77\\u9c9c\", \"\\u6d77\\u9c9c\\u57ce\", \"\\u6d88\\u5931\", \"\\u6d88\\u5931\", \"\\u6d88\\u6bd2\", \"\\u6d88\\u6bd2\", \"\\u6d88\\u8d39\", \"\\u6d88\\u8d39\", \"\\u70ed\\u7ebf\", \"\\u71ac\\u591c\", \"\\u7236\\u6bcd\", \"\\u7236\\u6bcd\", \"\\u7269\\u54c1\", \"\\u7279\\u522b\", \"\\u7279\\u522b\", \"\\u7279\\u522b\", \"\\u7279\\u522b\", \"\\u7279\\u522b\", \"\\u72af\\u7f6a\", \"\\u731d\\u6b7b\", \"\\u732a\\u56e2\", \"\\u732a\\u761f\", \"\\u73b0\\u5728\", \"\\u73b0\\u5728\", \"\\u73b0\\u5728\", \"\\u73b0\\u5728\", \"\\u73b0\\u5728\", \"\\u73b0\\u5728\", \"\\u73b0\\u5728\", \"\\u73b0\\u5728\", \"\\u73b0\\u573a\", \"\\u73b0\\u573a\", \"\\u73b0\\u573a\", \"\\u751f\\u4ea7\", \"\\u751f\\u6d3b\", \"\\u751f\\u6d3b\", \"\\u751f\\u6d3b\", \"\\u751f\\u6d3b\", \"\\u751f\\u732a\", \"\\u751f\\u80b2\\u80fd\\u529b\", \"\\u7533\\u8bf7\", \"\\u7533\\u8bf7\", \"\\u7537\\u6027\", \"\\u7537\\u6027\", \"\\u75ab\\u60c5\", \"\\u75ab\\u60c5\", \"\\u75ab\\u60c5\", \"\\u75ab\\u60c5\", \"\\u75ab\\u82d7\", \"\\u75bc\\u75db\", \"\\u75be\\u63a7\", \"\\u75be\\u75c5\", \"\\u75be\\u75c5\", \"\\u75be\\u75c5\", \"\\u75be\\u75c5\", \"\\u75be\\u75c5\", \"\\u75c5\\u4eba\", \"\\u75c5\\u4eba\", \"\\u75c5\\u4eba\", \"\\u75c5\\u4eba\", \"\\u75c5\\u4f8b\", \"\\u75c5\\u4f8b\", \"\\u75c5\\u4f8b\", \"\\u75c5\\u4f8b\", \"\\u75c5\\u60c5\", \"\\u75c5\\u60c5\", \"\\u75c5\\u60c5\", \"\\u75c5\\u60c5\", \"\\u75c5\\u60c5\", \"\\u75c5\\u6bd2\", \"\\u75c5\\u6bd2\", \"\\u75c5\\u6bd2\", \"\\u75c5\\u6bd2\", \"\\u75c5\\u6bd2\\u6027\", \"\\u75c5\\u6bd2\\u6027\", \"\\u75c5\\u6bd2\\u611f\\u67d3\", \"\\u75c5\\u6bd2\\u611f\\u67d3\", \"\\u75c7\\u72b6\", \"\\u75c7\\u72b6\", \"\\u75c7\\u72b6\", \"\\u75c7\\u72b6\", \"\\u75db\\u7ecf\", \"\\u764c\\u75c7\", \"\\u767d\\u8d77\", \"\\u76ae\\u80a4\", \"\\u76ae\\u80a4\", \"\\u76d1\\u72f1\", \"\\u76d8\\u70b9\", \"\\u76ee\\u524d\", \"\\u76ee\\u524d\", \"\\u76ee\\u524d\", \"\\u76ee\\u524d\", \"\\u76ee\\u524d\", \"\\u76ee\\u524d\", \"\\u76ee\\u524d\", \"\\u76f8\\u5173\", \"\\u76f8\\u5173\", \"\\u76f8\\u5173\", \"\\u76f8\\u5173\", \"\\u76f8\\u5173\", \"\\u770b\\u5230\", \"\\u770b\\u5230\", \"\\u770b\\u5230\", \"\\u770b\\u5230\", \"\\u770b\\u5230\", \"\\u770b\\u5230\", \"\\u7761\\u7720\", \"\\u7761\\u7720\", \"\\u77e5\\u9053\", \"\\u77e5\\u9053\", \"\\u77e5\\u9053\", \"\\u77e5\\u9053\", \"\\u77e5\\u9053\", \"\\u77e5\\u9053\", \"\\u7814\\u6240\", \"\\u7814\\u7a76\", \"\\u7814\\u7a76\", \"\\u7814\\u7a76\", \"\\u7814\\u7a76\", \"\\u7814\\u7a76\", \"\\u7814\\u7a76\\u6240\", \"\\u7814\\u7a76\\u6240\", \"\\u7814\\u7a76\\u6240\", \"\\u793c\\u7269\", \"\\u793e\\u4f1a\", \"\\u793e\\u4f1a\", \"\\u793e\\u4f1a\", \"\\u7a7a\\u95f4\", \"\\u7a7a\\u95f4\", \"\\u7a81\\u7136\", \"\\u7a81\\u7136\", \"\\u7a81\\u7136\", \"\\u7b2c\\u4e00\", \"\\u7b2c\\u4e00\", \"\\u7b2c\\u4e00\", \"\\u7b2c\\u4e00\", \"\\u7b2c\\u4e00\", \"\\u7b2c\\u4e00\", \"\\u7b2c\\u4e00\\u6b21\", \"\\u7b2c\\u4e00\\u6b21\", \"\\u7b2c\\u4e00\\u6b21\", \"\\u7b2c\\u4e00\\u6b21\", \"\\u7b5b\\u67e5\", \"\\u7cbe\\u6db2\", \"\\u7d27\\u6025\\u901a\\u77e5\", \"\\u7e41\\u8363\", \"\\u7ea2\\u67a3\", \"\\u7ea2\\u7cd6\", \"\\u7ea2\\u8c46\", \"\\u7ec4\\u7ec7\", \"\\u7ec4\\u7ec7\", \"\\u7ec4\\u7ec7\", \"\\u7ec4\\u7ec7\", \"\\u7ec6\\u80de\", \"\\u7ec8\\u4e8e\", \"\\u7ec8\\u4e8e\", \"\\u7ec8\\u4e8e\", \"\\u7ec8\\u4e8e\", \"\\u7ec8\\u4e8e\", \"\\u7ec8\\u8eab\", \"\\u7ecf\\u6d4e\", \"\\u7ecf\\u6d4e\", \"\\u7ecf\\u8425\\u6237\", \"\\u7ed3\\u624e\", \"\\u7ef6\\u5e26\", \"\\u7f51\\u4e0a\", \"\\u7f51\\u4e0a\", \"\\u7f51\\u4e0a\", \"\\u7f6a\\u72af\", \"\\u7f8e\\u519b\", \"\\u7f8e\\u56fd\", \"\\u7f8e\\u56fd\", \"\\u7f8e\\u56fd\", \"\\u7f8e\\u56fd\", \"\\u7f8e\\u56fd\", \"\\u7f8e\\u65b9\", \"\\u8001\\u5e74\\u4eba\", \"\\u8003\\u8bd5\", \"\\u808c\\u80a4\", \"\\u80ba\\u708e\", \"\\u80ba\\u708e\", \"\\u80ba\\u708e\", \"\\u80ba\\u708e\", \"\\u80ba\\u764c\", \"\\u80c3\\u708e\", \"\\u80c3\\u764c\", \"\\u80f8\\u6bdb\", \"\\u81ea\\u5373\\u65e5\\u8d77\", \"\\u81ea\\u7531\", \"\\u81ea\\u7531\", \"\\u81ea\\u8d39\", \"\\u81ea\\u8d39\", \"\\u822a\\u6bcd\", \"\\u827e\\u6ecb\\u75c5\", \"\\u82f1\\u56fd\", \"\\u82f1\\u56fd\", \"\\u82f1\\u56fd\", \"\\u82f1\\u56fd\", \"\\u8354\\u679d\", \"\\u836f\\u7269\", \"\\u836f\\u7269\", \"\\u836f\\u7269\", \"\\u87ba\\u6746\\u83cc\", \"\\u8840\\u6e05\\u5b66\", \"\\u8840\\u6e05\\u5b66\", \"\\u8840\\u7ec6\\u80de\", \"\\u884c\\u4e1a\", \"\\u884c\\u4e3a\", \"\\u884c\\u4e3a\", \"\\u884c\\u4e3a\", \"\\u884c\\u4e3a\", \"\\u884c\\u4e3a\", \"\\u884c\\u4e3a\", \"\\u89c6\\u9891\", \"\\u89c6\\u9891\", \"\\u89c6\\u9891\", \"\\u89c6\\u9891\", \"\\u89c9\\u5f97\", \"\\u89c9\\u5f97\", \"\\u89c9\\u5f97\", \"\\u89c9\\u5f97\", \"\\u89c9\\u5f97\", \"\\u89c9\\u5f97\", \"\\u89c9\\u5f97\", \"\\u89d2\\u5ea6\\u770b\", \"\\u8ba4\\u5c38\", \"\\u8bb0\\u4f4f\", \"\\u8bb0\\u4f4f\", \"\\u8bb8\\u58a8\\u6b3e\", \"\\u8c03\\u6574\", \"\\u8c03\\u6574\", \"\\u8c03\\u6574\", \"\\u8c03\\u6574\", \"\\u8c03\\u67e5\", \"\\u8c03\\u67e5\", \"\\u8c03\\u67e5\", \"\\u8c03\\u67e5\", \"\\u8c03\\u67e5\", \"\\u8c03\\u67e5\", \"\\u8c03\\u7406\", \"\\u8c34\\u8d23\", \"\\u8c34\\u8d23\", \"\\u8d22\\u9600\", \"\\u8d77\\u6765\", \"\\u8d77\\u6765\", \"\\u8d77\\u6765\", \"\\u8d77\\u6765\", \"\\u8d77\\u6765\", \"\\u8d77\\u6765\", \"\\u8d77\\u6765\", \"\\u8f7b\\u751f\", \"\\u8f93\\u7cbe\\u7ba1\", \"\\u8fbe\\u83f2\", \"\\u8fc7\\u6765\", \"\\u8fc7\\u6765\", \"\\u8fd1\\u671f\", \"\\u8fd1\\u671f\", \"\\u8fd1\\u671f\", \"\\u8fd1\\u767e\\u540d\", \"\\u8fd9\\u79cd\", \"\\u8fd9\\u79cd\", \"\\u8fd9\\u79cd\", \"\\u8fd9\\u79cd\", \"\\u8fd9\\u79cd\", \"\\u8fd9\\u79cd\", \"\\u8fd9\\u79cd\", \"\\u8fdb\\u5ea6\", \"\\u8fdb\\u884c\", \"\\u8fdb\\u884c\", \"\\u8fdb\\u884c\", \"\\u8fdb\\u884c\", \"\\u8fdb\\u884c\", \"\\u8fdb\\u884c\", \"\\u8fdb\\u884c\", \"\\u8fdd\\u53cd\", \"\\u9000\\u70e7\\u836f\", \"\\u9000\\u70ed\", \"\\u9020\\u8840\", \"\\u90b1\\u6668\", \"\\u9192\\u8111\", \"\\u91cd\\u8981\", \"\\u91cd\\u8981\", \"\\u91cd\\u8981\", \"\\u91cd\\u8981\", \"\\u91cd\\u8981\", \"\\u9500\\u91cf\", \"\\u95ee\\u9898\", \"\\u95ee\\u9898\", \"\\u95ee\\u9898\", \"\\u95ee\\u9898\", \"\\u95ee\\u9898\", \"\\u95ee\\u9898\", \"\\u9632\\u5f39\", \"\\u9633\\u6027\", \"\\u9633\\u6027\", \"\\u9633\\u6027\", \"\\u964d\\u6e29\", \"\\u9694\\u79bb\", \"\\u9694\\u79bb\", \"\\u9694\\u79bb\", \"\\u96ea\\u591c\", \"\\u9700\\u8981\", \"\\u9700\\u8981\", \"\\u9700\\u8981\", \"\\u9700\\u8981\", \"\\u9700\\u8981\", \"\\u9752\\u5e74\", \"\\u9752\\u5e74\", \"\\u975e\\u5e38\", \"\\u975e\\u5e38\", \"\\u975e\\u5e38\", \"\\u975e\\u5e38\", \"\\u975e\\u5e38\", \"\\u975e\\u5e38\", \"\\u975e\\u653f\\u5e9c\", \"\\u975e\\u6d32\", \"\\u975e\\u6d32\", \"\\u97e9\\u56fd\", \"\\u97e9\\u56fd\", \"\\u97f3\\u4e50\", \"\\u97f3\\u4e50\", \"\\u97f3\\u4e50\\u5956\", \"\\u9884\\u9632\", \"\\u9884\\u9632\", \"\\u9884\\u9632\", \"\\u9884\\u9632\", \"\\u9886\\u57df\", \"\\u9898\\u6750\", \"\\u9898\\u6750\", \"\\u989c\\u503c\", \"\\u98ce\\u6ce2\", \"\\u98ce\\u9669\", \"\\u98ce\\u9669\", \"\\u98ce\\u9669\", \"\\u98df\\u7269\", \"\\u98df\\u7ba1\\u764c\", \"\\u996e\\u98df\", \"\\u996e\\u98df\", \"\\u9996\\u53d1\", \"\\u9996\\u6b21\", \"\\u9999\\u6e2f\", \"\\u9999\\u6e2f\", \"\\u9999\\u6e2f\", \"\\u9aa8\\u9ad3\\u79fb\\u690d\", \"\\u9ad8\\u70e7\", \"\\u9b4f\\u67d0\", \"\\u9ed1\\u5e55\", \"\\u9f20\\u75ab\"]}, \"R\": 30, \"lambda.step\": 0.01, \"plot.opts\": {\"xlab\": \"PC1\", \"ylab\": \"PC2\"}, \"topic.order\": [7, 4, 10, 3, 8, 6, 9, 1, 5, 2]};\n",
       "\n",
       "function LDAvis_load_lib(url, callback){\n",
       "  var s = document.createElement('script');\n",
       "  s.src = url;\n",
       "  s.async = true;\n",
       "  s.onreadystatechange = s.onload = callback;\n",
       "  s.onerror = function(){console.warn(\"failed to load library \" + url);};\n",
       "  document.getElementsByTagName(\"head\")[0].appendChild(s);\n",
       "}\n",
       "\n",
       "if(typeof(LDAvis) !== \"undefined\"){\n",
       "   // already loaded: just create the visualization\n",
       "   !function(LDAvis){\n",
       "       new LDAvis(\"#\" + \"ldavis_el228882533097325392263226396\", ldavis_el228882533097325392263226396_data);\n",
       "   }(LDAvis);\n",
       "}else if(typeof define === \"function\" && define.amd){\n",
       "   // require.js is available: use it to load d3/LDAvis\n",
       "   require.config({paths: {d3: \"https://d3js.org/d3.v5\"}});\n",
       "   require([\"d3\"], function(d3){\n",
       "      window.d3 = d3;\n",
       "      LDAvis_load_lib(\"https://cdn.jsdelivr.net/gh/bmabey/pyLDAvis@3.3.1/pyLDAvis/js/ldavis.v3.0.0.js\", function(){\n",
       "        new LDAvis(\"#\" + \"ldavis_el228882533097325392263226396\", ldavis_el228882533097325392263226396_data);\n",
       "      });\n",
       "    });\n",
       "}else{\n",
       "    // require.js not available: dynamically load d3 & LDAvis\n",
       "    LDAvis_load_lib(\"https://d3js.org/d3.v5.js\", function(){\n",
       "         LDAvis_load_lib(\"https://cdn.jsdelivr.net/gh/bmabey/pyLDAvis@3.3.1/pyLDAvis/js/ldavis.v3.0.0.js\", function(){\n",
       "                 new LDAvis(\"#\" + \"ldavis_el228882533097325392263226396\", ldavis_el228882533097325392263226396_data);\n",
       "            })\n",
       "         });\n",
       "}\n",
       "</script>"
      ],
      "text/plain": [
       "<IPython.core.display.HTML object>"
      ]
     },
     "execution_count": 17,
     "metadata": {},
     "output_type": "execute_result"
    }
   ],
   "source": [
    "import pyLDAvis\n",
    "import pyLDAvis.sklearn\n",
    "\n",
    "pyLDAvis.enable_notebook()\n",
    "pic = pyLDAvis.sklearn.prepare(lda, tf, tf_vectorizer)\n",
    "pyLDAvis.display(pic)\n",
    "pyLDAvis.save_html(pic, 'lda_pass'+str(n_topics)+'.html')\n",
    "pyLDAvis.display(pic)\n",
    "\n",
    "\n",
    "#浅蓝色的表示这个词在整个文档中出现的频率（权重），深红色的表示这个词在这个主题中所占的权重。右上角可以调节一个参数λ\n",
    "#如果λ接近1，那么在该主题下更频繁出现的词，跟主题更相关；\n",
    "#如果λ越接近0，那么该主题下更特殊、更独有（exclusive）的词，跟主题更相关（有点TF-IDF的意思了）\n",
    "#气泡的大小及编号即表示主题出现的频率"
   ]
  },
  {
   "cell_type": "code",
   "execution_count": 17,
   "id": "18d55d6c",
   "metadata": {},
   "outputs": [
    {
     "name": "stdout",
     "output_type": "stream",
     "text": [
      "Note: you may need to restart the kernel to use updated packages.\n"
     ]
    },
    {
     "name": "stderr",
     "output_type": "stream",
     "text": [
      "  WARNING: Retrying (Retry(total=4, connect=None, read=None, redirect=None, status=None)) after connection broken by 'ConnectTimeoutError(<pip._vendor.urllib3.connection.HTTPSConnection object at 0x000001A94C222E50>, 'Connection to files.pythonhosted.org timed out. (connect timeout=15)')': /packages/47/80/c2d1bdd36c6b64ae566d9a29724291510e4f3796ce99639d3c2999286284/smart_open-6.3.0-py3-none-any.whl\n"
     ]
    },
    {
     "name": "stdout",
     "output_type": "stream",
     "text": [
      "Requirement already satisfied: smart_open in d:\\anaconda\\anaconda\\lib\\site-packages (6.1.0)\n",
      "Collecting smart_open\n",
      "  Downloading smart_open-6.3.0-py3-none-any.whl (56 kB)\n",
      "     --------------------------------------- 56.8/56.8 kB 96.1 kB/s eta 0:00:00\n",
      "Installing collected packages: smart_open\n",
      "  Attempting uninstall: smart_open\n",
      "    Found existing installation: smart-open 6.1.0\n",
      "    Uninstalling smart-open-6.1.0:\n",
      "      Successfully uninstalled smart-open-6.1.0\n",
      "Successfully installed smart_open-6.3.0\n"
     ]
    }
   ],
   "source": [
    "pip install --upgrade smart_open"
   ]
  },
  {
   "cell_type": "code",
   "execution_count": 1,
   "id": "f5c59be2",
   "metadata": {},
   "outputs": [],
   "source": [
    "import pandas as pd\n",
    "\n",
    "data_10 = pd.read_csv('D:/fyp/corpus/corpus_10.csv')"
   ]
  },
  {
   "cell_type": "code",
   "execution_count": 2,
   "id": "5c6ab599",
   "metadata": {},
   "outputs": [],
   "source": [
    "from gensim.models import Word2Vec\n",
    "\n",
    "import gensim\n",
    "import jieba\n",
    "\n",
    "# 定义分词函数\n",
    "def cut_words(sentence):\n",
    "    return [word for word in jieba.cut(sentence) if word.strip()]\n",
    "\n"
   ]
  },
  {
   "cell_type": "code",
   "execution_count": 4,
   "id": "6b619495",
   "metadata": {},
   "outputs": [
    {
     "name": "stderr",
     "output_type": "stream",
     "text": [
      "Building prefix dict from the default dictionary ...\n",
      "Loading model from cache C:\\Users\\86199\\AppData\\Local\\Temp\\jieba.cache\n",
      "Loading model cost 0.565 seconds.\n",
      "Prefix dict has been built successfully.\n"
     ]
    }
   ],
   "source": [
    "# 预处理语料库\n",
    "sentences = [cut_words(str(text)) for text in data_10['corpus']]\n"
   ]
  },
  {
   "cell_type": "code",
   "execution_count": null,
   "id": "52fc9197",
   "metadata": {},
   "outputs": [],
   "source": [
    "import numpy as np\n",
    "\n",
    "s = np.array(sentence)\n",
    "np.save('D:/fyp/corpus/demo10.npy',s)\n"
   ]
  },
  {
   "cell_type": "code",
   "execution_count": null,
   "id": "5ee9dd34",
   "metadata": {},
   "outputs": [],
   "source": [
    "#词向量保存\n",
    "#model.wv.save_word2vec_format('D:/fyp/2020-02.vector', binary=False)\n",
    "    \n",
    "#模型保存\n",
    "\n",
    "#model.wv.save_word2vec_format('D:/fyp/2019-12.bin')"
   ]
  },
  {
   "cell_type": "code",
   "execution_count": null,
   "id": "3a3b24f5",
   "metadata": {},
   "outputs": [],
   "source": [
    "model = Word2Vec(sentences,vector_size=200,alpha=0.025, window=5, min_count=10,\n",
    "                 min_alpha=0.0025,sg=1, hs=0, negative=5, epochs=50)\n",
    "\n",
    "\n",
    "model.save('D:/fyp/word2vec_10.model')"
   ]
  },
  {
   "cell_type": "code",
   "execution_count": 42,
   "id": "15fc7f19",
   "metadata": {},
   "outputs": [],
   "source": [
    "model = Word2Vec.load('D:/fyp/corpus_w2v_weibo.model')"
   ]
  }
 ],
 "metadata": {
  "kernelspec": {
   "display_name": "Python 3 (ipykernel)",
   "language": "python",
   "name": "python3"
  },
  "language_info": {
   "codemirror_mode": {
    "name": "ipython",
    "version": 3
   },
   "file_extension": ".py",
   "mimetype": "text/x-python",
   "name": "python",
   "nbconvert_exporter": "python",
   "pygments_lexer": "ipython3",
   "version": "3.9.13"
  }
 },
 "nbformat": 4,
 "nbformat_minor": 5
}
