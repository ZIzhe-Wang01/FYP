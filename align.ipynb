{
 "cells": [
  {
   "cell_type": "markdown",
   "id": "8f488583-2b2b-4518-b603-ddb9e60955b8",
   "metadata": {},
   "source": [
    "# 读取文本训练模型"
   ]
  },
  {
   "cell_type": "code",
   "execution_count": 1,
   "id": "dda573ab-74df-4b97-8eef-4d18e75359b7",
   "metadata": {},
   "outputs": [],
   "source": [
    "from gensim.models import Word2Vec\n",
    "import pandas as pd\n",
    "import gensim\n",
    "import jieba\n",
    "import numpy as np\n"
   ]
  },
  {
   "cell_type": "code",
   "execution_count": 2,
   "id": "02cdf082-661e-4d8e-8b34-2b632680b3c7",
   "metadata": {},
   "outputs": [
    {
     "data": {
      "text/html": [
       "<div>\n",
       "<style scoped>\n",
       "    .dataframe tbody tr th:only-of-type {\n",
       "        vertical-align: middle;\n",
       "    }\n",
       "\n",
       "    .dataframe tbody tr th {\n",
       "        vertical-align: top;\n",
       "    }\n",
       "\n",
       "    .dataframe thead th {\n",
       "        text-align: right;\n",
       "    }\n",
       "</style>\n",
       "<table border=\"1\" class=\"dataframe\">\n",
       "  <thead>\n",
       "    <tr style=\"text-align: right;\">\n",
       "      <th></th>\n",
       "      <th>corpus</th>\n",
       "    </tr>\n",
       "  </thead>\n",
       "  <tbody>\n",
       "    <tr>\n",
       "      <th>1</th>\n",
       "      <td># 高以翔 去世 ## 健康 中国   #   心脏 承担 两个 生命   心源性 猝死 说...</td>\n",
       "    </tr>\n",
       "    <tr>\n",
       "      <th>2</th>\n",
       "      <td>央视 新闻频道   正在 播出 宇芽 家暴 专题 采访   专题 之前 高 以翔 事件 报道...</td>\n",
       "    </tr>\n",
       "    <tr>\n",
       "      <th>3</th>\n",
       "      <td>中国 轴承 德国 轴承 差别   轴承 精度   国产 轴承 尺寸 偏差 旋转 精度 进口 ...</td>\n",
       "    </tr>\n",
       "    <tr>\n",
       "      <th>4</th>\n",
       "      <td>大部分 人 只 想活 光鲜   却 从来 没 想 过活 足够 久   世界 上 大部分 人 ...</td>\n",
       "    </tr>\n",
       "    <tr>\n",
       "      <th>5</th>\n",
       "      <td>内江   显示 地图</td>\n",
       "    </tr>\n",
       "    <tr>\n",
       "      <th>...</th>\n",
       "      <td>...</td>\n",
       "    </tr>\n",
       "    <tr>\n",
       "      <th>47129</th>\n",
       "      <td>#   年 最后 一天 # 早上 微信 群里 传者 图   车上 一位 大妈 朋友 通电话 ...</td>\n",
       "    </tr>\n",
       "    <tr>\n",
       "      <th>47130</th>\n",
       "      <td>结婚 怀孕   两家 公司 待过   最 想念 食物 叉烧 煲仔饭   书 看少   钱 没...</td>\n",
       "    </tr>\n",
       "    <tr>\n",
       "      <th>47131</th>\n",
       "      <td>最后 一次 乳印乳 俄 乳 髪 乳 英   具有 大 口径 四面 相控阵 雷达 垂直 发射 ...</td>\n",
       "    </tr>\n",
       "    <tr>\n",
       "      <th>47132</th>\n",
       "      <td>胰腺癌 公认   癌中 之王   目前 普遍 公认 胰腺癌   癌中 之王   原因 主要 ...</td>\n",
       "    </tr>\n",
       "    <tr>\n",
       "      <th>47133</th>\n",
       "      <td># 武汉 发现 不明 原因 肺炎 #   目前   国家 卫健委 专家组 已 抵达 湖北 武...</td>\n",
       "    </tr>\n",
       "  </tbody>\n",
       "</table>\n",
       "<p>47133 rows × 1 columns</p>\n",
       "</div>"
      ],
      "text/plain": [
       "                                                  corpus\n",
       "1      # 高以翔 去世 ## 健康 中国   #   心脏 承担 两个 生命   心源性 猝死 说...\n",
       "2      央视 新闻频道   正在 播出 宇芽 家暴 专题 采访   专题 之前 高 以翔 事件 报道...\n",
       "3      中国 轴承 德国 轴承 差别   轴承 精度   国产 轴承 尺寸 偏差 旋转 精度 进口 ...\n",
       "4      大部分 人 只 想活 光鲜   却 从来 没 想 过活 足够 久   世界 上 大部分 人 ...\n",
       "5                                             内江   显示 地图\n",
       "...                                                  ...\n",
       "47129  #   年 最后 一天 # 早上 微信 群里 传者 图   车上 一位 大妈 朋友 通电话 ...\n",
       "47130  结婚 怀孕   两家 公司 待过   最 想念 食物 叉烧 煲仔饭   书 看少   钱 没...\n",
       "47131  最后 一次 乳印乳 俄 乳 髪 乳 英   具有 大 口径 四面 相控阵 雷达 垂直 发射 ...\n",
       "47132  胰腺癌 公认   癌中 之王   目前 普遍 公认 胰腺癌   癌中 之王   原因 主要 ...\n",
       "47133  # 武汉 发现 不明 原因 肺炎 #   目前   国家 卫健委 专家组 已 抵达 湖北 武...\n",
       "\n",
       "[47133 rows x 1 columns]"
      ]
     },
     "execution_count": 2,
     "metadata": {},
     "output_type": "execute_result"
    }
   ],
   "source": [
    "\n",
    "# 读取训练文本数据，每行代表一个文本数据\n",
    "train_data = pd.read_csv('corpus_0.csv', sep='\\t')\n",
    "train_data.fillna('', inplace=True)\n",
    "train_data_0 = train_data.iloc[1:]\n",
    "\n",
    "train_data_0"
   ]
  },
  {
   "cell_type": "code",
   "execution_count": 3,
   "id": "35211c82-691b-4f00-b176-1d3090e3fcdf",
   "metadata": {},
   "outputs": [],
   "source": [
    "# 定义分词函数\n",
    "def cut_words(sentence):\n",
    "    return [word for word in jieba.cut(sentence) if word.strip()]\n"
   ]
  },
  {
   "cell_type": "code",
   "execution_count": 11,
   "id": "bbc89272-e3f7-4914-aae5-25e433fa2242",
   "metadata": {},
   "outputs": [],
   "source": [
    "# 预处理语料库\n",
    "sentences = [cut_words(str(text)) for text in train_data_0['corpus']]\n"
   ]
  },
  {
   "cell_type": "code",
   "execution_count": null,
   "id": "05fc642f-fafd-4f60-9480-9c76f610b3a0",
   "metadata": {},
   "outputs": [],
   "source": [
    "s = np.array(sentence)\n",
    "np.save('demo.npy',s)"
   ]
  },
  {
   "cell_type": "code",
   "execution_count": null,
   "id": "3874a58c-e2fa-466c-8a15-ae0520c792d2",
   "metadata": {},
   "outputs": [],
   "source": [
    "s_new = np.load('demo.npy')\n",
    "sentences = s_new.tolist()"
   ]
  },
  {
   "cell_type": "code",
   "execution_count": 6,
   "id": "fa6d3588-5a84-49a0-b351-eb4e165c2a6e",
   "metadata": {},
   "outputs": [],
   "source": [
    "# Training the Word2Vec model\n",
    "model = gensim.models.Word2Vec(sentences,vector_size=200,alpha=0.025, window=5, min_count=10,\n",
    "                 min_alpha=0.0025,sg=1, hs=0, negative=5, epochs=50)"
   ]
  },
  {
   "cell_type": "code",
   "execution_count": 7,
   "id": "8e71e0ff-371b-4e84-b650-fd8aa7436f73",
   "metadata": {
    "tags": []
   },
   "outputs": [],
   "source": [
    "# 保存模型\n",
    "model_0.save('word2vec_0.model')"
   ]
  },
  {
   "cell_type": "markdown",
   "id": "fe7895f7-f300-4692-b0ff-4d47248c3c29",
   "metadata": {},
   "source": [
    "# 对齐词向量"
   ]
  },
  {
   "cell_type": "code",
   "execution_count": 1,
   "id": "c4fc9a1d-be27-4842-81ca-366b6d8d7ee2",
   "metadata": {
    "tags": []
   },
   "outputs": [],
   "source": [
    "import numpy as np\n",
    "from scipy.linalg import orthogonal_procrustes\n",
    "import gensim\n",
    "\n",
    "# Load the Word2Vec model\n",
    "model1 = gensim.models.Word2Vec.load('word2vec_0.model')\n",
    "model2 = gensim.models.Word2Vec.load('word2vec_5.model')\n",
    "model3 = gensim.models.Word2Vec.load('word2vec_11.model')"
   ]
  },
  {
   "cell_type": "code",
   "execution_count": 2,
   "id": "d604edc2-21f9-417a-af1d-4ff4d1c93d13",
   "metadata": {
    "tags": []
   },
   "outputs": [],
   "source": [
    "# Define the common vocabulary\n",
    "\n",
    "common_vocab = list(set(model1.wv.key_to_index.keys()) & set(model2.wv.key_to_index.keys()) &set(model3.wv.key_to_index.keys()))\n",
    "common_vocab_size = len(common_vocab)"
   ]
  },
  {
   "cell_type": "code",
   "execution_count": 3,
   "id": "053181a8-edd8-4a47-9177-3833d4e3bc54",
   "metadata": {
    "tags": []
   },
   "outputs": [],
   "source": [
    "# Get the word vectors for the common vocabulary in both models\n",
    "W1 = np.zeros((common_vocab_size, 200))\n",
    "W2 = np.zeros((common_vocab_size, 200))\n",
    "W3 = np.zeros((common_vocab_size, 200))\n",
    "\n",
    "for i, word in enumerate(common_vocab):\n",
    "    W1[i] = model1.wv[word]\n",
    "    W2[i] = model2.wv[word]\n",
    "    W3[i] = model3.wv[word]"
   ]
  },
  {
   "cell_type": "code",
   "execution_count": 151,
   "id": "f2ee28da-988b-47fa-a548-2ba2ec3499aa",
   "metadata": {
    "tags": []
   },
   "outputs": [],
   "source": [
    "#肺炎  不明  新冠  抗击\n",
    "#居家  假条  隔离  办公"
   ]
  },
  {
   "cell_type": "code",
   "execution_count": 152,
   "id": "b1a5abb2-7fb3-4ec3-8aa3-e20b940b73a1",
   "metadata": {
    "tags": []
   },
   "outputs": [
    {
     "data": {
      "text/plain": [
       "21618"
      ]
     },
     "execution_count": 152,
     "metadata": {},
     "output_type": "execute_result"
    }
   ],
   "source": [
    "common_vocab.index('居家')"
   ]
  },
  {
   "cell_type": "code",
   "execution_count": 153,
   "id": "385d2076-f70e-4e3c-95bf-165578235e21",
   "metadata": {
    "tags": []
   },
   "outputs": [
    {
     "data": {
      "text/plain": [
       "24297"
      ]
     },
     "execution_count": 153,
     "metadata": {},
     "output_type": "execute_result"
    }
   ],
   "source": [
    "common_vocab.index('假条')"
   ]
  },
  {
   "cell_type": "code",
   "execution_count": 154,
   "id": "e675e8c5-5bff-4ba6-baeb-2ec0d7d8ecb2",
   "metadata": {
    "tags": []
   },
   "outputs": [
    {
     "data": {
      "text/plain": [
       "20846"
      ]
     },
     "execution_count": 154,
     "metadata": {},
     "output_type": "execute_result"
    }
   ],
   "source": [
    "common_vocab.index('隔离')"
   ]
  },
  {
   "cell_type": "code",
   "execution_count": 155,
   "id": "f9a73438-899e-48f0-983c-2fddda1ebe63",
   "metadata": {
    "tags": []
   },
   "outputs": [
    {
     "data": {
      "text/plain": [
       "12574"
      ]
     },
     "execution_count": 155,
     "metadata": {},
     "output_type": "execute_result"
    }
   ],
   "source": [
    "common_vocab.index('办公')"
   ]
  },
  {
   "cell_type": "code",
   "execution_count": 6,
   "id": "aa06f6ab-5dd9-402f-83c3-d25fe488b3e0",
   "metadata": {
    "tags": []
   },
   "outputs": [],
   "source": [
    "import numpy as np\n",
    "from scipy.linalg import orthogonal_procrustes\n",
    "\n",
    "#Calculate the centroids of the source matrix X and the target matrix Y\n",
    "centroid_X = np.mean(W1, axis=0)\n",
    "centroid_Y = np.mean(W2 , axis=0)\n",
    "centroid_Z = np.mean(W3 , axis=0)\n",
    "\n",
    "#Subtract the centroid from the source matrix X and the target matrix Y to obtain the matrix after removing the centroid\n",
    "X_centered = W1 - centroid_X\n",
    "Y_centered = W2 - centroid_Y\n",
    "Z_centered = W3 - centroid_Z\n",
    "\n",
    "#Calling orthogonal_ Orthogonal Procrustes transformation using procrustes function\n",
    "Y_R, Y_scale = orthogonal_procrustes(X_centered, Y_centered)\n",
    "Z_R, Z_scale = orthogonal_procrustes(X_centered, Z_centered)\n",
    "\n",
    "#Obtain aligned matrix\n",
    "aligned_Y = np.dot(X_centered, Y_R)\n",
    "aligned_Z = np.dot(X_centered, Z_R)\n",
    "\n",
    "#Add a translation vector to obtain alignment results that include translation operations\n",
    "final_aligned_Y = aligned_Y * Y_scale + centroid_Y\n",
    "final_aligned_Z = aligned_Z * Z_scale + centroid_Z\n",
    "\n",
    "\n",
    "\n"
   ]
  },
  {
   "cell_type": "code",
   "execution_count": 14,
   "id": "1e23f4ab-2699-4c51-89c7-942ebcd7d34d",
   "metadata": {},
   "outputs": [],
   "source": [
    "# Save the aligned model\n",
    "np.save('vector01.npy', W1)\n",
    "np.save('vector05.npy', final_aligned_Y)\n",
    "np.save('vector11.npy', final_aligned_Z)"
   ]
  },
  {
   "cell_type": "code",
   "execution_count": 3,
   "id": "64ac5251-6c44-439d-8b2c-7acb3ab8f352",
   "metadata": {
    "tags": []
   },
   "outputs": [],
   "source": [
    "import numpy as np"
   ]
  },
  {
   "cell_type": "code",
   "execution_count": 7,
   "id": "c98eb027-74c2-4e0f-8517-fe1f470ef706",
   "metadata": {
    "tags": []
   },
   "outputs": [],
   "source": [
    "W1 = np.load('./vector01.npy')\n",
    "W2 = np.load('./vector05.npy')\n",
    "W3 = np.load('./vector11.npy')"
   ]
  },
  {
   "cell_type": "code",
   "execution_count": 8,
   "id": "37715d72-db55-4b1a-a5e5-ab6e937ea37d",
   "metadata": {
    "tags": []
   },
   "outputs": [],
   "source": [
    "from sklearn.manifold import TSNE"
   ]
  },
  {
   "cell_type": "code",
   "execution_count": 9,
   "id": "ea985291-70fc-4dfc-a81b-5457236812fb",
   "metadata": {
    "tags": []
   },
   "outputs": [
    {
     "name": "stderr",
     "output_type": "stream",
     "text": [
      "/root/miniconda3/lib/python3.8/site-packages/sklearn/manifold/_t_sne.py:800: FutureWarning: The default initialization in TSNE will change from 'random' to 'pca' in 1.2.\n",
      "  warnings.warn(\n",
      "/root/miniconda3/lib/python3.8/site-packages/sklearn/manifold/_t_sne.py:810: FutureWarning: The default learning rate in TSNE will change from 200.0 to 'auto' in 1.2.\n",
      "  warnings.warn(\n",
      "/root/miniconda3/lib/python3.8/site-packages/sklearn/manifold/_t_sne.py:800: FutureWarning: The default initialization in TSNE will change from 'random' to 'pca' in 1.2.\n",
      "  warnings.warn(\n",
      "/root/miniconda3/lib/python3.8/site-packages/sklearn/manifold/_t_sne.py:810: FutureWarning: The default learning rate in TSNE will change from 200.0 to 'auto' in 1.2.\n",
      "  warnings.warn(\n",
      "/root/miniconda3/lib/python3.8/site-packages/sklearn/manifold/_t_sne.py:800: FutureWarning: The default initialization in TSNE will change from 'random' to 'pca' in 1.2.\n",
      "  warnings.warn(\n",
      "/root/miniconda3/lib/python3.8/site-packages/sklearn/manifold/_t_sne.py:810: FutureWarning: The default learning rate in TSNE will change from 200.0 to 'auto' in 1.2.\n",
      "  warnings.warn(\n"
     ]
    }
   ],
   "source": [
    "# 使用t-SNE将对齐后的词向量降维到2维空间\n",
    "tsne = TSNE(n_components=2, random_state=42)\n",
    "word_vectors1_tsne = tsne.fit_transform(W1)\n",
    "word_vectors2_tsne = tsne.fit_transform(W2)\n",
    "word_vectors3_tsne = tsne.fit_transform(W3)"
   ]
  },
  {
   "cell_type": "code",
   "execution_count": 10,
   "id": "0cae76fa-301f-441d-80c4-bb17b3aad26b",
   "metadata": {
    "tags": []
   },
   "outputs": [
    {
     "ename": "NameError",
     "evalue": "name 'plt' is not defined",
     "output_type": "error",
     "traceback": [
      "\u001b[0;31m---------------------------------------------------------------------------\u001b[0m",
      "\u001b[0;31mNameError\u001b[0m                                 Traceback (most recent call last)",
      "Cell \u001b[0;32mIn[10], line 1\u001b[0m\n\u001b[0;32m----> 1\u001b[0m \u001b[43mplt\u001b[49m\u001b[38;5;241m.\u001b[39mscatter(word_vectors1_tsne[:, \u001b[38;5;241m0\u001b[39m], word_vectors1_tsne[:, \u001b[38;5;241m1\u001b[39m])\n\u001b[1;32m      2\u001b[0m plt\u001b[38;5;241m.\u001b[39mscatter(word_vectors2_tsne[:, \u001b[38;5;241m0\u001b[39m], word_vectors2_tsne[:, \u001b[38;5;241m1\u001b[39m])\n\u001b[1;32m      3\u001b[0m plt\u001b[38;5;241m.\u001b[39mscatter(word_vectors3_tsne[:, \u001b[38;5;241m0\u001b[39m], word_vectors3_tsne[:, \u001b[38;5;241m1\u001b[39m])\n",
      "\u001b[0;31mNameError\u001b[0m: name 'plt' is not defined"
     ]
    }
   ],
   "source": [
    "plt.scatter(word_vectors1_tsne[:, 0], word_vectors1_tsne[:, 1])\n",
    "plt.scatter(word_vectors2_tsne[:, 0], word_vectors2_tsne[:, 1])\n",
    "plt.scatter(word_vectors3_tsne[:, 0], word_vectors3_tsne[:, 1])\n",
    "plt.show()"
   ]
  },
  {
   "cell_type": "code",
   "execution_count": 1,
   "id": "ced0b185-58c3-4119-abe7-2585f30d8af6",
   "metadata": {
    "tags": []
   },
   "outputs": [
    {
     "ename": "NameError",
     "evalue": "name 'plt' is not defined",
     "output_type": "error",
     "traceback": [
      "\u001b[0;31m---------------------------------------------------------------------------\u001b[0m",
      "\u001b[0;31mNameError\u001b[0m                                 Traceback (most recent call last)",
      "Cell \u001b[0;32mIn[1], line 2\u001b[0m\n\u001b[1;32m      1\u001b[0m \u001b[38;5;66;03m# 可视化对齐后的词向量\u001b[39;00m\n\u001b[0;32m----> 2\u001b[0m \u001b[43mplt\u001b[49m\u001b[38;5;241m.\u001b[39mscatter(word_vectors1_tsne[\u001b[38;5;241m12877\u001b[39m, \u001b[38;5;241m0\u001b[39m], word_vectors1_tsne[\u001b[38;5;241m12877\u001b[39m, \u001b[38;5;241m1\u001b[39m], label\u001b[38;5;241m=\u001b[39m\u001b[38;5;124m'\u001b[39m\u001b[38;5;124m中国\u001b[39m\u001b[38;5;124m'\u001b[39m, color \u001b[38;5;241m=\u001b[39m \u001b[38;5;124m'\u001b[39m\u001b[38;5;124mblack\u001b[39m\u001b[38;5;124m'\u001b[39m)\n\u001b[1;32m      3\u001b[0m plt\u001b[38;5;241m.\u001b[39mscatter(word_vectors2_tsne[\u001b[38;5;241m12877\u001b[39m, \u001b[38;5;241m0\u001b[39m], word_vectors2_tsne[\u001b[38;5;241m12877\u001b[39m, \u001b[38;5;241m1\u001b[39m], label\u001b[38;5;241m=\u001b[39m\u001b[38;5;124m'\u001b[39m\u001b[38;5;124m中国\u001b[39m\u001b[38;5;124m'\u001b[39m, color \u001b[38;5;241m=\u001b[39m \u001b[38;5;124m'\u001b[39m\u001b[38;5;124mdimgrey\u001b[39m\u001b[38;5;124m'\u001b[39m)\n\u001b[1;32m      4\u001b[0m plt\u001b[38;5;241m.\u001b[39mscatter(word_vectors3_tsne[\u001b[38;5;241m12877\u001b[39m, \u001b[38;5;241m0\u001b[39m], word_vectors3_tsne[\u001b[38;5;241m12877\u001b[39m, \u001b[38;5;241m1\u001b[39m], label\u001b[38;5;241m=\u001b[39m\u001b[38;5;124m'\u001b[39m\u001b[38;5;124m中国\u001b[39m\u001b[38;5;124m'\u001b[39m, color \u001b[38;5;241m=\u001b[39m \u001b[38;5;124m'\u001b[39m\u001b[38;5;124msilver\u001b[39m\u001b[38;5;124m'\u001b[39m)\n",
      "\u001b[0;31mNameError\u001b[0m: name 'plt' is not defined"
     ]
    }
   ],
   "source": [
    "# 可视化对齐后的词向量\n",
    "plt.scatter(word_vectors1_tsne[12877, 0], word_vectors1_tsne[12877, 1], label='中国', color = 'black')\n",
    "plt.scatter(word_vectors2_tsne[12877, 0], word_vectors2_tsne[12877, 1], label='中国', color = 'dimgrey')\n",
    "plt.scatter(word_vectors3_tsne[12877, 0], word_vectors3_tsne[12877, 1], label='中国', color = 'silver')\n",
    "plt.scatter(word_vectors1_tsne[6210, 0], word_vectors1_tsne[6210, 1], label='歧视', color = 'midnightblue')\n",
    "plt.scatter(word_vectors2_tsne[6210, 0], word_vectors2_tsne[6210, 1], label='歧视', color = 'blue')\n",
    "plt.scatter(word_vectors3_tsne[6210, 0], word_vectors3_tsne[6210, 1], label='歧视', color = 'cyan')\n",
    "plt.scatter(word_vectors1_tsne[18567, 0], word_vectors1_tsne[18567, 1], label='黑人', color = 'darkred')\n",
    "plt.scatter(word_vectors2_tsne[18567, 0], word_vectors2_tsne[18567, 1], label='黑人', color = 'red')\n",
    "plt.scatter(word_vectors3_tsne[18567, 0], word_vectors3_tsne[18567, 1], label='黑人', color = 'lightcoral')\n",
    "plt.legend()\n",
    "plt.xlabel('t-SNE维度1')\n",
    "plt.ylabel('t-SNE维度2')\n",
    "plt.title('对齐后的词向量可视化')\n",
    "plt.show()"
   ]
  },
  {
   "cell_type": "code",
   "execution_count": 17,
   "id": "b39157d4-a4ea-43fe-a24f-584bda835dd4",
   "metadata": {
    "tags": []
   },
   "outputs": [
    {
     "ename": "KeyError",
     "evalue": "'figure.hooks'",
     "output_type": "error",
     "traceback": [
      "\u001b[0;31m---------------------------------------------------------------------------\u001b[0m",
      "\u001b[0;31mKeyError\u001b[0m                                  Traceback (most recent call last)",
      "Cell \u001b[0;32mIn[17], line 1\u001b[0m\n\u001b[0;32m----> 1\u001b[0m \u001b[38;5;28;01mimport\u001b[39;00m \u001b[38;5;21;01mmatplotlib\u001b[39;00m\u001b[38;5;21;01m.\u001b[39;00m\u001b[38;5;21;01mpyplot\u001b[39;00m \u001b[38;5;28;01mas\u001b[39;00m \u001b[38;5;21;01mplt\u001b[39;00m\n",
      "File \u001b[0;32m~/miniconda3/lib/python3.8/site-packages/matplotlib/__init__.py:966\u001b[0m\n\u001b[1;32m    962\u001b[0m rcParamsOrig \u001b[38;5;241m=\u001b[39m rcParams\u001b[38;5;241m.\u001b[39mcopy()\n\u001b[1;32m    963\u001b[0m \u001b[38;5;28;01mwith\u001b[39;00m _api\u001b[38;5;241m.\u001b[39msuppress_matplotlib_deprecation_warning():\n\u001b[1;32m    964\u001b[0m     \u001b[38;5;66;03m# This also checks that all rcParams are indeed listed in the template.\u001b[39;00m\n\u001b[1;32m    965\u001b[0m     \u001b[38;5;66;03m# Assigning to rcsetup.defaultParams is left only for backcompat.\u001b[39;00m\n\u001b[0;32m--> 966\u001b[0m     defaultParams \u001b[38;5;241m=\u001b[39m rcsetup\u001b[38;5;241m.\u001b[39mdefaultParams \u001b[38;5;241m=\u001b[39m {\n\u001b[1;32m    967\u001b[0m         \u001b[38;5;66;03m# We want to resolve deprecated rcParams, but not backend...\u001b[39;00m\n\u001b[1;32m    968\u001b[0m         key: [(rcsetup\u001b[38;5;241m.\u001b[39m_auto_backend_sentinel \u001b[38;5;28;01mif\u001b[39;00m key \u001b[38;5;241m==\u001b[39m \u001b[38;5;124m\"\u001b[39m\u001b[38;5;124mbackend\u001b[39m\u001b[38;5;124m\"\u001b[39m \u001b[38;5;28;01melse\u001b[39;00m\n\u001b[1;32m    969\u001b[0m                rcParamsDefault[key]),\n\u001b[1;32m    970\u001b[0m               validator]\n\u001b[1;32m    971\u001b[0m         \u001b[38;5;28;01mfor\u001b[39;00m key, validator \u001b[38;5;129;01min\u001b[39;00m rcsetup\u001b[38;5;241m.\u001b[39m_validators\u001b[38;5;241m.\u001b[39mitems()}\n\u001b[1;32m    972\u001b[0m \u001b[38;5;28;01mif\u001b[39;00m rcParams[\u001b[38;5;124m'\u001b[39m\u001b[38;5;124maxes.formatter.use_locale\u001b[39m\u001b[38;5;124m'\u001b[39m]:\n\u001b[1;32m    973\u001b[0m     locale\u001b[38;5;241m.\u001b[39msetlocale(locale\u001b[38;5;241m.\u001b[39mLC_ALL, \u001b[38;5;124m'\u001b[39m\u001b[38;5;124m'\u001b[39m)\n",
      "File \u001b[0;32m~/miniconda3/lib/python3.8/site-packages/matplotlib/__init__.py:969\u001b[0m, in \u001b[0;36m<dictcomp>\u001b[0;34m(.0)\u001b[0m\n\u001b[1;32m    962\u001b[0m rcParamsOrig \u001b[38;5;241m=\u001b[39m rcParams\u001b[38;5;241m.\u001b[39mcopy()\n\u001b[1;32m    963\u001b[0m \u001b[38;5;28;01mwith\u001b[39;00m _api\u001b[38;5;241m.\u001b[39msuppress_matplotlib_deprecation_warning():\n\u001b[1;32m    964\u001b[0m     \u001b[38;5;66;03m# This also checks that all rcParams are indeed listed in the template.\u001b[39;00m\n\u001b[1;32m    965\u001b[0m     \u001b[38;5;66;03m# Assigning to rcsetup.defaultParams is left only for backcompat.\u001b[39;00m\n\u001b[1;32m    966\u001b[0m     defaultParams \u001b[38;5;241m=\u001b[39m rcsetup\u001b[38;5;241m.\u001b[39mdefaultParams \u001b[38;5;241m=\u001b[39m {\n\u001b[1;32m    967\u001b[0m         \u001b[38;5;66;03m# We want to resolve deprecated rcParams, but not backend...\u001b[39;00m\n\u001b[1;32m    968\u001b[0m         key: [(rcsetup\u001b[38;5;241m.\u001b[39m_auto_backend_sentinel \u001b[38;5;28;01mif\u001b[39;00m key \u001b[38;5;241m==\u001b[39m \u001b[38;5;124m\"\u001b[39m\u001b[38;5;124mbackend\u001b[39m\u001b[38;5;124m\"\u001b[39m \u001b[38;5;28;01melse\u001b[39;00m\n\u001b[0;32m--> 969\u001b[0m                \u001b[43mrcParamsDefault\u001b[49m\u001b[43m[\u001b[49m\u001b[43mkey\u001b[49m\u001b[43m]\u001b[49m),\n\u001b[1;32m    970\u001b[0m               validator]\n\u001b[1;32m    971\u001b[0m         \u001b[38;5;28;01mfor\u001b[39;00m key, validator \u001b[38;5;129;01min\u001b[39;00m rcsetup\u001b[38;5;241m.\u001b[39m_validators\u001b[38;5;241m.\u001b[39mitems()}\n\u001b[1;32m    972\u001b[0m \u001b[38;5;28;01mif\u001b[39;00m rcParams[\u001b[38;5;124m'\u001b[39m\u001b[38;5;124maxes.formatter.use_locale\u001b[39m\u001b[38;5;124m'\u001b[39m]:\n\u001b[1;32m    973\u001b[0m     locale\u001b[38;5;241m.\u001b[39msetlocale(locale\u001b[38;5;241m.\u001b[39mLC_ALL, \u001b[38;5;124m'\u001b[39m\u001b[38;5;124m'\u001b[39m)\n",
      "File \u001b[0;32m~/miniconda3/lib/python3.8/site-packages/matplotlib/__init__.py:746\u001b[0m, in \u001b[0;36mRcParams.__getitem__\u001b[0;34m(self, key)\u001b[0m\n\u001b[1;32m    743\u001b[0m         \u001b[38;5;28;01mfrom\u001b[39;00m \u001b[38;5;21;01mmatplotlib\u001b[39;00m \u001b[38;5;28;01mimport\u001b[39;00m pyplot \u001b[38;5;28;01mas\u001b[39;00m plt\n\u001b[1;32m    744\u001b[0m         plt\u001b[38;5;241m.\u001b[39mswitch_backend(rcsetup\u001b[38;5;241m.\u001b[39m_auto_backend_sentinel)\n\u001b[0;32m--> 746\u001b[0m \u001b[38;5;28;01mreturn\u001b[39;00m \u001b[38;5;28;43mself\u001b[39;49m\u001b[38;5;241;43m.\u001b[39;49m\u001b[43m_get\u001b[49m\u001b[43m(\u001b[49m\u001b[43mkey\u001b[49m\u001b[43m)\u001b[49m\n",
      "File \u001b[0;32m~/miniconda3/lib/python3.8/site-packages/matplotlib/__init__.py:693\u001b[0m, in \u001b[0;36mRcParams._get\u001b[0;34m(self, key)\u001b[0m\n\u001b[1;32m    674\u001b[0m \u001b[38;5;28;01mdef\u001b[39;00m \u001b[38;5;21m_get\u001b[39m(\u001b[38;5;28mself\u001b[39m, key):\n\u001b[1;32m    675\u001b[0m \u001b[38;5;250m    \u001b[39m\u001b[38;5;124;03m\"\"\"\u001b[39;00m\n\u001b[1;32m    676\u001b[0m \u001b[38;5;124;03m    Directly read data bypassing deprecation, backend and validation\u001b[39;00m\n\u001b[1;32m    677\u001b[0m \u001b[38;5;124;03m    logic.\u001b[39;00m\n\u001b[0;32m   (...)\u001b[0m\n\u001b[1;32m    691\u001b[0m \u001b[38;5;124;03m    :meta public:\u001b[39;00m\n\u001b[1;32m    692\u001b[0m \u001b[38;5;124;03m    \"\"\"\u001b[39;00m\n\u001b[0;32m--> 693\u001b[0m     \u001b[38;5;28;01mreturn\u001b[39;00m \u001b[38;5;28;43mdict\u001b[39;49m\u001b[38;5;241;43m.\u001b[39;49m\u001b[38;5;21;43m__getitem__\u001b[39;49m\u001b[43m(\u001b[49m\u001b[38;5;28;43mself\u001b[39;49m\u001b[43m,\u001b[49m\u001b[43m \u001b[49m\u001b[43mkey\u001b[49m\u001b[43m)\u001b[49m\n",
      "\u001b[0;31mKeyError\u001b[0m: 'figure.hooks'"
     ]
    }
   ],
   "source": [
    "import matplotlib.pyplot as plt"
   ]
  },
  {
   "cell_type": "code",
   "execution_count": 20,
   "id": "bec546d7-ea37-4035-af78-d498a9e95454",
   "metadata": {
    "tags": []
   },
   "outputs": [],
   "source": [
    "import matplotlib.pyplot as plt\n",
    "# 支持中文\n",
    "plt.rcParams['font.sans-serif'] = ['SimHei']  # 用来正常显示中文标签\n",
    "plt.rcParams['axes.unicode_minus'] = False  # 用来正常显示负号"
   ]
  },
  {
   "cell_type": "code",
   "execution_count": 13,
   "id": "44f4a5c1-b7c4-4175-bde9-0846aa426eb2",
   "metadata": {},
   "outputs": [
    {
     "ename": "NameError",
     "evalue": "name 'final_aligned_X' is not defined",
     "output_type": "error",
     "traceback": [
      "\u001b[0;31m---------------------------------------------------------------------------\u001b[0m",
      "\u001b[0;31mNameError\u001b[0m                                 Traceback (most recent call last)",
      "\u001b[0;32m/tmp/ipykernel_5942/2242347505.py\u001b[0m in \u001b[0;36m<module>\u001b[0;34m\u001b[0m\n\u001b[1;32m      1\u001b[0m \u001b[0;31m# Update the word vectors in the second model with the aligned vectors\u001b[0m\u001b[0;34m\u001b[0m\u001b[0;34m\u001b[0m\u001b[0;34m\u001b[0m\u001b[0m\n\u001b[1;32m      2\u001b[0m \u001b[0;32mfor\u001b[0m \u001b[0mi\u001b[0m\u001b[0;34m,\u001b[0m \u001b[0mword\u001b[0m \u001b[0;32min\u001b[0m \u001b[0menumerate\u001b[0m\u001b[0;34m(\u001b[0m\u001b[0mcommon_vocab\u001b[0m\u001b[0;34m)\u001b[0m\u001b[0;34m:\u001b[0m\u001b[0;34m\u001b[0m\u001b[0;34m\u001b[0m\u001b[0m\n\u001b[0;32m----> 3\u001b[0;31m     \u001b[0mmodel\u001b[0m\u001b[0;34m.\u001b[0m\u001b[0mwv\u001b[0m\u001b[0;34m[\u001b[0m\u001b[0mword\u001b[0m\u001b[0;34m]\u001b[0m \u001b[0;34m=\u001b[0m \u001b[0mfinal_aligned_X\u001b[0m\u001b[0;34m[\u001b[0m\u001b[0mi\u001b[0m\u001b[0;34m]\u001b[0m\u001b[0;34m\u001b[0m\u001b[0;34m\u001b[0m\u001b[0m\n\u001b[0m",
      "\u001b[0;31mNameError\u001b[0m: name 'final_aligned_X' is not defined"
     ]
    }
   ],
   "source": [
    "# Update the word vectors in the second model with the aligned vectors\n",
    "for i, word in enumerate(common_vocab):\n",
    "    model.wv[word] = final_aligned_X[i]"
   ]
  },
  {
   "cell_type": "code",
   "execution_count": null,
   "id": "40d85d9c-9458-4a6e-b59b-191815eb4780",
   "metadata": {},
   "outputs": [],
   "source": [
    "import numpy as np\n",
    "from sklearn.manifold import TSNE\n",
    "import matplotlib.pyplot as plt\n",
    "from mpl_toolkits.mplot3d import Axes3D\n",
    "\n",
    "word_vectors1_tsne = TSNE(n_components=3,random_state=42,perplexity=30).fit_transform(W1)\n",
    "word_vectors2_tsne = TSNE(n_components=3,random_state=42,perplexity=30).fit_transform(aligned_Y)\n",
    "word_vectors3_tsne = TSNE(n_components=3,random_state=42,perplexity=30).fit_transform(aligned_Z)\n"
   ]
  },
  {
   "cell_type": "markdown",
   "id": "c43a071a-26f0-488f-9b51-859f93e51c1b",
   "metadata": {},
   "source": [
    "# 可视化三个对齐后的词向量空间"
   ]
  },
  {
   "cell_type": "code",
   "execution_count": 1,
   "id": "f0fb97f6-4920-4895-9f97-05e380d7206f",
   "metadata": {},
   "outputs": [],
   "source": [
    "import numpy as np\n",
    "import matplotlib.pyplot as plt\n",
    "import gensim\n",
    "import re\n",
    "\n",
    "# Load the Word2Vec model\n",
    "model0 = gensim.models.Word2Vec.load('word2vec_0.model')\n",
    "model1 = gensim.models.Word2Vec.load('aligned_model5.model')\n",
    "model2 = gensim.models.Word2Vec.load('aligned_model11.model')"
   ]
  },
  {
   "cell_type": "code",
   "execution_count": 2,
   "id": "99d9550c-83ec-4e2f-b9ad-5b42a7bee501",
   "metadata": {},
   "outputs": [],
   "source": [
    "#定义共同的词汇表\n",
    "vocab0= list(model0.wv.key_to_index.keys())[:4000]\n",
    "vocab1= list(model1.wv.key_to_index.keys())[:4000]\n",
    "vocab2= list(model2.wv.key_to_index.keys())[:4000]"
   ]
  },
  {
   "cell_type": "code",
   "execution_count": 3,
   "id": "b22980f0-d333-4f1c-b3ec-866b11df89e4",
   "metadata": {},
   "outputs": [],
   "source": [
    "common_vocab_ = list((set(vocab0) & set(vocab1) & set(vocab2)))"
   ]
  },
  {
   "cell_type": "code",
   "execution_count": 4,
   "id": "6ddcc142-2fbd-4a42-b6e0-5bb6c71cc802",
   "metadata": {},
   "outputs": [],
   "source": [
    "common_vocab = [word for word in common_vocab_ if re.compile(r\"[\\u4e00-\\u9fa5]+\").fullmatch(word)] # 取前1000个词汇"
   ]
  },
  {
   "cell_type": "code",
   "execution_count": 23,
   "id": "67323c9e-0f00-46c3-9222-c28ed4064ea3",
   "metadata": {},
   "outputs": [],
   "source": [
    "#common_vocab"
   ]
  },
  {
   "cell_type": "code",
   "execution_count": 34,
   "id": "ca365c4e-dcf8-4a63-be48-a215fd69042d",
   "metadata": {},
   "outputs": [],
   "source": [
    "#定义要绘制的单词\n",
    "words = ['中国','肺炎','黑人','女人','歧视']\n",
    "\n",
    "#获取要绘制的单词的索引\n",
    "word_indices_0 = [model0.wv.key_to_index[word] for word in words]\n",
    "word_indices_1 = [model1.wv.key_to_index[word] for word in words]\n",
    "word_indices_2 = [model2.wv.key_to_index[word] for word in words]"
   ]
  },
  {
   "cell_type": "code",
   "execution_count": 36,
   "id": "1a58f858-3fb0-4ce9-8948-2bb39e632861",
   "metadata": {},
   "outputs": [],
   "source": [
    "#import shutil\n",
    "#import matplotlib\n",
    "\n",
    "#shutil.rmtree(matplotlib.get_cachedir())"
   ]
  },
  {
   "cell_type": "code",
   "execution_count": 37,
   "id": "f9b6318a-961c-47c4-93ff-d8e68aa56e32",
   "metadata": {},
   "outputs": [],
   "source": [
    "from sklearn.manifold import TSNE\n",
    "#from sklearn.decomposition import PCA\n",
    "tsne = TSNE(n_components=2, perplexity=2)\n",
    "#tsne = PCA(n_components=2)"
   ]
  },
  {
   "cell_type": "code",
   "execution_count": 73,
   "id": "bdb60b8a-c755-4c37-9942-97fed54f081c",
   "metadata": {},
   "outputs": [
    {
     "name": "stderr",
     "output_type": "stream",
     "text": [
      "/root/miniconda3/lib/python3.8/site-packages/sklearn/manifold/_t_sne.py:800: FutureWarning: The default initialization in TSNE will change from 'random' to 'pca' in 1.2.\n",
      "  warnings.warn(\n",
      "/root/miniconda3/lib/python3.8/site-packages/sklearn/manifold/_t_sne.py:810: FutureWarning: The default learning rate in TSNE will change from 200.0 to 'auto' in 1.2.\n",
      "  warnings.warn(\n",
      "/root/miniconda3/lib/python3.8/site-packages/sklearn/manifold/_t_sne.py:800: FutureWarning: The default initialization in TSNE will change from 'random' to 'pca' in 1.2.\n",
      "  warnings.warn(\n",
      "/root/miniconda3/lib/python3.8/site-packages/sklearn/manifold/_t_sne.py:810: FutureWarning: The default learning rate in TSNE will change from 200.0 to 'auto' in 1.2.\n",
      "  warnings.warn(\n",
      "/root/miniconda3/lib/python3.8/site-packages/sklearn/manifold/_t_sne.py:800: FutureWarning: The default initialization in TSNE will change from 'random' to 'pca' in 1.2.\n",
      "  warnings.warn(\n",
      "/root/miniconda3/lib/python3.8/site-packages/sklearn/manifold/_t_sne.py:810: FutureWarning: The default learning rate in TSNE will change from 200.0 to 'auto' in 1.2.\n",
      "  warnings.warn(\n"
     ]
    },
    {
     "data": {
      "image/png": "[encoded data removed]",
      "text/plain": [
       "<Figure size 432x288 with 1 Axes>"
      ]
     },
     "metadata": {
      "needs_background": "light"
     },
     "output_type": "display_data"
    },
    {
     "data": {
      "text/plain": [
       "<Figure size 432x288 with 0 Axes>"
      ]
     },
     "metadata": {},
     "output_type": "display_data"
    }
   ],
   "source": [
    "#获取要绘制的单词的向量\n",
    "vector_0 = model0.wv.vectors[word_indices_0]\n",
    "vector_1 = model1.wv.vectors[word_indices_1]\n",
    "vector_2 = model2.wv.vectors[word_indices_2]\n",
    "\n",
    "vector_0 = tsne.fit_transform(vector_0)\n",
    "vector_1 = tsne.fit_transform(vector_1)\n",
    "vector_2 = tsne.fit_transform(vector_2)\n",
    "\n",
    "#绘制散点图\n",
    "plt.scatter(vector_0[4, 0], vector_0[4, 1], color = 'blue')\n",
    "plt.scatter(vector_1[4, 0], vector_1[4, 1], color = 'green')\n",
    "plt.scatter(vector_2[:, 0], vector_2[:, 1], color = 'red')\n",
    "\n",
    "\n",
    "#为单词添加标签\n",
    "for i, word in enumerate(words):\n",
    "    plt.annotate(\"中国_2019年12月\" if word == '中国' else \"肺炎_2019年12月\" if word == '肺炎' else \"黑人_2019年12月\" if word == '黑人'else \"女人_2019年12月\" if word == '女人' else \"歧视_2019年12月\" if word == '歧视' else \"\", xy=(vector_0[i, 0], vector_0[i, 1]))\n",
    "\n",
    "#为单词添加标签\n",
    "for i, word in enumerate(words):\n",
    "    plt.annotate(\"中国_2020年05月\" if word == '中国' else \"肺炎_2020年05月\" if word == '肺炎' else \"黑人_2020年05月\" if word == '黑人'else \"女人_2020年05月\" if word == '女人' else \"歧视_2020年05月\" if word == '歧视' else \"\", xy=(vector_1[i, 0], vector_1[i, 1]))\n",
    "    \n",
    "#为单词添加标签 \n",
    "for i, word in enumerate(words):\n",
    "    plt.annotate(\"中国_2020年11月\" if word == '中国' else \"肺炎_2020年11月\" if word == '肺炎' else \"黑人_2020年11月\" if word == '黑人' else \"女人_2020年05月\" if word == '女人'else \"歧视_2020年11月\" if word == '歧视' else \"\", xy=(vector_2[i, 0], vector_2[i, 1]))\n",
    "'''\n",
    "#绘制相同词两点之间的线段\n",
    "for i in range(len(words)):\n",
    "    plt.arrow(vector_0[i, 0], vector_0[i, 1], vector_1[i, 0]-vector_0[i, 0], vector_1[i, 1]-vector_0[i, 1], head_length=0.01, fc='k', ec='k')\n",
    "    plt.arrow(vector_1[i, 0], vector_1[i, 1], vector_2[i, 0]-vector_1[i, 0], vector_2[i, 1]-vector_1[i, 1], head_length=0.01, fc='k', ec='k')\n",
    "'''\n",
    "# 显示图形\n",
    "plt.show()\n",
    "plt.savefig('./figure.pdf', format='pdf')"
   ]
  },
  {
   "cell_type": "code",
   "execution_count": 148,
   "id": "04c39d3e-e317-49e7-8bfd-eda7d5c98a52",
   "metadata": {
    "tags": []
   },
   "outputs": [],
   "source": [
    "model = gensim.models.Word2Vec.load('word2vec_11.model')"
   ]
  },
  {
   "cell_type": "code",
   "execution_count": 150,
   "id": "cbf7a5f8-d7e4-4565-829c-4d7271f3d21f",
   "metadata": {
    "tags": []
   },
   "outputs": [
    {
     "name": "stdout",
     "output_type": "stream",
     "text": [
      "The top 10 words that are most similar to \"隔离\" and their similarity are: [('隔离', 0.9999999), ('居家', 0.5079379), ('检验', 0.4769548), ('检疫', 0.4647197), ('看守所', 0.44843668), ('程序', 0.44081578), ('自我', 0.4391149), ('观察', 0.4224017), ('中午', 0.41909704), ('穿', 0.41675156), ('蒙古', 0.41282862), ('羊', 0.4091948), ('间', 0.39983118), ('入境', 0.39972597), ('集中', 0.3996463), ('开心', 0.39492625), ('医学观察', 0.39077923), ('一辆', 0.3787737), ('戴', 0.3734352), ('天后', 0.36340076)]\n"
     ]
    }
   ],
   "source": [
    "from sklearn.metrics.pairwise import cosine_similarity\n",
    "from scipy import sparse\n",
    "\n",
    "# 计算每个单词与整个语料库中所有单词的平均词向量之间的余弦相似度\n",
    "word = '隔离'\n",
    "similarity_scores = {}\n",
    "for vocab in common_vocab:\n",
    "    similarity = cosine_similarity([model.wv[word]], [model.wv[vocab]])\n",
    "    similarity_scores[vocab] = similarity[0][0]\n",
    "    \n",
    "# 对相似度进行排序，获取前10个相似单词\n",
    "similar_words = sorted(similarity_scores.items(), key=lambda x: x[1], reverse=True)[:20]\n",
    "print(f'The top 10 words that are most similar to \"{word}\" and their similarity are: {similar_words}')\n"
   ]
  },
  {
   "cell_type": "code",
   "execution_count": 96,
   "id": "72cf51c4-3be7-43ce-a3cb-fe24e1d8c175",
   "metadata": {
    "tags": []
   },
   "outputs": [
    {
     "ename": "SyntaxError",
     "evalue": "invalid syntax (372039165.py, line 1)",
     "output_type": "error",
     "traceback": [
      "\u001b[0;36m  Cell \u001b[0;32mIn[96], line 1\u001b[0;36m\u001b[0m\n\u001b[0;31m    不明  新冠\u001b[0m\n\u001b[0m        ^\u001b[0m\n\u001b[0;31mSyntaxError\u001b[0m\u001b[0;31m:\u001b[0m invalid syntax\n"
     ]
    }
   ],
   "source": [
    " 报税 重疾险"
   ]
  },
  {
   "cell_type": "code",
   "execution_count": null,
   "id": "583e3b75-3dcb-4856-8ae2-2f2c9506fb9c",
   "metadata": {},
   "outputs": [],
   "source": []
  },
  {
   "cell_type": "code",
   "execution_count": null,
   "id": "6f7a0075-b120-4279-9fd0-3afe547ef77d",
   "metadata": {},
   "outputs": [],
   "source": [
    "# 使用稀疏矩阵计算两个词向量矩阵之间的相似度\n",
    "matrix = model.wv.vectors\n",
    "similarity_matrix = cosine_similarity(sparse.csr_matrix(matrix))f\n",
    "print(f'词向量空间中第一个单词与第二个单词之间的余弦相似度为：{similarity_matrix[0, 1]}')"
   ]
  }
 ],
 "metadata": {
  "kernelspec": {
   "display_name": "Python 3 (ipykernel)",
   "language": "python",
   "name": "python3"
  },
  "language_info": {
   "codemirror_mode": {
    "name": "ipython",
    "version": 3
   },
   "file_extension": ".py",
   "mimetype": "text/x-python",
   "name": "python",
   "nbconvert_exporter": "python",
   "pygments_lexer": "ipython3",
   "version": "3.8.10"
  }
 },
 "nbformat": 4,
 "nbformat_minor": 5
}
